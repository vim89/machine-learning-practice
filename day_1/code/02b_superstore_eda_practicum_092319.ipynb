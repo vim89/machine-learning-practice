{
 "cells": [
  {
   "cell_type": "markdown",
   "metadata": {
    "inputHidden": false,
    "outputHidden": false
   },
   "source": [
    "# Superstore Exploratory Data Analysis\n",
    "\n",
    "Over the course of the next **90 minutes**, you will apply the exploratory data analysis techniques from the previous session as well as the prework, to a new dataset.\n",
    "This is an open ended exercise and is meant to allow everyone some time to learn from one another, apply what you've learned so far and have some **FUN** along the way!\n",
    "\n",
    "## ***Practicum Assignment***\n"
   ]
  },
  {
   "cell_type": "markdown",
   "metadata": {},
   "source": [
    "- Arrange into groups of no larger than five.\n",
    "- Spend about **1h 15 Minutes** determining which questions you would like to answer and carrying out some EDA on the provided dataset.\n",
    "- Spend the last **10-15 Minutes** on wrapping things up and compiling the learnings you would like to present.\n",
    "- We will spend the final **15 minutes** allowing each team a 3 minute informal standup to speak to what they've discovered during their analysis.**\n",
    "\n",
    "**Focus on EDA and NOT building models. We will dive into that over the course of the next few days.**"
   ]
  },
  {
   "cell_type": "markdown",
   "metadata": {},
   "source": [
    "### Business Context\n",
    "__Superstore__, a major North American office supply store, wants to apply analytics to its sales data to understand their current state, identify areas for efficiency gains, and boost profits. With Superstore's sales data in hand, can you help answer some of the following questions?\n",
    "\n",
    "* How have Superstore's sales been over time/past year/past month? \n",
    "* Are there product groups which are over/under performing their peers? \n",
    "* Are complementry goods being effectively utilized?\n",
    "* Could any adjustments to discount rates be made to potential cause improved profits?\n",
    "* Which City/Section/SubCategory has the best profit margin?\n",
    "* Which product category/sub-category is performing the best/worst?\n",
    "* Feel free to come up with your own question that you find interesting?"
   ]
  },
  {
   "cell_type": "markdown",
   "metadata": {},
   "source": [
    "### Imports"
   ]
  },
  {
   "cell_type": "code",
   "execution_count": null,
   "metadata": {},
   "outputs": [],
   "source": [
    "# These imports are provided just to get you started but feel free to import more libraries as you see fit\n",
    "\n",
    "import pandas as pd\n",
    "import numpy as np\n",
    "import matplotlib.pyplot as plt\n",
    "import seaborn as sns; sns.set()\n",
    "from datetime import datetime\n",
    "%matplotlib inline"
   ]
  },
  {
   "cell_type": "code",
   "execution_count": null,
   "metadata": {},
   "outputs": [],
   "source": [
    "## If you're wondering where the data is you can navigate your directories by envoking the '!'\n",
    "# !ls ../data"
   ]
  },
  {
   "cell_type": "code",
   "execution_count": null,
   "metadata": {},
   "outputs": [],
   "source": [
    "superstores = pd.DataFrame.from_csv(path=\"../data/superstore.csv\", encoding='latin1')"
   ]
  }
 ],
 "metadata": {
  "kernel_info": {
   "name": "python3"
  },
  "kernelspec": {
   "display_name": "Python 3",
   "language": "python",
   "name": "python3"
  },
  "language_info": {
   "codemirror_mode": {
    "name": "ipython",
    "version": 3
   },
   "file_extension": ".py",
   "mimetype": "text/x-python",
   "name": "python",
   "nbconvert_exporter": "python",
   "pygments_lexer": "ipython3",
   "version": "3.7.3"
  },
  "nteract": {
   "version": "0.12.2"
  },
  "toc": {
   "base_numbering": 1,
   "nav_menu": {},
   "number_sections": true,
   "sideBar": true,
   "skip_h1_title": false,
   "title_cell": "Table of Contents",
   "title_sidebar": "Contents",
   "toc_cell": false,
   "toc_position": {},
   "toc_section_display": true,
   "toc_window_display": false
  },
  "varInspector": {
   "cols": {
    "lenName": 16,
    "lenType": 16,
    "lenVar": 40
   },
   "kernels_config": {
    "python": {
     "delete_cmd_postfix": "",
     "delete_cmd_prefix": "del ",
     "library": "var_list.py",
     "varRefreshCmd": "print(var_dic_list())"
    },
    "r": {
     "delete_cmd_postfix": ") ",
     "delete_cmd_prefix": "rm(",
     "library": "var_list.r",
     "varRefreshCmd": "cat(var_dic_list()) "
    }
   },
   "types_to_exclude": [
    "module",
    "function",
    "builtin_function_or_method",
    "instance",
    "_Feature"
   ],
   "window_display": false
  }
 },
 "nbformat": 4,
 "nbformat_minor": 4
}
