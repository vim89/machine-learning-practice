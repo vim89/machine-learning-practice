{
 "cells": [
  {
   "cell_type": "markdown",
   "metadata": {
    "inputHidden": false,
    "outputHidden": false
   },
   "source": [
    "# FIFA 2019: Exploratory Data Analysis\n",
    "\n",
    "Over the course of the next **90 minutes**, you will apply the exploratory data analysis techniques from the previous session as well as the prework, to a new dataset.\n",
    "This is an open ended exercise and is meant to allow everyone some time to learn from one another, apply what you've learned so far and have some **FUN** along the way!\n",
    "\n",
    "## ***Practicum Assignment***\n"
   ]
  },
  {
   "cell_type": "markdown",
   "metadata": {},
   "source": [
    "- Arrange into groups of no larger than five.\n",
    "- Spend about **1h 15 Minutes** determining which questions you would like to answer and carrying out some EDA on the provided dataset.\n",
    "- Spend the last **10-15 Minutes** on wrapping things up and compiling the learnings you would like to present.\n",
    "- We will spend the final **15 minutes** allowing each team a 3 minute informal standup to speak to what they've discovered during their analysis.**\n",
    "\n",
    "**Focus on EDA and NOT building models. We will dive into that over the course of the next few days.**"
   ]
  },
  {
   "cell_type": "markdown",
   "metadata": {},
   "source": [
    "### Business Context\n",
    "\n",
    "The movie [__Money Ball__ ](https://en.wikipedia.org/wiki/Moneyball_(film)) popularized to the general public what most insiders in the industry already know; That is, that player/athlete statistics could be analysed to maximize team performance and reduce spend in athlete contracts. Although our dataset is much more limited than what's used in the industry, I wanted to give you an opportunity to play with data and start getting an idea of how EDA, could help you in the development of hypotheses', for making player selections, and understanding data in the context of our sporting example.\n",
    "\n",
    "**Who knows, you may even take some of what you've learned here and apply it to your fantasy football/basketball/Hockey/Rugby/Cricket league tournaments.**\n",
    "\n",
    "The [__FIFA19__](https://www.kaggle.com/karangadiya/fifa19) dataset was conveniently picked up from Kaggle, and provides a host off different attributes associated with each of the 90 most popular players in football to currently active. Please refer to the kaggle link to investigate the schema and dictionary for the fifa dataset.\n",
    "\n",
    "* Which players are the most valuable?\n",
    "* Which players are paid the best and can you determine why?\n",
    "* Are some players overpaid/underpaid?\n",
    "* Which countries statistically, produce the 'best' footballers (notice my subjective use of best)?\n",
    "* What is the age/wage/value distribution of footballers\n",
    "* Is their a correlation between 'performance' and physical size/value/wage etc...?\n",
    "\n",
    "**You get the picture. Inspect the dataset and come up with some of your own questions you'd like to investigate**\n",
    "\n",
    "**Note, spend some time thinking about what you'd like to investigate and why before you dive into the coding**\n"
   ]
  },
  {
   "cell_type": "markdown",
   "metadata": {},
   "source": [
    "### Imports"
   ]
  },
  {
   "cell_type": "code",
   "execution_count": null,
   "metadata": {},
   "outputs": [],
   "source": [
    "# These imports are provided just to get you started but feel free to import more libraries as you see fit\n",
    "\n",
    "import pandas as pd\n",
    "import numpy as np\n",
    "import matplotlib.pyplot as plt\n",
    "import seaborn as sns; sns.set()\n",
    "from datetime import datetime\n",
    "%matplotlib inline"
   ]
  },
  {
   "cell_type": "code",
   "execution_count": null,
   "metadata": {},
   "outputs": [],
   "source": [
    "# !ls ../data"
   ]
  },
  {
   "cell_type": "code",
   "execution_count": null,
   "metadata": {},
   "outputs": [],
   "source": [
    "# fifa = pd.DataFrame.from_csv(\"../data/fifa19.csv\", encoding='latin1')"
   ]
  },
  {
   "cell_type": "code",
   "execution_count": null,
   "metadata": {},
   "outputs": [],
   "source": []
  }
 ],
 "metadata": {
  "kernel_info": {
   "name": "python3"
  },
  "kernelspec": {
   "display_name": "Python 3",
   "language": "python",
   "name": "python3"
  },
  "language_info": {
   "codemirror_mode": {
    "name": "ipython",
    "version": 3
   },
   "file_extension": ".py",
   "mimetype": "text/x-python",
   "name": "python",
   "nbconvert_exporter": "python",
   "pygments_lexer": "ipython3",
   "version": "3.7.3"
  },
  "nteract": {
   "version": "0.12.2"
  },
  "toc": {
   "base_numbering": 1,
   "nav_menu": {},
   "number_sections": true,
   "sideBar": true,
   "skip_h1_title": false,
   "title_cell": "Table of Contents",
   "title_sidebar": "Contents",
   "toc_cell": false,
   "toc_position": {},
   "toc_section_display": true,
   "toc_window_display": false
  },
  "varInspector": {
   "cols": {
    "lenName": 16,
    "lenType": 16,
    "lenVar": 40
   },
   "kernels_config": {
    "python": {
     "delete_cmd_postfix": "",
     "delete_cmd_prefix": "del ",
     "library": "var_list.py",
     "varRefreshCmd": "print(var_dic_list())"
    },
    "r": {
     "delete_cmd_postfix": ") ",
     "delete_cmd_prefix": "rm(",
     "library": "var_list.r",
     "varRefreshCmd": "cat(var_dic_list()) "
    }
   },
   "types_to_exclude": [
    "module",
    "function",
    "builtin_function_or_method",
    "instance",
    "_Feature"
   ],
   "window_display": false
  }
 },
 "nbformat": 4,
 "nbformat_minor": 4
}
