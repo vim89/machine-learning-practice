{
 "cells": [
  {
   "cell_type": "code",
   "execution_count": 1,
   "metadata": {},
   "outputs": [],
   "source": [
    "import pandas as pd\n",
    "from pathlib import Path\n",
    "import glob\n",
    "from sklearn.model_selection import train_test_split\n",
    "from sklearn.linear_model import LinearRegression\n",
    "from sklearn import metrics\n",
    "import numpy as np\n",
    "from math import sqrt"
   ]
  },
  {
   "cell_type": "markdown",
   "metadata": {},
   "source": [
    "## Find your dataset"
   ]
  },
  {
   "cell_type": "code",
   "execution_count": 2,
   "metadata": {},
   "outputs": [],
   "source": [
    "import matplotlib.pyplot as plt\n",
    "%matplotlib inline\n",
    "import seaborn as sns"
   ]
  },
  {
   "cell_type": "markdown",
   "metadata": {},
   "source": [
    "We'll take a look at some data from https://www.baseball-reference.com/"
   ]
  },
  {
   "cell_type": "code",
   "execution_count": 3,
   "metadata": {},
   "outputs": [
    {
     "data": {
      "text/plain": [
       "PosixPath('/Users/austinlasseter/atelier/generalassembly/DATDC33/Lesson11_Evaluating_Linear_Regression/code')"
      ]
     },
     "execution_count": 3,
     "metadata": {},
     "output_type": "execute_result"
    }
   ],
   "source": [
    "# What's our current working directory?\n",
    "home_plate=Path.cwd()\n",
    "home_plate"
   ]
  },
  {
   "cell_type": "code",
   "execution_count": 4,
   "metadata": {},
   "outputs": [
    {
     "data": {
      "text/plain": [
       "PosixPath('/Users/austinlasseter/atelier/generalassembly/DATDC33/Lesson11_Evaluating_Linear_Regression/data')"
      ]
     },
     "execution_count": 4,
     "metadata": {},
     "output_type": "execute_result"
    }
   ],
   "source": [
    "# What's the path from there to our data folder?\n",
    "dugout=Path.joinpath(home_plate.parent, 'data')\n",
    "dugout"
   ]
  },
  {
   "cell_type": "code",
   "execution_count": 5,
   "metadata": {},
   "outputs": [
    {
     "name": "stdout",
     "output_type": "stream",
     "text": [
      "sacramento.csv\n",
      "diabetes_data_dictionary.pdf\n",
      "counties.csv\n",
      "beer_ratings.csv\n",
      "hitters.csv\n"
     ]
    }
   ],
   "source": [
    "# What's in there?\n",
    "for player in dugout.glob('*'):\n",
    "    print(player.name)"
   ]
  },
  {
   "cell_type": "markdown",
   "metadata": {},
   "source": [
    "## Exploratory Data Analysis"
   ]
  },
  {
   "cell_type": "code",
   "execution_count": 6,
   "metadata": {},
   "outputs": [
    {
     "data": {
      "text/html": [
       "<div>\n",
       "<style scoped>\n",
       "    .dataframe tbody tr th:only-of-type {\n",
       "        vertical-align: middle;\n",
       "    }\n",
       "\n",
       "    .dataframe tbody tr th {\n",
       "        vertical-align: top;\n",
       "    }\n",
       "\n",
       "    .dataframe thead th {\n",
       "        text-align: right;\n",
       "    }\n",
       "</style>\n",
       "<table border=\"1\" class=\"dataframe\">\n",
       "  <thead>\n",
       "    <tr style=\"text-align: right;\">\n",
       "      <th></th>\n",
       "      <th>AtBat</th>\n",
       "      <th>Hits</th>\n",
       "      <th>HmRun</th>\n",
       "      <th>Runs</th>\n",
       "      <th>RBI</th>\n",
       "      <th>Walks</th>\n",
       "      <th>Years</th>\n",
       "      <th>CAtBat</th>\n",
       "      <th>CHits</th>\n",
       "      <th>CHmRun</th>\n",
       "      <th>CRuns</th>\n",
       "      <th>CRBI</th>\n",
       "      <th>CWalks</th>\n",
       "      <th>League</th>\n",
       "      <th>Division</th>\n",
       "      <th>PutOuts</th>\n",
       "      <th>Assists</th>\n",
       "      <th>Errors</th>\n",
       "      <th>Salary</th>\n",
       "      <th>NewLeague</th>\n",
       "    </tr>\n",
       "  </thead>\n",
       "  <tbody>\n",
       "    <tr>\n",
       "      <th>0</th>\n",
       "      <td>293</td>\n",
       "      <td>66</td>\n",
       "      <td>1</td>\n",
       "      <td>30</td>\n",
       "      <td>29</td>\n",
       "      <td>14</td>\n",
       "      <td>1</td>\n",
       "      <td>293</td>\n",
       "      <td>66</td>\n",
       "      <td>1</td>\n",
       "      <td>30</td>\n",
       "      <td>29</td>\n",
       "      <td>14</td>\n",
       "      <td>A</td>\n",
       "      <td>E</td>\n",
       "      <td>446</td>\n",
       "      <td>33</td>\n",
       "      <td>20</td>\n",
       "      <td>NaN</td>\n",
       "      <td>A</td>\n",
       "    </tr>\n",
       "    <tr>\n",
       "      <th>1</th>\n",
       "      <td>315</td>\n",
       "      <td>81</td>\n",
       "      <td>7</td>\n",
       "      <td>24</td>\n",
       "      <td>38</td>\n",
       "      <td>39</td>\n",
       "      <td>14</td>\n",
       "      <td>3449</td>\n",
       "      <td>835</td>\n",
       "      <td>69</td>\n",
       "      <td>321</td>\n",
       "      <td>414</td>\n",
       "      <td>375</td>\n",
       "      <td>N</td>\n",
       "      <td>W</td>\n",
       "      <td>632</td>\n",
       "      <td>43</td>\n",
       "      <td>10</td>\n",
       "      <td>475.0</td>\n",
       "      <td>N</td>\n",
       "    </tr>\n",
       "    <tr>\n",
       "      <th>2</th>\n",
       "      <td>479</td>\n",
       "      <td>130</td>\n",
       "      <td>18</td>\n",
       "      <td>66</td>\n",
       "      <td>72</td>\n",
       "      <td>76</td>\n",
       "      <td>3</td>\n",
       "      <td>1624</td>\n",
       "      <td>457</td>\n",
       "      <td>63</td>\n",
       "      <td>224</td>\n",
       "      <td>266</td>\n",
       "      <td>263</td>\n",
       "      <td>A</td>\n",
       "      <td>W</td>\n",
       "      <td>880</td>\n",
       "      <td>82</td>\n",
       "      <td>14</td>\n",
       "      <td>480.0</td>\n",
       "      <td>A</td>\n",
       "    </tr>\n",
       "    <tr>\n",
       "      <th>3</th>\n",
       "      <td>496</td>\n",
       "      <td>141</td>\n",
       "      <td>20</td>\n",
       "      <td>65</td>\n",
       "      <td>78</td>\n",
       "      <td>37</td>\n",
       "      <td>11</td>\n",
       "      <td>5628</td>\n",
       "      <td>1575</td>\n",
       "      <td>225</td>\n",
       "      <td>828</td>\n",
       "      <td>838</td>\n",
       "      <td>354</td>\n",
       "      <td>N</td>\n",
       "      <td>E</td>\n",
       "      <td>200</td>\n",
       "      <td>11</td>\n",
       "      <td>3</td>\n",
       "      <td>500.0</td>\n",
       "      <td>N</td>\n",
       "    </tr>\n",
       "    <tr>\n",
       "      <th>4</th>\n",
       "      <td>321</td>\n",
       "      <td>87</td>\n",
       "      <td>10</td>\n",
       "      <td>39</td>\n",
       "      <td>42</td>\n",
       "      <td>30</td>\n",
       "      <td>2</td>\n",
       "      <td>396</td>\n",
       "      <td>101</td>\n",
       "      <td>12</td>\n",
       "      <td>48</td>\n",
       "      <td>46</td>\n",
       "      <td>33</td>\n",
       "      <td>N</td>\n",
       "      <td>E</td>\n",
       "      <td>805</td>\n",
       "      <td>40</td>\n",
       "      <td>4</td>\n",
       "      <td>91.5</td>\n",
       "      <td>N</td>\n",
       "    </tr>\n",
       "  </tbody>\n",
       "</table>\n",
       "</div>"
      ],
      "text/plain": [
       "   AtBat  Hits  HmRun  Runs  RBI  Walks  Years  CAtBat  CHits  CHmRun  CRuns  \\\n",
       "0    293    66      1    30   29     14      1     293     66       1     30   \n",
       "1    315    81      7    24   38     39     14    3449    835      69    321   \n",
       "2    479   130     18    66   72     76      3    1624    457      63    224   \n",
       "3    496   141     20    65   78     37     11    5628   1575     225    828   \n",
       "4    321    87     10    39   42     30      2     396    101      12     48   \n",
       "\n",
       "   CRBI  CWalks League Division  PutOuts  Assists  Errors  Salary NewLeague  \n",
       "0    29      14      A        E      446       33      20     NaN         A  \n",
       "1   414     375      N        W      632       43      10   475.0         N  \n",
       "2   266     263      A        W      880       82      14   480.0         A  \n",
       "3   838     354      N        E      200       11       3   500.0         N  \n",
       "4    46      33      N        E      805       40       4    91.5         N  "
      ]
     },
     "execution_count": 6,
     "metadata": {},
     "output_type": "execute_result"
    }
   ],
   "source": [
    "# Let's open the hitters dataset.\n",
    "hitters_file = Path.joinpath(dugout, 'hitters.csv')\n",
    "baseball = pd.read_csv(hitters_file)\n",
    "baseball.head()"
   ]
  },
  {
   "cell_type": "code",
   "execution_count": 7,
   "metadata": {},
   "outputs": [
    {
     "data": {
      "text/plain": [
       "(322, 20)"
      ]
     },
     "execution_count": 7,
     "metadata": {},
     "output_type": "execute_result"
    }
   ],
   "source": [
    "# How large is the dataset?\n",
    "baseball.shape"
   ]
  },
  {
   "cell_type": "code",
   "execution_count": 8,
   "metadata": {},
   "outputs": [
    {
     "data": {
      "text/plain": [
       "Index(['AtBat', 'Hits', 'HmRun', 'Runs', 'RBI', 'Walks', 'Years', 'CAtBat',\n",
       "       'CHits', 'CHmRun', 'CRuns', 'CRBI', 'CWalks', 'League', 'Division',\n",
       "       'PutOuts', 'Assists', 'Errors', 'Salary', 'NewLeague'],\n",
       "      dtype='object')"
      ]
     },
     "execution_count": 8,
     "metadata": {},
     "output_type": "execute_result"
    }
   ],
   "source": [
    "# What are the variables?\n",
    "baseball.columns"
   ]
  },
  {
   "cell_type": "code",
   "execution_count": 9,
   "metadata": {},
   "outputs": [
    {
     "data": {
      "text/plain": [
       "AtBat         0\n",
       "Hits          0\n",
       "HmRun         0\n",
       "Runs          0\n",
       "RBI           0\n",
       "Walks         0\n",
       "Years         0\n",
       "CAtBat        0\n",
       "CHits         0\n",
       "CHmRun        0\n",
       "CRuns         0\n",
       "CRBI          0\n",
       "CWalks        0\n",
       "League        0\n",
       "Division      0\n",
       "PutOuts       0\n",
       "Assists       0\n",
       "Errors        0\n",
       "Salary       59\n",
       "NewLeague     0\n",
       "dtype: int64"
      ]
     },
     "execution_count": 9,
     "metadata": {},
     "output_type": "execute_result"
    }
   ],
   "source": [
    "# Is there any missing data?\n",
    "baseball.isnull().sum()"
   ]
  },
  {
   "cell_type": "code",
   "execution_count": 46,
   "metadata": {},
   "outputs": [
    {
     "data": {
      "text/html": [
       "<div>\n",
       "<style scoped>\n",
       "    .dataframe tbody tr th:only-of-type {\n",
       "        vertical-align: middle;\n",
       "    }\n",
       "\n",
       "    .dataframe tbody tr th {\n",
       "        vertical-align: top;\n",
       "    }\n",
       "\n",
       "    .dataframe thead th {\n",
       "        text-align: right;\n",
       "    }\n",
       "</style>\n",
       "<table border=\"1\" class=\"dataframe\">\n",
       "  <thead>\n",
       "    <tr style=\"text-align: right;\">\n",
       "      <th></th>\n",
       "      <th>AtBat</th>\n",
       "      <th>Hits</th>\n",
       "      <th>HmRun</th>\n",
       "      <th>Runs</th>\n",
       "      <th>RBI</th>\n",
       "      <th>Walks</th>\n",
       "      <th>Years</th>\n",
       "      <th>CAtBat</th>\n",
       "      <th>CHits</th>\n",
       "      <th>CHmRun</th>\n",
       "      <th>CRuns</th>\n",
       "      <th>CRBI</th>\n",
       "      <th>CWalks</th>\n",
       "      <th>PutOuts</th>\n",
       "      <th>Assists</th>\n",
       "      <th>Errors</th>\n",
       "      <th>Salary</th>\n",
       "    </tr>\n",
       "  </thead>\n",
       "  <tbody>\n",
       "    <tr>\n",
       "      <th>AtBat</th>\n",
       "      <td>1.000000</td>\n",
       "      <td>0.967939</td>\n",
       "      <td>0.592198</td>\n",
       "      <td>0.913060</td>\n",
       "      <td>0.820539</td>\n",
       "      <td>0.669845</td>\n",
       "      <td>0.047372</td>\n",
       "      <td>0.235526</td>\n",
       "      <td>0.252717</td>\n",
       "      <td>0.236659</td>\n",
       "      <td>0.266534</td>\n",
       "      <td>0.244053</td>\n",
       "      <td>0.166123</td>\n",
       "      <td>0.317550</td>\n",
       "      <td>0.353824</td>\n",
       "      <td>0.352117</td>\n",
       "      <td>0.394771</td>\n",
       "    </tr>\n",
       "    <tr>\n",
       "      <th>Hits</th>\n",
       "      <td>0.967939</td>\n",
       "      <td>1.000000</td>\n",
       "      <td>0.562158</td>\n",
       "      <td>0.922187</td>\n",
       "      <td>0.811073</td>\n",
       "      <td>0.641211</td>\n",
       "      <td>0.044767</td>\n",
       "      <td>0.227565</td>\n",
       "      <td>0.255815</td>\n",
       "      <td>0.202712</td>\n",
       "      <td>0.261787</td>\n",
       "      <td>0.232005</td>\n",
       "      <td>0.151818</td>\n",
       "      <td>0.310673</td>\n",
       "      <td>0.320455</td>\n",
       "      <td>0.310038</td>\n",
       "      <td>0.438675</td>\n",
       "    </tr>\n",
       "    <tr>\n",
       "      <th>HmRun</th>\n",
       "      <td>0.592198</td>\n",
       "      <td>0.562158</td>\n",
       "      <td>1.000000</td>\n",
       "      <td>0.650988</td>\n",
       "      <td>0.855122</td>\n",
       "      <td>0.481014</td>\n",
       "      <td>0.116318</td>\n",
       "      <td>0.221882</td>\n",
       "      <td>0.220627</td>\n",
       "      <td>0.493227</td>\n",
       "      <td>0.262361</td>\n",
       "      <td>0.351979</td>\n",
       "      <td>0.233154</td>\n",
       "      <td>0.282923</td>\n",
       "      <td>-0.106329</td>\n",
       "      <td>0.039318</td>\n",
       "      <td>0.343028</td>\n",
       "    </tr>\n",
       "    <tr>\n",
       "      <th>Runs</th>\n",
       "      <td>0.913060</td>\n",
       "      <td>0.922187</td>\n",
       "      <td>0.650988</td>\n",
       "      <td>1.000000</td>\n",
       "      <td>0.798206</td>\n",
       "      <td>0.732213</td>\n",
       "      <td>0.004541</td>\n",
       "      <td>0.186497</td>\n",
       "      <td>0.204830</td>\n",
       "      <td>0.227913</td>\n",
       "      <td>0.250556</td>\n",
       "      <td>0.205976</td>\n",
       "      <td>0.182168</td>\n",
       "      <td>0.279347</td>\n",
       "      <td>0.220567</td>\n",
       "      <td>0.240475</td>\n",
       "      <td>0.419859</td>\n",
       "    </tr>\n",
       "    <tr>\n",
       "      <th>RBI</th>\n",
       "      <td>0.820539</td>\n",
       "      <td>0.811073</td>\n",
       "      <td>0.855122</td>\n",
       "      <td>0.798206</td>\n",
       "      <td>1.000000</td>\n",
       "      <td>0.615997</td>\n",
       "      <td>0.146168</td>\n",
       "      <td>0.294688</td>\n",
       "      <td>0.308201</td>\n",
       "      <td>0.441771</td>\n",
       "      <td>0.323285</td>\n",
       "      <td>0.393184</td>\n",
       "      <td>0.250914</td>\n",
       "      <td>0.343186</td>\n",
       "      <td>0.106591</td>\n",
       "      <td>0.193370</td>\n",
       "      <td>0.449457</td>\n",
       "    </tr>\n",
       "    <tr>\n",
       "      <th>Walks</th>\n",
       "      <td>0.669845</td>\n",
       "      <td>0.641211</td>\n",
       "      <td>0.481014</td>\n",
       "      <td>0.732213</td>\n",
       "      <td>0.615997</td>\n",
       "      <td>1.000000</td>\n",
       "      <td>0.136475</td>\n",
       "      <td>0.277175</td>\n",
       "      <td>0.280671</td>\n",
       "      <td>0.332473</td>\n",
       "      <td>0.338478</td>\n",
       "      <td>0.308631</td>\n",
       "      <td>0.424507</td>\n",
       "      <td>0.299515</td>\n",
       "      <td>0.149656</td>\n",
       "      <td>0.129382</td>\n",
       "      <td>0.443867</td>\n",
       "    </tr>\n",
       "    <tr>\n",
       "      <th>Years</th>\n",
       "      <td>0.047372</td>\n",
       "      <td>0.044767</td>\n",
       "      <td>0.116318</td>\n",
       "      <td>0.004541</td>\n",
       "      <td>0.146168</td>\n",
       "      <td>0.136475</td>\n",
       "      <td>1.000000</td>\n",
       "      <td>0.920289</td>\n",
       "      <td>0.903631</td>\n",
       "      <td>0.726872</td>\n",
       "      <td>0.882877</td>\n",
       "      <td>0.868812</td>\n",
       "      <td>0.838533</td>\n",
       "      <td>-0.004684</td>\n",
       "      <td>-0.080638</td>\n",
       "      <td>-0.162140</td>\n",
       "      <td>0.400657</td>\n",
       "    </tr>\n",
       "    <tr>\n",
       "      <th>CAtBat</th>\n",
       "      <td>0.235526</td>\n",
       "      <td>0.227565</td>\n",
       "      <td>0.221882</td>\n",
       "      <td>0.186497</td>\n",
       "      <td>0.294688</td>\n",
       "      <td>0.277175</td>\n",
       "      <td>0.920289</td>\n",
       "      <td>1.000000</td>\n",
       "      <td>0.995063</td>\n",
       "      <td>0.798836</td>\n",
       "      <td>0.983345</td>\n",
       "      <td>0.949219</td>\n",
       "      <td>0.906501</td>\n",
       "      <td>0.062283</td>\n",
       "      <td>0.002038</td>\n",
       "      <td>-0.066922</td>\n",
       "      <td>0.526135</td>\n",
       "    </tr>\n",
       "    <tr>\n",
       "      <th>CHits</th>\n",
       "      <td>0.252717</td>\n",
       "      <td>0.255815</td>\n",
       "      <td>0.220627</td>\n",
       "      <td>0.204830</td>\n",
       "      <td>0.308201</td>\n",
       "      <td>0.280671</td>\n",
       "      <td>0.903631</td>\n",
       "      <td>0.995063</td>\n",
       "      <td>1.000000</td>\n",
       "      <td>0.783306</td>\n",
       "      <td>0.984609</td>\n",
       "      <td>0.945141</td>\n",
       "      <td>0.890954</td>\n",
       "      <td>0.076547</td>\n",
       "      <td>-0.002523</td>\n",
       "      <td>-0.062756</td>\n",
       "      <td>0.548910</td>\n",
       "    </tr>\n",
       "    <tr>\n",
       "      <th>CHmRun</th>\n",
       "      <td>0.236659</td>\n",
       "      <td>0.202712</td>\n",
       "      <td>0.493227</td>\n",
       "      <td>0.227913</td>\n",
       "      <td>0.441771</td>\n",
       "      <td>0.332473</td>\n",
       "      <td>0.726872</td>\n",
       "      <td>0.798836</td>\n",
       "      <td>0.783306</td>\n",
       "      <td>1.000000</td>\n",
       "      <td>0.820243</td>\n",
       "      <td>0.929484</td>\n",
       "      <td>0.799983</td>\n",
       "      <td>0.112724</td>\n",
       "      <td>-0.158511</td>\n",
       "      <td>-0.138115</td>\n",
       "      <td>0.524931</td>\n",
       "    </tr>\n",
       "    <tr>\n",
       "      <th>CRuns</th>\n",
       "      <td>0.266534</td>\n",
       "      <td>0.261787</td>\n",
       "      <td>0.262361</td>\n",
       "      <td>0.250556</td>\n",
       "      <td>0.323285</td>\n",
       "      <td>0.338478</td>\n",
       "      <td>0.882877</td>\n",
       "      <td>0.983345</td>\n",
       "      <td>0.984609</td>\n",
       "      <td>0.820243</td>\n",
       "      <td>1.000000</td>\n",
       "      <td>0.943769</td>\n",
       "      <td>0.927807</td>\n",
       "      <td>0.064180</td>\n",
       "      <td>-0.022978</td>\n",
       "      <td>-0.084395</td>\n",
       "      <td>0.562678</td>\n",
       "    </tr>\n",
       "    <tr>\n",
       "      <th>CRBI</th>\n",
       "      <td>0.244053</td>\n",
       "      <td>0.232005</td>\n",
       "      <td>0.351979</td>\n",
       "      <td>0.205976</td>\n",
       "      <td>0.393184</td>\n",
       "      <td>0.308631</td>\n",
       "      <td>0.868812</td>\n",
       "      <td>0.949219</td>\n",
       "      <td>0.945141</td>\n",
       "      <td>0.929484</td>\n",
       "      <td>0.943769</td>\n",
       "      <td>1.000000</td>\n",
       "      <td>0.884726</td>\n",
       "      <td>0.110098</td>\n",
       "      <td>-0.079387</td>\n",
       "      <td>-0.100990</td>\n",
       "      <td>0.566966</td>\n",
       "    </tr>\n",
       "    <tr>\n",
       "      <th>CWalks</th>\n",
       "      <td>0.166123</td>\n",
       "      <td>0.151818</td>\n",
       "      <td>0.233154</td>\n",
       "      <td>0.182168</td>\n",
       "      <td>0.250914</td>\n",
       "      <td>0.424507</td>\n",
       "      <td>0.838533</td>\n",
       "      <td>0.906501</td>\n",
       "      <td>0.890954</td>\n",
       "      <td>0.799983</td>\n",
       "      <td>0.927807</td>\n",
       "      <td>0.884726</td>\n",
       "      <td>1.000000</td>\n",
       "      <td>0.058638</td>\n",
       "      <td>-0.039130</td>\n",
       "      <td>-0.118475</td>\n",
       "      <td>0.489822</td>\n",
       "    </tr>\n",
       "    <tr>\n",
       "      <th>PutOuts</th>\n",
       "      <td>0.317550</td>\n",
       "      <td>0.310673</td>\n",
       "      <td>0.282923</td>\n",
       "      <td>0.279347</td>\n",
       "      <td>0.343186</td>\n",
       "      <td>0.299515</td>\n",
       "      <td>-0.004684</td>\n",
       "      <td>0.062283</td>\n",
       "      <td>0.076547</td>\n",
       "      <td>0.112724</td>\n",
       "      <td>0.064180</td>\n",
       "      <td>0.110098</td>\n",
       "      <td>0.058638</td>\n",
       "      <td>1.000000</td>\n",
       "      <td>-0.025024</td>\n",
       "      <td>0.109972</td>\n",
       "      <td>0.300480</td>\n",
       "    </tr>\n",
       "    <tr>\n",
       "      <th>Assists</th>\n",
       "      <td>0.353824</td>\n",
       "      <td>0.320455</td>\n",
       "      <td>-0.106329</td>\n",
       "      <td>0.220567</td>\n",
       "      <td>0.106591</td>\n",
       "      <td>0.149656</td>\n",
       "      <td>-0.080638</td>\n",
       "      <td>0.002038</td>\n",
       "      <td>-0.002523</td>\n",
       "      <td>-0.158511</td>\n",
       "      <td>-0.022978</td>\n",
       "      <td>-0.079387</td>\n",
       "      <td>-0.039130</td>\n",
       "      <td>-0.025024</td>\n",
       "      <td>1.000000</td>\n",
       "      <td>0.706362</td>\n",
       "      <td>0.025436</td>\n",
       "    </tr>\n",
       "    <tr>\n",
       "      <th>Errors</th>\n",
       "      <td>0.352117</td>\n",
       "      <td>0.310038</td>\n",
       "      <td>0.039318</td>\n",
       "      <td>0.240475</td>\n",
       "      <td>0.193370</td>\n",
       "      <td>0.129382</td>\n",
       "      <td>-0.162140</td>\n",
       "      <td>-0.066922</td>\n",
       "      <td>-0.062756</td>\n",
       "      <td>-0.138115</td>\n",
       "      <td>-0.084395</td>\n",
       "      <td>-0.100990</td>\n",
       "      <td>-0.118475</td>\n",
       "      <td>0.109972</td>\n",
       "      <td>0.706362</td>\n",
       "      <td>1.000000</td>\n",
       "      <td>-0.005401</td>\n",
       "    </tr>\n",
       "    <tr>\n",
       "      <th>Salary</th>\n",
       "      <td>0.394771</td>\n",
       "      <td>0.438675</td>\n",
       "      <td>0.343028</td>\n",
       "      <td>0.419859</td>\n",
       "      <td>0.449457</td>\n",
       "      <td>0.443867</td>\n",
       "      <td>0.400657</td>\n",
       "      <td>0.526135</td>\n",
       "      <td>0.548910</td>\n",
       "      <td>0.524931</td>\n",
       "      <td>0.562678</td>\n",
       "      <td>0.566966</td>\n",
       "      <td>0.489822</td>\n",
       "      <td>0.300480</td>\n",
       "      <td>0.025436</td>\n",
       "      <td>-0.005401</td>\n",
       "      <td>1.000000</td>\n",
       "    </tr>\n",
       "  </tbody>\n",
       "</table>\n",
       "</div>"
      ],
      "text/plain": [
       "            AtBat      Hits     HmRun      Runs       RBI     Walks     Years  \\\n",
       "AtBat    1.000000  0.967939  0.592198  0.913060  0.820539  0.669845  0.047372   \n",
       "Hits     0.967939  1.000000  0.562158  0.922187  0.811073  0.641211  0.044767   \n",
       "HmRun    0.592198  0.562158  1.000000  0.650988  0.855122  0.481014  0.116318   \n",
       "Runs     0.913060  0.922187  0.650988  1.000000  0.798206  0.732213  0.004541   \n",
       "RBI      0.820539  0.811073  0.855122  0.798206  1.000000  0.615997  0.146168   \n",
       "Walks    0.669845  0.641211  0.481014  0.732213  0.615997  1.000000  0.136475   \n",
       "Years    0.047372  0.044767  0.116318  0.004541  0.146168  0.136475  1.000000   \n",
       "CAtBat   0.235526  0.227565  0.221882  0.186497  0.294688  0.277175  0.920289   \n",
       "CHits    0.252717  0.255815  0.220627  0.204830  0.308201  0.280671  0.903631   \n",
       "CHmRun   0.236659  0.202712  0.493227  0.227913  0.441771  0.332473  0.726872   \n",
       "CRuns    0.266534  0.261787  0.262361  0.250556  0.323285  0.338478  0.882877   \n",
       "CRBI     0.244053  0.232005  0.351979  0.205976  0.393184  0.308631  0.868812   \n",
       "CWalks   0.166123  0.151818  0.233154  0.182168  0.250914  0.424507  0.838533   \n",
       "PutOuts  0.317550  0.310673  0.282923  0.279347  0.343186  0.299515 -0.004684   \n",
       "Assists  0.353824  0.320455 -0.106329  0.220567  0.106591  0.149656 -0.080638   \n",
       "Errors   0.352117  0.310038  0.039318  0.240475  0.193370  0.129382 -0.162140   \n",
       "Salary   0.394771  0.438675  0.343028  0.419859  0.449457  0.443867  0.400657   \n",
       "\n",
       "           CAtBat     CHits    CHmRun     CRuns      CRBI    CWalks   PutOuts  \\\n",
       "AtBat    0.235526  0.252717  0.236659  0.266534  0.244053  0.166123  0.317550   \n",
       "Hits     0.227565  0.255815  0.202712  0.261787  0.232005  0.151818  0.310673   \n",
       "HmRun    0.221882  0.220627  0.493227  0.262361  0.351979  0.233154  0.282923   \n",
       "Runs     0.186497  0.204830  0.227913  0.250556  0.205976  0.182168  0.279347   \n",
       "RBI      0.294688  0.308201  0.441771  0.323285  0.393184  0.250914  0.343186   \n",
       "Walks    0.277175  0.280671  0.332473  0.338478  0.308631  0.424507  0.299515   \n",
       "Years    0.920289  0.903631  0.726872  0.882877  0.868812  0.838533 -0.004684   \n",
       "CAtBat   1.000000  0.995063  0.798836  0.983345  0.949219  0.906501  0.062283   \n",
       "CHits    0.995063  1.000000  0.783306  0.984609  0.945141  0.890954  0.076547   \n",
       "CHmRun   0.798836  0.783306  1.000000  0.820243  0.929484  0.799983  0.112724   \n",
       "CRuns    0.983345  0.984609  0.820243  1.000000  0.943769  0.927807  0.064180   \n",
       "CRBI     0.949219  0.945141  0.929484  0.943769  1.000000  0.884726  0.110098   \n",
       "CWalks   0.906501  0.890954  0.799983  0.927807  0.884726  1.000000  0.058638   \n",
       "PutOuts  0.062283  0.076547  0.112724  0.064180  0.110098  0.058638  1.000000   \n",
       "Assists  0.002038 -0.002523 -0.158511 -0.022978 -0.079387 -0.039130 -0.025024   \n",
       "Errors  -0.066922 -0.062756 -0.138115 -0.084395 -0.100990 -0.118475  0.109972   \n",
       "Salary   0.526135  0.548910  0.524931  0.562678  0.566966  0.489822  0.300480   \n",
       "\n",
       "          Assists    Errors    Salary  \n",
       "AtBat    0.353824  0.352117  0.394771  \n",
       "Hits     0.320455  0.310038  0.438675  \n",
       "HmRun   -0.106329  0.039318  0.343028  \n",
       "Runs     0.220567  0.240475  0.419859  \n",
       "RBI      0.106591  0.193370  0.449457  \n",
       "Walks    0.149656  0.129382  0.443867  \n",
       "Years   -0.080638 -0.162140  0.400657  \n",
       "CAtBat   0.002038 -0.066922  0.526135  \n",
       "CHits   -0.002523 -0.062756  0.548910  \n",
       "CHmRun  -0.158511 -0.138115  0.524931  \n",
       "CRuns   -0.022978 -0.084395  0.562678  \n",
       "CRBI    -0.079387 -0.100990  0.566966  \n",
       "CWalks  -0.039130 -0.118475  0.489822  \n",
       "PutOuts -0.025024  0.109972  0.300480  \n",
       "Assists  1.000000  0.706362  0.025436  \n",
       "Errors   0.706362  1.000000 -0.005401  \n",
       "Salary   0.025436 -0.005401  1.000000  "
      ]
     },
     "execution_count": 46,
     "metadata": {},
     "output_type": "execute_result"
    }
   ],
   "source": [
    "# What variables are correlated with each other?\n",
    "corrs=baseball.corr()\n",
    "corrs"
   ]
  },
  {
   "cell_type": "code",
   "execution_count": 11,
   "metadata": {},
   "outputs": [
    {
     "data": {
      "image/png": "[encoded data removed]",
      "text/plain": [
       "<matplotlib.figure.Figure at 0x1a12c78358>"
      ]
     },
     "metadata": {
      "needs_background": "light"
     },
     "output_type": "display_data"
    }
   ],
   "source": [
    "# Display all of that as a heatmap.\n",
    "plt.figure(figsize=(12, 8))\n",
    "sns.heatmap(corrs);"
   ]
  },
  {
   "cell_type": "markdown",
   "metadata": {},
   "source": [
    "#### How do we interpret this heatmap?\n",
    "There are two \"light\" squares:\n",
    "* at-bats, hits, homeruns, RBIs, and walks\n",
    "* Years and Career Stats(at-bats, hits, homeruns, RBIs, and walks)   \n",
    "\n",
    "So let's build our model around one of those sets of variables, and focus on runs as our target outcome."
   ]
  },
  {
   "cell_type": "code",
   "execution_count": 49,
   "metadata": {},
   "outputs": [
    {
     "data": {
      "text/plain": [
       "Runs       1.000000\n",
       "Hits       0.922187\n",
       "AtBat      0.913060\n",
       "RBI        0.798206\n",
       "Walks      0.732213\n",
       "HmRun      0.650988\n",
       "Salary     0.419859\n",
       "PutOuts    0.279347\n",
       "CRuns      0.250556\n",
       "Errors     0.240475\n",
       "CHmRun     0.227913\n",
       "Assists    0.220567\n",
       "CRBI       0.205976\n",
       "CHits      0.204830\n",
       "CAtBat     0.186497\n",
       "CWalks     0.182168\n",
       "Years      0.004541\n",
       "Name: Runs, dtype: float64"
      ]
     },
     "execution_count": 49,
     "metadata": {},
     "output_type": "execute_result"
    }
   ],
   "source": [
    "# What variables are most correlated with runs?\n",
    "corrs['Runs'].sort_values(ascending=False)"
   ]
  },
  {
   "cell_type": "markdown",
   "metadata": {},
   "source": [
    "## Model Building"
   ]
  },
  {
   "cell_type": "code",
   "execution_count": 12,
   "metadata": {},
   "outputs": [],
   "source": [
    "# Declare your target variable.\n",
    "y = baseball['Runs']"
   ]
  },
  {
   "cell_type": "code",
   "execution_count": 13,
   "metadata": {},
   "outputs": [],
   "source": [
    "# Declare your feature variables. \n",
    "X = baseball[['AtBat', 'Hits', 'HmRun', 'RBI', 'Walks']]"
   ]
  },
  {
   "cell_type": "code",
   "execution_count": 14,
   "metadata": {},
   "outputs": [],
   "source": [
    "# Train-test split.\n",
    "X_train, X_test, y_train, y_test = train_test_split(X, y, test_size=0.25, random_state=42)"
   ]
  },
  {
   "cell_type": "code",
   "execution_count": 15,
   "metadata": {},
   "outputs": [
    {
     "data": {
      "text/plain": [
       "173    17\n",
       "132    22\n",
       "197    20\n",
       "9      49\n",
       "104    67\n",
       "Name: Runs, dtype: int64"
      ]
     },
     "execution_count": 15,
     "metadata": {},
     "output_type": "execute_result"
    }
   ],
   "source": [
    "# What do some of those values look like?\n",
    "y_test[:5]"
   ]
  },
  {
   "cell_type": "code",
   "execution_count": 16,
   "metadata": {},
   "outputs": [],
   "source": [
    "# Instantiate the sklearn regression class; give it a name.\n",
    "my_model = LinearRegression()"
   ]
  },
  {
   "cell_type": "code",
   "execution_count": 17,
   "metadata": {},
   "outputs": [
    {
     "data": {
      "text/plain": [
       "LinearRegression(copy_X=True, fit_intercept=True, n_jobs=1, normalize=False)"
      ]
     },
     "execution_count": 17,
     "metadata": {},
     "output_type": "execute_result"
    }
   ],
   "source": [
    "# Fit the model to your training dataset.\n",
    "my_model.fit(X_train, y_train)"
   ]
  },
  {
   "cell_type": "code",
   "execution_count": 18,
   "metadata": {},
   "outputs": [
    {
     "data": {
      "text/plain": [
       "array([19.20841314, 30.43948554, 13.91424518, 55.09662936, 66.62871914])"
      ]
     },
     "execution_count": 18,
     "metadata": {},
     "output_type": "execute_result"
    }
   ],
   "source": [
    "# Predict the y-values on the testing set.\n",
    "y_pred = my_model.predict(X_test)\n",
    "# Take a look at the predictions for the first 5 players in the testing set.\n",
    "y_pred[:5]"
   ]
  },
  {
   "cell_type": "markdown",
   "metadata": {},
   "source": [
    "## Evaluate the model"
   ]
  },
  {
   "cell_type": "code",
   "execution_count": 19,
   "metadata": {},
   "outputs": [
    {
     "name": "stdout",
     "output_type": "stream",
     "text": [
      "On average, our model errs by 7 runs per player.\n"
     ]
    }
   ],
   "source": [
    "# On average, by how much value are we missing the mark?\n",
    "rmse = sqrt(metrics.mean_squared_error(y_test, y_pred))\n",
    "print(f'On average, our model errs by {round(rmse)} runs per player.')"
   ]
  },
  {
   "cell_type": "code",
   "execution_count": 20,
   "metadata": {},
   "outputs": [
    {
     "name": "stdout",
     "output_type": "stream",
     "text": [
      "The average is 50 runs per player.\n"
     ]
    }
   ],
   "source": [
    "# So... what if we just flipped a coin?\n",
    "avg_val=round(y_train.mean())\n",
    "print(f'The average is {avg_val} runs per player.')"
   ]
  },
  {
   "cell_type": "code",
   "execution_count": 21,
   "metadata": {},
   "outputs": [
    {
     "name": "stdout",
     "output_type": "stream",
     "text": [
      "27\n"
     ]
    }
   ],
   "source": [
    "# If we used that as our predictor, then the average error of our model would be:\n",
    "comparison_array=np.full((len(y_test), ), avg_val)\n",
    "coin_flip=sqrt(metrics.mean_squared_error(y_test, comparison_array))\n",
    "print(round(coin_flip))"
   ]
  },
  {
   "cell_type": "code",
   "execution_count": 22,
   "metadata": {},
   "outputs": [
    {
     "name": "stdout",
     "output_type": "stream",
     "text": [
      "improvement over mean prediction: -20 runs\n"
     ]
    }
   ],
   "source": [
    "# So, is our model better than just taking the average number of runs?\n",
    "print(f'improvement over mean prediction: {round(rmse-coin_flip)} runs')\n",
    "# Remember, less error is a good thing!"
   ]
  },
  {
   "cell_type": "code",
   "execution_count": 23,
   "metadata": {},
   "outputs": [
    {
     "data": {
      "text/plain": [
       "0.93"
      ]
     },
     "execution_count": 23,
     "metadata": {},
     "output_type": "execute_result"
    }
   ],
   "source": [
    "# A higher R2 score indicates more variance explained.\n",
    "r2=metrics.r2_score(y_test, y_pred)\n",
    "round(r2,2)"
   ]
  },
  {
   "cell_type": "code",
   "execution_count": 24,
   "metadata": {},
   "outputs": [
    {
     "data": {
      "image/png": "[encoded data removed]",
      "text/plain": [
       "<matplotlib.figure.Figure at 0x1a12c783c8>"
      ]
     },
     "metadata": {
      "needs_background": "light"
     },
     "output_type": "display_data"
    }
   ],
   "source": [
    "# Let's display our predictions vs. real values.\n",
    "plt.figure(figsize=(6, 6))\n",
    "sns.regplot(x=y_pred, y=y_test);"
   ]
  },
  {
   "cell_type": "markdown",
   "metadata": {},
   "source": [
    "## Examine an individual prediction"
   ]
  },
  {
   "cell_type": "markdown",
   "metadata": {},
   "source": [
    "#### Let's look at the very first player"
   ]
  },
  {
   "cell_type": "code",
   "execution_count": 52,
   "metadata": {},
   "outputs": [
    {
     "data": {
      "text/html": [
       "<div>\n",
       "<style scoped>\n",
       "    .dataframe tbody tr th:only-of-type {\n",
       "        vertical-align: middle;\n",
       "    }\n",
       "\n",
       "    .dataframe tbody tr th {\n",
       "        vertical-align: top;\n",
       "    }\n",
       "\n",
       "    .dataframe thead th {\n",
       "        text-align: right;\n",
       "    }\n",
       "</style>\n",
       "<table border=\"1\" class=\"dataframe\">\n",
       "  <thead>\n",
       "    <tr style=\"text-align: right;\">\n",
       "      <th></th>\n",
       "      <th>AtBat</th>\n",
       "      <th>Hits</th>\n",
       "      <th>HmRun</th>\n",
       "      <th>RBI</th>\n",
       "      <th>Walks</th>\n",
       "    </tr>\n",
       "  </thead>\n",
       "  <tbody>\n",
       "    <tr>\n",
       "      <th>173</th>\n",
       "      <td>161</td>\n",
       "      <td>43</td>\n",
       "      <td>4</td>\n",
       "      <td>26</td>\n",
       "      <td>22</td>\n",
       "    </tr>\n",
       "    <tr>\n",
       "      <th>132</th>\n",
       "      <td>278</td>\n",
       "      <td>70</td>\n",
       "      <td>7</td>\n",
       "      <td>37</td>\n",
       "      <td>18</td>\n",
       "    </tr>\n",
       "    <tr>\n",
       "      <th>197</th>\n",
       "      <td>166</td>\n",
       "      <td>34</td>\n",
       "      <td>0</td>\n",
       "      <td>13</td>\n",
       "      <td>17</td>\n",
       "    </tr>\n",
       "    <tr>\n",
       "      <th>9</th>\n",
       "      <td>401</td>\n",
       "      <td>92</td>\n",
       "      <td>17</td>\n",
       "      <td>66</td>\n",
       "      <td>65</td>\n",
       "    </tr>\n",
       "    <tr>\n",
       "      <th>104</th>\n",
       "      <td>397</td>\n",
       "      <td>114</td>\n",
       "      <td>23</td>\n",
       "      <td>67</td>\n",
       "      <td>53</td>\n",
       "    </tr>\n",
       "  </tbody>\n",
       "</table>\n",
       "</div>"
      ],
      "text/plain": [
       "     AtBat  Hits  HmRun  RBI  Walks\n",
       "173    161    43      4   26     22\n",
       "132    278    70      7   37     18\n",
       "197    166    34      0   13     17\n",
       "9      401    92     17   66     65\n",
       "104    397   114     23   67     53"
      ]
     },
     "execution_count": 52,
     "metadata": {},
     "output_type": "execute_result"
    }
   ],
   "source": [
    "# Who's the first player in the testing dataset?\n",
    "X_test.head()"
   ]
  },
  {
   "cell_type": "code",
   "execution_count": 26,
   "metadata": {},
   "outputs": [
    {
     "data": {
      "text/plain": [
       "AtBat    161\n",
       "Hits      43\n",
       "HmRun      4\n",
       "RBI       26\n",
       "Walks     22\n",
       "Name: 173, dtype: int64"
      ]
     },
     "execution_count": 26,
     "metadata": {},
     "output_type": "execute_result"
    }
   ],
   "source": [
    "# Let's take a look stats for player #173.\n",
    "X_test.loc[173]"
   ]
  },
  {
   "cell_type": "code",
   "execution_count": 27,
   "metadata": {},
   "outputs": [
    {
     "data": {
      "text/plain": [
       "17"
      ]
     },
     "execution_count": 27,
     "metadata": {},
     "output_type": "execute_result"
    }
   ],
   "source": [
    "# How many runs did he actually get?\n",
    "y_test.loc[173]"
   ]
  },
  {
   "cell_type": "code",
   "execution_count": 28,
   "metadata": {},
   "outputs": [
    {
     "data": {
      "text/plain": [
       "array([[161,  43,   4,  26,  22]])"
      ]
     },
     "execution_count": 28,
     "metadata": {},
     "output_type": "execute_result"
    }
   ],
   "source": [
    "# Let's convert his stats into a numpy array with the appropriate shape.\n",
    "row=np.array(X_test.loc[173].values)\n",
    "row_reshaped=row.reshape(1, 5)\n",
    "row_reshaped"
   ]
  },
  {
   "cell_type": "code",
   "execution_count": 29,
   "metadata": {},
   "outputs": [
    {
     "data": {
      "text/plain": [
       "array([19.20841314])"
      ]
     },
     "execution_count": 29,
     "metadata": {},
     "output_type": "execute_result"
    }
   ],
   "source": [
    "# How many runs does our model predict that he would get?\n",
    "my_model.predict(row_reshaped)"
   ]
  },
  {
   "cell_type": "code",
   "execution_count": 30,
   "metadata": {},
   "outputs": [
    {
     "data": {
      "text/plain": [
       "19.20841314391925"
      ]
     },
     "execution_count": 30,
     "metadata": {},
     "output_type": "execute_result"
    }
   ],
   "source": [
    "# We can also just get that by calling the first element of our list of predictions, from earlier.\n",
    "y_pred[0]"
   ]
  },
  {
   "cell_type": "code",
   "execution_count": 31,
   "metadata": {},
   "outputs": [
    {
     "data": {
      "text/plain": [
       "50"
      ]
     },
     "execution_count": 31,
     "metadata": {},
     "output_type": "execute_result"
    }
   ],
   "source": [
    "# If we had just taken the average of all players, how many runs would we have predicted for him?\n",
    "round(y_train.mean())"
   ]
  },
  {
   "cell_type": "markdown",
   "metadata": {},
   "source": [
    "## Make predictions on new data."
   ]
  },
  {
   "cell_type": "markdown",
   "metadata": {},
   "source": [
    "#### Let's pretend the year is 1956.\n",
    "Mickey Mantle is playing first base. How many hits do we predict he'll get?   \n",
    "https://www.baseball-reference.com/players/m/mantlmi01.shtml  \n"
   ]
  },
  {
   "cell_type": "code",
   "execution_count": 32,
   "metadata": {},
   "outputs": [],
   "source": [
    "# Here are his actual stats.\n",
    "Runs=132\n",
    "AtBat=533\n",
    "Hits=188\n",
    "HmRun=52\n",
    "RBI=130\n",
    "Walks=112\n",
    "# http://www.highheatstats.com/2013/01/taking-a-look-at-mickey-mantles-1956/"
   ]
  },
  {
   "cell_type": "code",
   "execution_count": 33,
   "metadata": {},
   "outputs": [
    {
     "data": {
      "text/plain": [
       "array([[533, 188,  52, 130, 112]])"
      ]
     },
     "execution_count": 33,
     "metadata": {},
     "output_type": "execute_result"
    }
   ],
   "source": [
    "# We need to reshape the data into a 2D numpy array\n",
    "row=np.array([AtBat, Hits, HmRun, RBI, Walks])\n",
    "row_reshaped=row.reshape(1, 5)\n",
    "row_reshaped"
   ]
  },
  {
   "cell_type": "code",
   "execution_count": 34,
   "metadata": {},
   "outputs": [
    {
     "data": {
      "text/plain": [
       "125.0"
      ]
     },
     "execution_count": 34,
     "metadata": {},
     "output_type": "execute_result"
    }
   ],
   "source": [
    "# Let's make a prediction based on those stats.\n",
    "prediction=my_model.predict(row_reshaped)\n",
    "round(prediction[0])"
   ]
  },
  {
   "cell_type": "code",
   "execution_count": 35,
   "metadata": {},
   "outputs": [
    {
     "data": {
      "text/plain": [
       "-7.0"
      ]
     },
     "execution_count": 35,
     "metadata": {},
     "output_type": "execute_result"
    }
   ],
   "source": [
    "# What's the error in our model, for Mickey Mantle?\n",
    "error = prediction[0]-Runs\n",
    "round(error)"
   ]
  },
  {
   "cell_type": "markdown",
   "metadata": {},
   "source": [
    "Ted Williams of the Red Sox finished sixth in MVP voting that year, and had an even higher on base percentage (.479) than Mantle. Let's see how our model does with his 1956 stats."
   ]
  },
  {
   "cell_type": "code",
   "execution_count": 36,
   "metadata": {},
   "outputs": [],
   "source": [
    "# https://www.baseball-reference.com/players/w/willite01.shtml\n",
    "Runs=71\n",
    "AtBat=400\n",
    "Hits=138\n",
    "HmRun=24\n",
    "RBI=82\n",
    "Walks=102"
   ]
  },
  {
   "cell_type": "code",
   "execution_count": 37,
   "metadata": {},
   "outputs": [
    {
     "data": {
      "text/plain": [
       "array([[400, 138,  24,  82, 102]])"
      ]
     },
     "execution_count": 37,
     "metadata": {},
     "output_type": "execute_result"
    }
   ],
   "source": [
    "# We need to reshape the data into a 2D numpy array\n",
    "row=np.array([AtBat, Hits, HmRun, RBI, Walks])\n",
    "row_reshaped=row.reshape(1, 5)\n",
    "row_reshaped"
   ]
  },
  {
   "cell_type": "code",
   "execution_count": 38,
   "metadata": {},
   "outputs": [
    {
     "data": {
      "text/plain": [
       "87.0"
      ]
     },
     "execution_count": 38,
     "metadata": {},
     "output_type": "execute_result"
    }
   ],
   "source": [
    "# Let's make a prediction based on those stats.\n",
    "prediction=my_model.predict(row_reshaped)\n",
    "round(prediction[0])"
   ]
  },
  {
   "cell_type": "code",
   "execution_count": 39,
   "metadata": {},
   "outputs": [
    {
     "data": {
      "text/plain": [
       "16.0"
      ]
     },
     "execution_count": 39,
     "metadata": {},
     "output_type": "execute_result"
    }
   ],
   "source": [
    "# What's the error in our model, for Ted Williams?\n",
    "error = prediction[0]-Runs\n",
    "round(error)"
   ]
  },
  {
   "cell_type": "markdown",
   "metadata": {},
   "source": [
    "## Now it's your turn."
   ]
  },
  {
   "cell_type": "markdown",
   "metadata": {},
   "source": [
    "Try to build your own linear regression model, but using _career_ stats instead of _year_ stats."
   ]
  },
  {
   "cell_type": "code",
   "execution_count": null,
   "metadata": {},
   "outputs": [],
   "source": []
  }
 ],
 "metadata": {
  "kernelspec": {
   "display_name": "Python 3",
   "language": "python",
   "name": "python3"
  },
  "language_info": {
   "codemirror_mode": {
    "name": "ipython",
    "version": 3
   },
   "file_extension": ".py",
   "mimetype": "text/x-python",
   "name": "python",
   "nbconvert_exporter": "python",
   "pygments_lexer": "ipython3",
   "version": "3.6.7"
  }
 },
 "nbformat": 4,
 "nbformat_minor": 2
}
