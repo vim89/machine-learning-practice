{
 "cells": [
  {
   "cell_type": "code",
   "execution_count": 1,
   "metadata": {},
   "outputs": [],
   "source": [
    "import pandas as pd\n",
    "from pathlib import Path\n",
    "import glob\n",
    "from sklearn.model_selection import train_test_split\n",
    "from sklearn.linear_model import LinearRegression\n",
    "from sklearn import metrics\n",
    "import numpy as np"
   ]
  },
  {
   "cell_type": "code",
   "execution_count": 2,
   "metadata": {},
   "outputs": [],
   "source": [
    "import matplotlib.pyplot as plt\n",
    "%matplotlib inline\n",
    "import seaborn as sns"
   ]
  },
  {
   "cell_type": "markdown",
   "metadata": {},
   "source": [
    "## Beers "
   ]
  },
  {
   "cell_type": "code",
   "execution_count": 32,
   "metadata": {},
   "outputs": [
    {
     "data": {
      "text/html": [
       "<div>\n",
       "<style scoped>\n",
       "    .dataframe tbody tr th:only-of-type {\n",
       "        vertical-align: middle;\n",
       "    }\n",
       "\n",
       "    .dataframe tbody tr th {\n",
       "        vertical-align: top;\n",
       "    }\n",
       "\n",
       "    .dataframe thead th {\n",
       "        text-align: right;\n",
       "    }\n",
       "</style>\n",
       "<table border=\"1\" class=\"dataframe\">\n",
       "  <thead>\n",
       "    <tr style=\"text-align: right;\">\n",
       "      <th></th>\n",
       "      <th>brewery_name</th>\n",
       "      <th>beer_name</th>\n",
       "      <th>beer_style</th>\n",
       "      <th>beer_abv</th>\n",
       "      <th>num_reviews</th>\n",
       "      <th>rating</th>\n",
       "      <th>city</th>\n",
       "      <th>state</th>\n",
       "    </tr>\n",
       "  </thead>\n",
       "  <tbody>\n",
       "    <tr>\n",
       "      <th>3015</th>\n",
       "      <td>Real Ale Brewing Company</td>\n",
       "      <td>Empire (Barrel-Aged Lost Gold IPA)</td>\n",
       "      <td>American IPA</td>\n",
       "      <td>6.6</td>\n",
       "      <td>7</td>\n",
       "      <td>4.07</td>\n",
       "      <td>Blanco</td>\n",
       "      <td>TX</td>\n",
       "    </tr>\n",
       "    <tr>\n",
       "      <th>1363</th>\n",
       "      <td>Founders Brewing Company</td>\n",
       "      <td>Founders Big Froot</td>\n",
       "      <td>Fruit / Vegetable Beer</td>\n",
       "      <td>6.8</td>\n",
       "      <td>3</td>\n",
       "      <td>3.33</td>\n",
       "      <td>Grand Rapids</td>\n",
       "      <td>MI</td>\n",
       "    </tr>\n",
       "    <tr>\n",
       "      <th>3413</th>\n",
       "      <td>Sly Fox Brewing Company</td>\n",
       "      <td>First Gold IPA</td>\n",
       "      <td>American IPA</td>\n",
       "      <td>7.0</td>\n",
       "      <td>1</td>\n",
       "      <td>3.50</td>\n",
       "      <td>Phoenixville</td>\n",
       "      <td>PA</td>\n",
       "    </tr>\n",
       "  </tbody>\n",
       "</table>\n",
       "</div>"
      ],
      "text/plain": [
       "                  brewery_name                           beer_name  \\\n",
       "3015  Real Ale Brewing Company  Empire (Barrel-Aged Lost Gold IPA)   \n",
       "1363  Founders Brewing Company                  Founders Big Froot   \n",
       "3413   Sly Fox Brewing Company                      First Gold IPA   \n",
       "\n",
       "                  beer_style  beer_abv  num_reviews  rating          city  \\\n",
       "3015            American IPA       6.6            7    4.07        Blanco   \n",
       "1363  Fruit / Vegetable Beer       6.8            3    3.33  Grand Rapids   \n",
       "3413            American IPA       7.0            1    3.50  Phoenixville   \n",
       "\n",
       "     state  \n",
       "3015    TX  \n",
       "1363    MI  \n",
       "3413    PA  "
      ]
     },
     "execution_count": 32,
     "metadata": {},
     "output_type": "execute_result"
    }
   ],
   "source": [
    "beers = pd.read_csv('../data/beer_ratings.csv')\n",
    "beers.sample(3)"
   ]
  },
  {
   "cell_type": "markdown",
   "metadata": {},
   "source": [
    "## Exploratory Data Analysis"
   ]
  },
  {
   "cell_type": "code",
   "execution_count": 33,
   "metadata": {},
   "outputs": [
    {
     "data": {
      "text/plain": [
       "(4640, 8)"
      ]
     },
     "execution_count": 33,
     "metadata": {},
     "output_type": "execute_result"
    }
   ],
   "source": [
    "beers.shape"
   ]
  },
  {
   "cell_type": "code",
   "execution_count": 4,
   "metadata": {},
   "outputs": [
    {
     "data": {
      "text/plain": [
       "brewery_name    0\n",
       "beer_name       0\n",
       "beer_style      0\n",
       "beer_abv        0\n",
       "num_reviews     0\n",
       "rating          0\n",
       "city            0\n",
       "state           0\n",
       "dtype: int64"
      ]
     },
     "execution_count": 4,
     "metadata": {},
     "output_type": "execute_result"
    }
   ],
   "source": [
    "# Is there any missing data?\n",
    "beers.isnull().sum()"
   ]
  },
  {
   "cell_type": "code",
   "execution_count": 5,
   "metadata": {},
   "outputs": [
    {
     "data": {
      "text/plain": [
       "98"
      ]
     },
     "execution_count": 5,
     "metadata": {},
     "output_type": "execute_result"
    }
   ],
   "source": [
    "# How many unique beer styles are there?\n",
    "beers['beer_style'].nunique()"
   ]
  },
  {
   "cell_type": "code",
   "execution_count": 6,
   "metadata": {},
   "outputs": [
    {
     "data": {
      "text/plain": [
       "American IPA                        393\n",
       "American Pale Ale (APA)             281\n",
       "American Porter                     190\n",
       "American Amber / Red Ale            184\n",
       "American Double / Imperial IPA      173\n",
       "Saison / Farmhouse Ale              163\n",
       "American Double / Imperial Stout    111\n",
       "American Brown Ale                  107\n",
       "Fruit / Vegetable Beer              107\n",
       "American Stout                      102\n",
       "Name: beer_style, dtype: int64"
      ]
     },
     "execution_count": 6,
     "metadata": {},
     "output_type": "execute_result"
    }
   ],
   "source": [
    "# What are the most frequent beer styles?\n",
    "top_styles=beers['beer_style'].value_counts().sort_values(ascending=False).head(10)\n",
    "top_styles"
   ]
  },
  {
   "cell_type": "code",
   "execution_count": 34,
   "metadata": {},
   "outputs": [
    {
     "data": {
      "text/html": [
       "<div>\n",
       "<style scoped>\n",
       "    .dataframe tbody tr th:only-of-type {\n",
       "        vertical-align: middle;\n",
       "    }\n",
       "\n",
       "    .dataframe tbody tr th {\n",
       "        vertical-align: top;\n",
       "    }\n",
       "\n",
       "    .dataframe thead th {\n",
       "        text-align: right;\n",
       "    }\n",
       "</style>\n",
       "<table border=\"1\" class=\"dataframe\">\n",
       "  <thead>\n",
       "    <tr style=\"text-align: right;\">\n",
       "      <th></th>\n",
       "      <th>brewery_name</th>\n",
       "      <th>beer_name</th>\n",
       "      <th>beer_style</th>\n",
       "      <th>beer_abv</th>\n",
       "      <th>num_reviews</th>\n",
       "      <th>rating</th>\n",
       "      <th>city</th>\n",
       "      <th>state</th>\n",
       "    </tr>\n",
       "  </thead>\n",
       "  <tbody>\n",
       "    <tr>\n",
       "      <th>3634</th>\n",
       "      <td>Southampton Publick House</td>\n",
       "      <td>Southampton Berliner Weisse</td>\n",
       "      <td>Berliner Weissbier</td>\n",
       "      <td>2.0</td>\n",
       "      <td>41</td>\n",
       "      <td>4.77</td>\n",
       "      <td>Southampton</td>\n",
       "      <td>NY</td>\n",
       "    </tr>\n",
       "    <tr>\n",
       "      <th>2040</th>\n",
       "      <td>Iron Hill Brewery &amp; Restaurant</td>\n",
       "      <td>Belgian Single</td>\n",
       "      <td>Low Alcohol Beer</td>\n",
       "      <td>2.5</td>\n",
       "      <td>5</td>\n",
       "      <td>3.50</td>\n",
       "      <td>Wilmington</td>\n",
       "      <td>DE</td>\n",
       "    </tr>\n",
       "    <tr>\n",
       "      <th>2207</th>\n",
       "      <td>Iron Hill Brewery &amp; Restaurant</td>\n",
       "      <td>Pugilist</td>\n",
       "      <td>English Dark Mild Ale</td>\n",
       "      <td>2.6</td>\n",
       "      <td>2</td>\n",
       "      <td>3.75</td>\n",
       "      <td>Wilmington</td>\n",
       "      <td>DE</td>\n",
       "    </tr>\n",
       "    <tr>\n",
       "      <th>2043</th>\n",
       "      <td>Iron Hill Brewery &amp; Restaurant</td>\n",
       "      <td>Berliner Weiss</td>\n",
       "      <td>Berliner Weissbier</td>\n",
       "      <td>2.8</td>\n",
       "      <td>59</td>\n",
       "      <td>4.00</td>\n",
       "      <td>Wilmington</td>\n",
       "      <td>DE</td>\n",
       "    </tr>\n",
       "    <tr>\n",
       "      <th>1467</th>\n",
       "      <td>Founders Brewing Company</td>\n",
       "      <td>Founders Trois</td>\n",
       "      <td>English Bitter</td>\n",
       "      <td>3.0</td>\n",
       "      <td>2</td>\n",
       "      <td>4.25</td>\n",
       "      <td>Grand Rapids</td>\n",
       "      <td>MI</td>\n",
       "    </tr>\n",
       "  </tbody>\n",
       "</table>\n",
       "</div>"
      ],
      "text/plain": [
       "                        brewery_name                    beer_name  \\\n",
       "3634       Southampton Publick House  Southampton Berliner Weisse   \n",
       "2040  Iron Hill Brewery & Restaurant               Belgian Single   \n",
       "2207  Iron Hill Brewery & Restaurant                     Pugilist   \n",
       "2043  Iron Hill Brewery & Restaurant               Berliner Weiss   \n",
       "1467        Founders Brewing Company               Founders Trois   \n",
       "\n",
       "                 beer_style  beer_abv  num_reviews  rating          city state  \n",
       "3634     Berliner Weissbier       2.0           41    4.77   Southampton    NY  \n",
       "2040       Low Alcohol Beer       2.5            5    3.50    Wilmington    DE  \n",
       "2207  English Dark Mild Ale       2.6            2    3.75    Wilmington    DE  \n",
       "2043     Berliner Weissbier       2.8           59    4.00    Wilmington    DE  \n",
       "1467         English Bitter       3.0            2    4.25  Grand Rapids    MI  "
      ]
     },
     "execution_count": 34,
     "metadata": {},
     "output_type": "execute_result"
    }
   ],
   "source": [
    "# Which beers have the highest ABV?\n",
    "beers.sort_values(by = 'beer_abv', ascending=True).head(5)"
   ]
  },
  {
   "cell_type": "code",
   "execution_count": 8,
   "metadata": {},
   "outputs": [
    {
     "data": {
      "text/plain": [
       "51"
      ]
     },
     "execution_count": 8,
     "metadata": {},
     "output_type": "execute_result"
    }
   ],
   "source": [
    "# How many beers have a perfect rating?\n",
    "len(beers[beers['rating']==5.00])"
   ]
  },
  {
   "cell_type": "code",
   "execution_count": 9,
   "metadata": {},
   "outputs": [
    {
     "data": {
      "text/html": [
       "<div>\n",
       "<style scoped>\n",
       "    .dataframe tbody tr th:only-of-type {\n",
       "        vertical-align: middle;\n",
       "    }\n",
       "\n",
       "    .dataframe tbody tr th {\n",
       "        vertical-align: top;\n",
       "    }\n",
       "\n",
       "    .dataframe thead th {\n",
       "        text-align: right;\n",
       "    }\n",
       "</style>\n",
       "<table border=\"1\" class=\"dataframe\">\n",
       "  <thead>\n",
       "    <tr style=\"text-align: right;\">\n",
       "      <th></th>\n",
       "      <th>brewery_name</th>\n",
       "      <th>beer_name</th>\n",
       "      <th>beer_style</th>\n",
       "      <th>beer_abv</th>\n",
       "      <th>num_reviews</th>\n",
       "      <th>rating</th>\n",
       "      <th>city</th>\n",
       "      <th>state</th>\n",
       "    </tr>\n",
       "  </thead>\n",
       "  <tbody>\n",
       "    <tr>\n",
       "      <th>2563</th>\n",
       "      <td>Marble Brewery</td>\n",
       "      <td>Imperial Porter</td>\n",
       "      <td>American Porter</td>\n",
       "      <td>8.3</td>\n",
       "      <td>67</td>\n",
       "      <td>5.00</td>\n",
       "      <td>Albuquerque</td>\n",
       "      <td>NM</td>\n",
       "    </tr>\n",
       "    <tr>\n",
       "      <th>2557</th>\n",
       "      <td>Marble Brewery</td>\n",
       "      <td>Bourbon Barrel Imperial Stout</td>\n",
       "      <td>American Double / Imperial Stout</td>\n",
       "      <td>11.0</td>\n",
       "      <td>43</td>\n",
       "      <td>5.00</td>\n",
       "      <td>Albuquerque</td>\n",
       "      <td>NM</td>\n",
       "    </tr>\n",
       "    <tr>\n",
       "      <th>3634</th>\n",
       "      <td>Southampton Publick House</td>\n",
       "      <td>Southampton Berliner Weisse</td>\n",
       "      <td>Berliner Weissbier</td>\n",
       "      <td>2.0</td>\n",
       "      <td>41</td>\n",
       "      <td>4.77</td>\n",
       "      <td>Southampton</td>\n",
       "      <td>NY</td>\n",
       "    </tr>\n",
       "    <tr>\n",
       "      <th>4050</th>\n",
       "      <td>The Alchemist</td>\n",
       "      <td>Heady Topper</td>\n",
       "      <td>American Double / Imperial IPA</td>\n",
       "      <td>8.0</td>\n",
       "      <td>469</td>\n",
       "      <td>4.63</td>\n",
       "      <td>Waterbury</td>\n",
       "      <td>VT</td>\n",
       "    </tr>\n",
       "    <tr>\n",
       "      <th>2152</th>\n",
       "      <td>Iron Hill Brewery &amp; Restaurant</td>\n",
       "      <td>Imperial IPA</td>\n",
       "      <td>American Double / Imperial IPA</td>\n",
       "      <td>7.8</td>\n",
       "      <td>965</td>\n",
       "      <td>4.60</td>\n",
       "      <td>Wilmington</td>\n",
       "      <td>DE</td>\n",
       "    </tr>\n",
       "  </tbody>\n",
       "</table>\n",
       "</div>"
      ],
      "text/plain": [
       "                        brewery_name                      beer_name  \\\n",
       "2563                  Marble Brewery                Imperial Porter   \n",
       "2557                  Marble Brewery  Bourbon Barrel Imperial Stout   \n",
       "3634       Southampton Publick House    Southampton Berliner Weisse   \n",
       "4050                   The Alchemist                   Heady Topper   \n",
       "2152  Iron Hill Brewery & Restaurant                   Imperial IPA   \n",
       "\n",
       "                            beer_style  beer_abv  num_reviews  rating  \\\n",
       "2563                   American Porter       8.3           67    5.00   \n",
       "2557  American Double / Imperial Stout      11.0           43    5.00   \n",
       "3634                Berliner Weissbier       2.0           41    4.77   \n",
       "4050    American Double / Imperial IPA       8.0          469    4.63   \n",
       "2152    American Double / Imperial IPA       7.8          965    4.60   \n",
       "\n",
       "             city state  \n",
       "2563  Albuquerque    NM  \n",
       "2557  Albuquerque    NM  \n",
       "3634  Southampton    NY  \n",
       "4050    Waterbury    VT  \n",
       "2152   Wilmington    DE  "
      ]
     },
     "execution_count": 9,
     "metadata": {},
     "output_type": "execute_result"
    }
   ],
   "source": [
    "# Among beers with at least 25 ratings, what were the most popular?\n",
    "beers.loc[beers['num_reviews']>=25].sort_values(by='rating', ascending=False).head(5)"
   ]
  },
  {
   "cell_type": "code",
   "execution_count": 10,
   "metadata": {},
   "outputs": [
    {
     "data": {
      "text/html": [
       "<div>\n",
       "<style scoped>\n",
       "    .dataframe tbody tr th:only-of-type {\n",
       "        vertical-align: middle;\n",
       "    }\n",
       "\n",
       "    .dataframe tbody tr th {\n",
       "        vertical-align: top;\n",
       "    }\n",
       "\n",
       "    .dataframe thead th {\n",
       "        text-align: right;\n",
       "    }\n",
       "</style>\n",
       "<table border=\"1\" class=\"dataframe\">\n",
       "  <thead>\n",
       "    <tr style=\"text-align: right;\">\n",
       "      <th></th>\n",
       "      <th>brewery_name</th>\n",
       "      <th>beer_name</th>\n",
       "      <th>beer_style</th>\n",
       "      <th>beer_abv</th>\n",
       "      <th>num_reviews</th>\n",
       "      <th>rating</th>\n",
       "      <th>city</th>\n",
       "      <th>state</th>\n",
       "    </tr>\n",
       "  </thead>\n",
       "  <tbody>\n",
       "    <tr>\n",
       "      <th>1482</th>\n",
       "      <td>Four Horsemen Brewing Company</td>\n",
       "      <td>Rye IPA</td>\n",
       "      <td>Rye Beer</td>\n",
       "      <td>7.8</td>\n",
       "      <td>113</td>\n",
       "      <td>2.00</td>\n",
       "      <td>South Bend</td>\n",
       "      <td>IN</td>\n",
       "    </tr>\n",
       "    <tr>\n",
       "      <th>1477</th>\n",
       "      <td>Four Horsemen Brewing Company</td>\n",
       "      <td>Hefeweizen</td>\n",
       "      <td>Hefeweizen</td>\n",
       "      <td>6.0</td>\n",
       "      <td>864</td>\n",
       "      <td>2.00</td>\n",
       "      <td>South Bend</td>\n",
       "      <td>IN</td>\n",
       "    </tr>\n",
       "    <tr>\n",
       "      <th>3714</th>\n",
       "      <td>Sprecher Brewing Company</td>\n",
       "      <td>Mbege Ale</td>\n",
       "      <td>Fruit / Vegetable Beer</td>\n",
       "      <td>7.0</td>\n",
       "      <td>40</td>\n",
       "      <td>2.16</td>\n",
       "      <td>Glendale</td>\n",
       "      <td>WI</td>\n",
       "    </tr>\n",
       "    <tr>\n",
       "      <th>2869</th>\n",
       "      <td>O'Fallon Brewery</td>\n",
       "      <td>Light</td>\n",
       "      <td>English Dark Mild Ale</td>\n",
       "      <td>4.5</td>\n",
       "      <td>87</td>\n",
       "      <td>2.25</td>\n",
       "      <td>O'Fallon</td>\n",
       "      <td>MO</td>\n",
       "    </tr>\n",
       "    <tr>\n",
       "      <th>4128</th>\n",
       "      <td>Tommyknocker Brewery</td>\n",
       "      <td>Tundrabeary Ale</td>\n",
       "      <td>Fruit / Vegetable Beer</td>\n",
       "      <td>4.7</td>\n",
       "      <td>52</td>\n",
       "      <td>2.31</td>\n",
       "      <td>Idaho Springs</td>\n",
       "      <td>CO</td>\n",
       "    </tr>\n",
       "  </tbody>\n",
       "</table>\n",
       "</div>"
      ],
      "text/plain": [
       "                       brewery_name        beer_name              beer_style  \\\n",
       "1482  Four Horsemen Brewing Company          Rye IPA                Rye Beer   \n",
       "1477  Four Horsemen Brewing Company       Hefeweizen              Hefeweizen   \n",
       "3714       Sprecher Brewing Company        Mbege Ale  Fruit / Vegetable Beer   \n",
       "2869               O'Fallon Brewery            Light   English Dark Mild Ale   \n",
       "4128           Tommyknocker Brewery  Tundrabeary Ale  Fruit / Vegetable Beer   \n",
       "\n",
       "      beer_abv  num_reviews  rating           city state  \n",
       "1482       7.8          113    2.00     South Bend    IN  \n",
       "1477       6.0          864    2.00     South Bend    IN  \n",
       "3714       7.0           40    2.16       Glendale    WI  \n",
       "2869       4.5           87    2.25       O'Fallon    MO  \n",
       "4128       4.7           52    2.31  Idaho Springs    CO  "
      ]
     },
     "execution_count": 10,
     "metadata": {},
     "output_type": "execute_result"
    }
   ],
   "source": [
    "# Among beers with at least 25 ratings, what were the LEAST popular?\n",
    "beers.loc[beers['num_reviews']>=25].sort_values(by='rating', ascending=True).head(5)"
   ]
  },
  {
   "cell_type": "markdown",
   "metadata": {},
   "source": [
    "[Four Horsemen. The worst brewery of 2013.](https://www.southbendtribune.com/news/business/four-horsemen-taps-out/article_1b899388-4579-11e3-b9ce-0019bb30f31a.html)"
   ]
  },
  {
   "cell_type": "markdown",
   "metadata": {},
   "source": [
    "## Feature Engineering"
   ]
  },
  {
   "cell_type": "code",
   "execution_count": 38,
   "metadata": {},
   "outputs": [
    {
     "data": {
      "text/plain": [
       "'American Double / Imperial IPA'"
      ]
     },
     "execution_count": 38,
     "metadata": {},
     "output_type": "execute_result"
    }
   ],
   "source": [
    "beers['beer_style'][0]"
   ]
  },
  {
   "cell_type": "code",
   "execution_count": 39,
   "metadata": {},
   "outputs": [
    {
     "data": {
      "text/plain": [
       "True"
      ]
     },
     "execution_count": 39,
     "metadata": {},
     "output_type": "execute_result"
    }
   ],
   "source": [
    "'Double' in beers['beer_style'][0]"
   ]
  },
  {
   "cell_type": "code",
   "execution_count": 48,
   "metadata": {},
   "outputs": [],
   "source": [
    "def double_trouble(row):\n",
    "    if 'Double' in row:\n",
    "        return 1\n",
    "    else:\n",
    "        return 0"
   ]
  },
  {
   "cell_type": "code",
   "execution_count": 49,
   "metadata": {},
   "outputs": [],
   "source": [
    "beers['newvar']=beers['beer_style'].apply(double_trouble)"
   ]
  },
  {
   "cell_type": "code",
   "execution_count": 50,
   "metadata": {},
   "outputs": [
    {
     "data": {
      "text/html": [
       "<div>\n",
       "<style scoped>\n",
       "    .dataframe tbody tr th:only-of-type {\n",
       "        vertical-align: middle;\n",
       "    }\n",
       "\n",
       "    .dataframe tbody tr th {\n",
       "        vertical-align: top;\n",
       "    }\n",
       "\n",
       "    .dataframe thead th {\n",
       "        text-align: right;\n",
       "    }\n",
       "</style>\n",
       "<table border=\"1\" class=\"dataframe\">\n",
       "  <thead>\n",
       "    <tr style=\"text-align: right;\">\n",
       "      <th></th>\n",
       "      <th>brewery_name</th>\n",
       "      <th>beer_name</th>\n",
       "      <th>beer_style</th>\n",
       "      <th>beer_abv</th>\n",
       "      <th>num_reviews</th>\n",
       "      <th>rating</th>\n",
       "      <th>city</th>\n",
       "      <th>state</th>\n",
       "      <th>newvar</th>\n",
       "    </tr>\n",
       "  </thead>\n",
       "  <tbody>\n",
       "    <tr>\n",
       "      <th>0</th>\n",
       "      <td>21st Amendment Brewery</td>\n",
       "      <td>21 Rock</td>\n",
       "      <td>American Double / Imperial IPA</td>\n",
       "      <td>9.7</td>\n",
       "      <td>2</td>\n",
       "      <td>4.00</td>\n",
       "      <td>San Francisco</td>\n",
       "      <td>CA</td>\n",
       "      <td>1</td>\n",
       "    </tr>\n",
       "    <tr>\n",
       "      <th>1</th>\n",
       "      <td>21st Amendment Brewery</td>\n",
       "      <td>21st Amendment IPA</td>\n",
       "      <td>American IPA</td>\n",
       "      <td>7.0</td>\n",
       "      <td>650</td>\n",
       "      <td>3.89</td>\n",
       "      <td>San Francisco</td>\n",
       "      <td>CA</td>\n",
       "      <td>0</td>\n",
       "    </tr>\n",
       "    <tr>\n",
       "      <th>2</th>\n",
       "      <td>21st Amendment Brewery</td>\n",
       "      <td>21st Amendment Imperial Stout</td>\n",
       "      <td>Russian Imperial Stout</td>\n",
       "      <td>10.0</td>\n",
       "      <td>4</td>\n",
       "      <td>3.88</td>\n",
       "      <td>San Francisco</td>\n",
       "      <td>CA</td>\n",
       "      <td>0</td>\n",
       "    </tr>\n",
       "    <tr>\n",
       "      <th>3</th>\n",
       "      <td>21st Amendment Brewery</td>\n",
       "      <td>21st Amendment Pale Ale</td>\n",
       "      <td>American Pale Ale (APA)</td>\n",
       "      <td>5.5</td>\n",
       "      <td>7</td>\n",
       "      <td>3.86</td>\n",
       "      <td>San Francisco</td>\n",
       "      <td>CA</td>\n",
       "      <td>0</td>\n",
       "    </tr>\n",
       "    <tr>\n",
       "      <th>4</th>\n",
       "      <td>21st Amendment Brewery</td>\n",
       "      <td>5-South</td>\n",
       "      <td>American Pale Ale (APA)</td>\n",
       "      <td>6.0</td>\n",
       "      <td>3</td>\n",
       "      <td>4.00</td>\n",
       "      <td>San Francisco</td>\n",
       "      <td>CA</td>\n",
       "      <td>0</td>\n",
       "    </tr>\n",
       "  </tbody>\n",
       "</table>\n",
       "</div>"
      ],
      "text/plain": [
       "             brewery_name                      beer_name  \\\n",
       "0  21st Amendment Brewery                        21 Rock   \n",
       "1  21st Amendment Brewery             21st Amendment IPA   \n",
       "2  21st Amendment Brewery  21st Amendment Imperial Stout   \n",
       "3  21st Amendment Brewery        21st Amendment Pale Ale   \n",
       "4  21st Amendment Brewery                        5-South   \n",
       "\n",
       "                       beer_style  beer_abv  num_reviews  rating  \\\n",
       "0  American Double / Imperial IPA       9.7            2    4.00   \n",
       "1                    American IPA       7.0          650    3.89   \n",
       "2          Russian Imperial Stout      10.0            4    3.88   \n",
       "3         American Pale Ale (APA)       5.5            7    3.86   \n",
       "4         American Pale Ale (APA)       6.0            3    4.00   \n",
       "\n",
       "            city state  newvar  \n",
       "0  San Francisco    CA       1  \n",
       "1  San Francisco    CA       0  \n",
       "2  San Francisco    CA       0  \n",
       "3  San Francisco    CA       0  \n",
       "4  San Francisco    CA       0  "
      ]
     },
     "execution_count": 50,
     "metadata": {},
     "output_type": "execute_result"
    }
   ],
   "source": [
    "beers.head()"
   ]
  },
  {
   "cell_type": "code",
   "execution_count": 11,
   "metadata": {},
   "outputs": [],
   "source": [
    "# Let's shrink our dataset \n",
    "beers=beers[['beer_style', 'beer_abv']]"
   ]
  },
  {
   "cell_type": "code",
   "execution_count": 12,
   "metadata": {},
   "outputs": [],
   "source": [
    "# Now convert those beer styles to \"dummy\" columns\n",
    "beers2=pd.get_dummies(beers, columns = ['beer_style'], prefix='', prefix_sep='')"
   ]
  },
  {
   "cell_type": "code",
   "execution_count": 13,
   "metadata": {},
   "outputs": [
    {
     "data": {
      "text/plain": [
       "Index(['beer_abv', 'Altbier', 'American Adjunct Lager',\n",
       "       'American Amber / Red Ale', 'American Amber / Red Lager',\n",
       "       'American Barleywine', 'American Black Ale', 'American Blonde Ale',\n",
       "       'American Brown Ale', 'American Dark Wheat Ale',\n",
       "       'American Double / Imperial IPA', 'American Double / Imperial Pilsner',\n",
       "       'American Double / Imperial Stout', 'American IPA',\n",
       "       'American Malt Liquor', 'American Pale Ale (APA)',\n",
       "       'American Pale Lager', 'American Pale Wheat Ale', 'American Porter',\n",
       "       'American Stout', 'American Strong Ale', 'American Wild Ale',\n",
       "       'Baltic Porter', 'Belgian Dark Ale', 'Belgian IPA', 'Belgian Pale Ale',\n",
       "       'Belgian Strong Dark Ale', 'Belgian Strong Pale Ale',\n",
       "       'Berliner Weissbier', 'Bière de Garde', 'Black & Tan', 'Bock',\n",
       "       'Braggot', 'California Common / Steam Beer', 'Chile Beer', 'Cream Ale',\n",
       "       'Czech Pilsener', 'Doppelbock', 'Dortmunder / Export Lager', 'Dubbel',\n",
       "       'Dunkelweizen', 'Eisbock', 'English Barleywine', 'English Bitter',\n",
       "       'English Brown Ale', 'English Dark Mild Ale',\n",
       "       'English India Pale Ale (IPA)', 'English Pale Ale',\n",
       "       'English Pale Mild Ale', 'English Porter', 'English Stout',\n",
       "       'English Strong Ale', 'Euro Dark Lager', 'Euro Pale Lager',\n",
       "       'Euro Strong Lager', 'Extra Special / Strong Bitter (ESB)',\n",
       "       'Flanders Oud Bruin', 'Flanders Red Ale', 'Foreign / Export Stout',\n",
       "       'Fruit / Vegetable Beer', 'German Pilsener', 'Gose', 'Hefeweizen',\n",
       "       'Herbed / Spiced Beer', 'Irish Dry Stout', 'Irish Red Ale',\n",
       "       'Japanese Rice Lager', 'Keller Bier / Zwickel Bier', 'Kristalweizen',\n",
       "       'Kölsch', 'Lambic - Fruit', 'Lambic - Unblended', 'Light Lager',\n",
       "       'Low Alcohol Beer', 'Maibock / Helles Bock', 'Milk / Sweet Stout',\n",
       "       'Munich Dunkel Lager', 'Munich Helles Lager', 'Märzen / Oktoberfest',\n",
       "       'Oatmeal Stout', 'Old Ale', 'Pumpkin Ale', 'Quadrupel (Quad)',\n",
       "       'Rauchbier', 'Roggenbier', 'Russian Imperial Stout', 'Rye Beer',\n",
       "       'Saison / Farmhouse Ale', 'Schwarzbier', 'Scotch Ale / Wee Heavy',\n",
       "       'Scottish Ale', 'Scottish Gruit / Ancient Herbed Ale', 'Smoked Beer',\n",
       "       'Tripel', 'Vienna Lager', 'Weizenbock', 'Wheatwine', 'Winter Warmer',\n",
       "       'Witbier'],\n",
       "      dtype='object')"
      ]
     },
     "execution_count": 13,
     "metadata": {},
     "output_type": "execute_result"
    }
   ],
   "source": [
    "# We now have one column for every style!\n",
    "beers2.columns"
   ]
  },
  {
   "cell_type": "code",
   "execution_count": 14,
   "metadata": {},
   "outputs": [
    {
     "data": {
      "text/html": [
       "<div>\n",
       "<style scoped>\n",
       "    .dataframe tbody tr th:only-of-type {\n",
       "        vertical-align: middle;\n",
       "    }\n",
       "\n",
       "    .dataframe tbody tr th {\n",
       "        vertical-align: top;\n",
       "    }\n",
       "\n",
       "    .dataframe thead th {\n",
       "        text-align: right;\n",
       "    }\n",
       "</style>\n",
       "<table border=\"1\" class=\"dataframe\">\n",
       "  <thead>\n",
       "    <tr style=\"text-align: right;\">\n",
       "      <th></th>\n",
       "      <th>beer_abv</th>\n",
       "      <th>Altbier</th>\n",
       "      <th>American Adjunct Lager</th>\n",
       "      <th>American Amber / Red Ale</th>\n",
       "      <th>American Amber / Red Lager</th>\n",
       "      <th>American Barleywine</th>\n",
       "      <th>American Black Ale</th>\n",
       "      <th>American Blonde Ale</th>\n",
       "      <th>American Brown Ale</th>\n",
       "      <th>American Dark Wheat Ale</th>\n",
       "      <th>...</th>\n",
       "      <th>Scotch Ale / Wee Heavy</th>\n",
       "      <th>Scottish Ale</th>\n",
       "      <th>Scottish Gruit / Ancient Herbed Ale</th>\n",
       "      <th>Smoked Beer</th>\n",
       "      <th>Tripel</th>\n",
       "      <th>Vienna Lager</th>\n",
       "      <th>Weizenbock</th>\n",
       "      <th>Wheatwine</th>\n",
       "      <th>Winter Warmer</th>\n",
       "      <th>Witbier</th>\n",
       "    </tr>\n",
       "  </thead>\n",
       "  <tbody>\n",
       "    <tr>\n",
       "      <th>0</th>\n",
       "      <td>9.7</td>\n",
       "      <td>0</td>\n",
       "      <td>0</td>\n",
       "      <td>0</td>\n",
       "      <td>0</td>\n",
       "      <td>0</td>\n",
       "      <td>0</td>\n",
       "      <td>0</td>\n",
       "      <td>0</td>\n",
       "      <td>0</td>\n",
       "      <td>...</td>\n",
       "      <td>0</td>\n",
       "      <td>0</td>\n",
       "      <td>0</td>\n",
       "      <td>0</td>\n",
       "      <td>0</td>\n",
       "      <td>0</td>\n",
       "      <td>0</td>\n",
       "      <td>0</td>\n",
       "      <td>0</td>\n",
       "      <td>0</td>\n",
       "    </tr>\n",
       "    <tr>\n",
       "      <th>1</th>\n",
       "      <td>7.0</td>\n",
       "      <td>0</td>\n",
       "      <td>0</td>\n",
       "      <td>0</td>\n",
       "      <td>0</td>\n",
       "      <td>0</td>\n",
       "      <td>0</td>\n",
       "      <td>0</td>\n",
       "      <td>0</td>\n",
       "      <td>0</td>\n",
       "      <td>...</td>\n",
       "      <td>0</td>\n",
       "      <td>0</td>\n",
       "      <td>0</td>\n",
       "      <td>0</td>\n",
       "      <td>0</td>\n",
       "      <td>0</td>\n",
       "      <td>0</td>\n",
       "      <td>0</td>\n",
       "      <td>0</td>\n",
       "      <td>0</td>\n",
       "    </tr>\n",
       "    <tr>\n",
       "      <th>2</th>\n",
       "      <td>10.0</td>\n",
       "      <td>0</td>\n",
       "      <td>0</td>\n",
       "      <td>0</td>\n",
       "      <td>0</td>\n",
       "      <td>0</td>\n",
       "      <td>0</td>\n",
       "      <td>0</td>\n",
       "      <td>0</td>\n",
       "      <td>0</td>\n",
       "      <td>...</td>\n",
       "      <td>0</td>\n",
       "      <td>0</td>\n",
       "      <td>0</td>\n",
       "      <td>0</td>\n",
       "      <td>0</td>\n",
       "      <td>0</td>\n",
       "      <td>0</td>\n",
       "      <td>0</td>\n",
       "      <td>0</td>\n",
       "      <td>0</td>\n",
       "    </tr>\n",
       "    <tr>\n",
       "      <th>3</th>\n",
       "      <td>5.5</td>\n",
       "      <td>0</td>\n",
       "      <td>0</td>\n",
       "      <td>0</td>\n",
       "      <td>0</td>\n",
       "      <td>0</td>\n",
       "      <td>0</td>\n",
       "      <td>0</td>\n",
       "      <td>0</td>\n",
       "      <td>0</td>\n",
       "      <td>...</td>\n",
       "      <td>0</td>\n",
       "      <td>0</td>\n",
       "      <td>0</td>\n",
       "      <td>0</td>\n",
       "      <td>0</td>\n",
       "      <td>0</td>\n",
       "      <td>0</td>\n",
       "      <td>0</td>\n",
       "      <td>0</td>\n",
       "      <td>0</td>\n",
       "    </tr>\n",
       "    <tr>\n",
       "      <th>4</th>\n",
       "      <td>6.0</td>\n",
       "      <td>0</td>\n",
       "      <td>0</td>\n",
       "      <td>0</td>\n",
       "      <td>0</td>\n",
       "      <td>0</td>\n",
       "      <td>0</td>\n",
       "      <td>0</td>\n",
       "      <td>0</td>\n",
       "      <td>0</td>\n",
       "      <td>...</td>\n",
       "      <td>0</td>\n",
       "      <td>0</td>\n",
       "      <td>0</td>\n",
       "      <td>0</td>\n",
       "      <td>0</td>\n",
       "      <td>0</td>\n",
       "      <td>0</td>\n",
       "      <td>0</td>\n",
       "      <td>0</td>\n",
       "      <td>0</td>\n",
       "    </tr>\n",
       "  </tbody>\n",
       "</table>\n",
       "<p>5 rows × 99 columns</p>\n",
       "</div>"
      ],
      "text/plain": [
       "   beer_abv  Altbier  American Adjunct Lager  American Amber / Red Ale  \\\n",
       "0       9.7        0                       0                         0   \n",
       "1       7.0        0                       0                         0   \n",
       "2      10.0        0                       0                         0   \n",
       "3       5.5        0                       0                         0   \n",
       "4       6.0        0                       0                         0   \n",
       "\n",
       "   American Amber / Red Lager  American Barleywine  American Black Ale  \\\n",
       "0                           0                    0                   0   \n",
       "1                           0                    0                   0   \n",
       "2                           0                    0                   0   \n",
       "3                           0                    0                   0   \n",
       "4                           0                    0                   0   \n",
       "\n",
       "   American Blonde Ale  American Brown Ale  American Dark Wheat Ale  ...  \\\n",
       "0                    0                   0                        0  ...   \n",
       "1                    0                   0                        0  ...   \n",
       "2                    0                   0                        0  ...   \n",
       "3                    0                   0                        0  ...   \n",
       "4                    0                   0                        0  ...   \n",
       "\n",
       "   Scotch Ale / Wee Heavy  Scottish Ale  Scottish Gruit / Ancient Herbed Ale  \\\n",
       "0                       0             0                                    0   \n",
       "1                       0             0                                    0   \n",
       "2                       0             0                                    0   \n",
       "3                       0             0                                    0   \n",
       "4                       0             0                                    0   \n",
       "\n",
       "   Smoked Beer  Tripel  Vienna Lager  Weizenbock  Wheatwine  Winter Warmer  \\\n",
       "0            0       0             0           0          0              0   \n",
       "1            0       0             0           0          0              0   \n",
       "2            0       0             0           0          0              0   \n",
       "3            0       0             0           0          0              0   \n",
       "4            0       0             0           0          0              0   \n",
       "\n",
       "   Witbier  \n",
       "0        0  \n",
       "1        0  \n",
       "2        0  \n",
       "3        0  \n",
       "4        0  \n",
       "\n",
       "[5 rows x 99 columns]"
      ]
     },
     "execution_count": 14,
     "metadata": {},
     "output_type": "execute_result"
    }
   ],
   "source": [
    "beers2.head()"
   ]
  },
  {
   "cell_type": "code",
   "execution_count": 15,
   "metadata": {},
   "outputs": [],
   "source": [
    "# Declare your target variable.\n",
    "y = beers2['beer_abv']"
   ]
  },
  {
   "cell_type": "code",
   "execution_count": 16,
   "metadata": {},
   "outputs": [],
   "source": [
    "# Declare your feature variables. We also drop the most frequent category as our \"comparison\".\n",
    "X = beers2.drop(['beer_abv', 'American IPA'], axis=1)"
   ]
  },
  {
   "cell_type": "markdown",
   "metadata": {},
   "source": [
    "## Split, fit and predict"
   ]
  },
  {
   "cell_type": "code",
   "execution_count": 17,
   "metadata": {},
   "outputs": [],
   "source": [
    "X_train, X_test, y_train, y_test = train_test_split(X, y, test_size=0.3, random_state=101)"
   ]
  },
  {
   "cell_type": "code",
   "execution_count": 18,
   "metadata": {},
   "outputs": [
    {
     "data": {
      "text/plain": [
       "LinearRegression(copy_X=True, fit_intercept=True, n_jobs=1, normalize=False)"
      ]
     },
     "execution_count": 18,
     "metadata": {},
     "output_type": "execute_result"
    }
   ],
   "source": [
    "# instantiate the sklearn regression class and fit it to your training data.\n",
    "\n",
    "linreg = LinearRegression()\n",
    "linreg.fit(X, y)"
   ]
  },
  {
   "cell_type": "code",
   "execution_count": 19,
   "metadata": {},
   "outputs": [],
   "source": [
    "# predict the y-values\n",
    "y_pred = linreg.predict(X_test)"
   ]
  },
  {
   "cell_type": "markdown",
   "metadata": {},
   "source": [
    "## Evaluate your model"
   ]
  },
  {
   "cell_type": "code",
   "execution_count": 20,
   "metadata": {},
   "outputs": [
    {
     "name": "stdout",
     "output_type": "stream",
     "text": [
      "On average, our model errs by  1\n"
     ]
    }
   ],
   "source": [
    "from math import sqrt\n",
    "# On average, by how much value are we missing the mark?\n",
    "rmse = sqrt(metrics.mean_squared_error(y_test, y_pred))\n",
    "print('On average, our model errs by ', round(rmse))"
   ]
  },
  {
   "cell_type": "code",
   "execution_count": 21,
   "metadata": {},
   "outputs": [
    {
     "name": "stdout",
     "output_type": "stream",
     "text": [
      "The average ABV is 7\n",
      "If we just used that to predict ABV, our avg error would be:\n",
      "ABV units 2\n"
     ]
    }
   ],
   "source": [
    "# So... what if we just flipped a coin?\n",
    "avg_val=round(y_train.mean())\n",
    "print('The average ABV is', avg_val)\n",
    "\n",
    "# Then the average error of our model would be:\n",
    "comparison_array=np.full((len(y_test), ), avg_val)\n",
    "coin_flip=sqrt(metrics.mean_squared_error(y_test, comparison_array))\n",
    "print('If we just used that to predict ABV, our avg error would be:')\n",
    "print('ABV units',round( coin_flip))"
   ]
  },
  {
   "cell_type": "code",
   "execution_count": 22,
   "metadata": {},
   "outputs": [
    {
     "name": "stdout",
     "output_type": "stream",
     "text": [
      "A good model will reduce error!\n",
      "ABV units -1\n"
     ]
    }
   ],
   "source": [
    "# So is our model better than flipping a coin?\n",
    "print('A good model will reduce error!')\n",
    "print('ABV units', round(rmse-coin_flip))"
   ]
  },
  {
   "cell_type": "code",
   "execution_count": 23,
   "metadata": {},
   "outputs": [
    {
     "data": {
      "text/plain": [
       "0.62"
      ]
     },
     "execution_count": 23,
     "metadata": {},
     "output_type": "execute_result"
    }
   ],
   "source": [
    "# A higher R2 score indicates more variance explained.\n",
    "r2=metrics.r2_score(y_test, y_pred)\n",
    "round(r2,2)"
   ]
  },
  {
   "cell_type": "code",
   "execution_count": 24,
   "metadata": {},
   "outputs": [
    {
     "data": {
      "image/png": "[encoded data removed]",
      "text/plain": [
       "<matplotlib.figure.Figure at 0x1a176f8390>"
      ]
     },
     "metadata": {
      "needs_background": "light"
     },
     "output_type": "display_data"
    }
   ],
   "source": [
    "# Let's display our predictions vs. real values.\n",
    "plt.figure(figsize=(6, 6))\n",
    "sns.regplot(x=y_pred, y=y_test);"
   ]
  },
  {
   "cell_type": "markdown",
   "metadata": {},
   "source": [
    "### Check out a single prediction"
   ]
  },
  {
   "cell_type": "code",
   "execution_count": 25,
   "metadata": {},
   "outputs": [
    {
     "data": {
      "text/html": [
       "<div>\n",
       "<style scoped>\n",
       "    .dataframe tbody tr th:only-of-type {\n",
       "        vertical-align: middle;\n",
       "    }\n",
       "\n",
       "    .dataframe tbody tr th {\n",
       "        vertical-align: top;\n",
       "    }\n",
       "\n",
       "    .dataframe thead th {\n",
       "        text-align: right;\n",
       "    }\n",
       "</style>\n",
       "<table border=\"1\" class=\"dataframe\">\n",
       "  <thead>\n",
       "    <tr style=\"text-align: right;\">\n",
       "      <th></th>\n",
       "      <th>Altbier</th>\n",
       "      <th>American Adjunct Lager</th>\n",
       "      <th>American Amber / Red Ale</th>\n",
       "      <th>American Amber / Red Lager</th>\n",
       "      <th>American Barleywine</th>\n",
       "      <th>American Black Ale</th>\n",
       "      <th>American Blonde Ale</th>\n",
       "      <th>American Brown Ale</th>\n",
       "      <th>American Dark Wheat Ale</th>\n",
       "      <th>American Double / Imperial IPA</th>\n",
       "      <th>...</th>\n",
       "      <th>Scotch Ale / Wee Heavy</th>\n",
       "      <th>Scottish Ale</th>\n",
       "      <th>Scottish Gruit / Ancient Herbed Ale</th>\n",
       "      <th>Smoked Beer</th>\n",
       "      <th>Tripel</th>\n",
       "      <th>Vienna Lager</th>\n",
       "      <th>Weizenbock</th>\n",
       "      <th>Wheatwine</th>\n",
       "      <th>Winter Warmer</th>\n",
       "      <th>Witbier</th>\n",
       "    </tr>\n",
       "  </thead>\n",
       "  <tbody>\n",
       "    <tr>\n",
       "      <th>843</th>\n",
       "      <td>0</td>\n",
       "      <td>0</td>\n",
       "      <td>0</td>\n",
       "      <td>0</td>\n",
       "      <td>0</td>\n",
       "      <td>0</td>\n",
       "      <td>0</td>\n",
       "      <td>0</td>\n",
       "      <td>0</td>\n",
       "      <td>0</td>\n",
       "      <td>...</td>\n",
       "      <td>0</td>\n",
       "      <td>0</td>\n",
       "      <td>0</td>\n",
       "      <td>0</td>\n",
       "      <td>0</td>\n",
       "      <td>0</td>\n",
       "      <td>0</td>\n",
       "      <td>0</td>\n",
       "      <td>0</td>\n",
       "      <td>0</td>\n",
       "    </tr>\n",
       "    <tr>\n",
       "      <th>4023</th>\n",
       "      <td>0</td>\n",
       "      <td>0</td>\n",
       "      <td>0</td>\n",
       "      <td>0</td>\n",
       "      <td>0</td>\n",
       "      <td>0</td>\n",
       "      <td>0</td>\n",
       "      <td>0</td>\n",
       "      <td>0</td>\n",
       "      <td>0</td>\n",
       "      <td>...</td>\n",
       "      <td>0</td>\n",
       "      <td>0</td>\n",
       "      <td>0</td>\n",
       "      <td>0</td>\n",
       "      <td>0</td>\n",
       "      <td>0</td>\n",
       "      <td>0</td>\n",
       "      <td>0</td>\n",
       "      <td>0</td>\n",
       "      <td>0</td>\n",
       "    </tr>\n",
       "    <tr>\n",
       "      <th>3548</th>\n",
       "      <td>0</td>\n",
       "      <td>0</td>\n",
       "      <td>0</td>\n",
       "      <td>0</td>\n",
       "      <td>0</td>\n",
       "      <td>0</td>\n",
       "      <td>0</td>\n",
       "      <td>0</td>\n",
       "      <td>0</td>\n",
       "      <td>0</td>\n",
       "      <td>...</td>\n",
       "      <td>0</td>\n",
       "      <td>0</td>\n",
       "      <td>0</td>\n",
       "      <td>0</td>\n",
       "      <td>0</td>\n",
       "      <td>0</td>\n",
       "      <td>0</td>\n",
       "      <td>0</td>\n",
       "      <td>0</td>\n",
       "      <td>0</td>\n",
       "    </tr>\n",
       "    <tr>\n",
       "      <th>263</th>\n",
       "      <td>0</td>\n",
       "      <td>0</td>\n",
       "      <td>0</td>\n",
       "      <td>0</td>\n",
       "      <td>0</td>\n",
       "      <td>0</td>\n",
       "      <td>0</td>\n",
       "      <td>0</td>\n",
       "      <td>0</td>\n",
       "      <td>0</td>\n",
       "      <td>...</td>\n",
       "      <td>0</td>\n",
       "      <td>0</td>\n",
       "      <td>0</td>\n",
       "      <td>0</td>\n",
       "      <td>0</td>\n",
       "      <td>0</td>\n",
       "      <td>0</td>\n",
       "      <td>0</td>\n",
       "      <td>0</td>\n",
       "      <td>0</td>\n",
       "    </tr>\n",
       "    <tr>\n",
       "      <th>1567</th>\n",
       "      <td>0</td>\n",
       "      <td>0</td>\n",
       "      <td>0</td>\n",
       "      <td>0</td>\n",
       "      <td>0</td>\n",
       "      <td>0</td>\n",
       "      <td>0</td>\n",
       "      <td>0</td>\n",
       "      <td>0</td>\n",
       "      <td>0</td>\n",
       "      <td>...</td>\n",
       "      <td>0</td>\n",
       "      <td>0</td>\n",
       "      <td>0</td>\n",
       "      <td>0</td>\n",
       "      <td>0</td>\n",
       "      <td>0</td>\n",
       "      <td>0</td>\n",
       "      <td>0</td>\n",
       "      <td>0</td>\n",
       "      <td>0</td>\n",
       "    </tr>\n",
       "  </tbody>\n",
       "</table>\n",
       "<p>5 rows × 97 columns</p>\n",
       "</div>"
      ],
      "text/plain": [
       "      Altbier  American Adjunct Lager  American Amber / Red Ale  \\\n",
       "843         0                       0                         0   \n",
       "4023        0                       0                         0   \n",
       "3548        0                       0                         0   \n",
       "263         0                       0                         0   \n",
       "1567        0                       0                         0   \n",
       "\n",
       "      American Amber / Red Lager  American Barleywine  American Black Ale  \\\n",
       "843                            0                    0                   0   \n",
       "4023                           0                    0                   0   \n",
       "3548                           0                    0                   0   \n",
       "263                            0                    0                   0   \n",
       "1567                           0                    0                   0   \n",
       "\n",
       "      American Blonde Ale  American Brown Ale  American Dark Wheat Ale  \\\n",
       "843                     0                   0                        0   \n",
       "4023                    0                   0                        0   \n",
       "3548                    0                   0                        0   \n",
       "263                     0                   0                        0   \n",
       "1567                    0                   0                        0   \n",
       "\n",
       "      American Double / Imperial IPA  ...  Scotch Ale / Wee Heavy  \\\n",
       "843                                0  ...                       0   \n",
       "4023                               0  ...                       0   \n",
       "3548                               0  ...                       0   \n",
       "263                                0  ...                       0   \n",
       "1567                               0  ...                       0   \n",
       "\n",
       "      Scottish Ale  Scottish Gruit / Ancient Herbed Ale  Smoked Beer  Tripel  \\\n",
       "843              0                                    0            0       0   \n",
       "4023             0                                    0            0       0   \n",
       "3548             0                                    0            0       0   \n",
       "263              0                                    0            0       0   \n",
       "1567             0                                    0            0       0   \n",
       "\n",
       "      Vienna Lager  Weizenbock  Wheatwine  Winter Warmer  Witbier  \n",
       "843              0           0          0              0        0  \n",
       "4023             0           0          0              0        0  \n",
       "3548             0           0          0              0        0  \n",
       "263              0           0          0              0        0  \n",
       "1567             0           0          0              0        0  \n",
       "\n",
       "[5 rows x 97 columns]"
      ]
     },
     "execution_count": 25,
     "metadata": {},
     "output_type": "execute_result"
    }
   ],
   "source": [
    "# What's the first beer in the testing dataset? (Note that y_test keeps its original index).\n",
    "X_test.head()"
   ]
  },
  {
   "cell_type": "code",
   "execution_count": 26,
   "metadata": {},
   "outputs": [
    {
     "data": {
      "text/plain": [
       "Altbier                               0\n",
       "American Adjunct Lager                0\n",
       "American Amber / Red Ale              0\n",
       "American Amber / Red Lager            0\n",
       "American Barleywine                   0\n",
       "American Black Ale                    0\n",
       "American Blonde Ale                   0\n",
       "American Brown Ale                    0\n",
       "American Dark Wheat Ale               0\n",
       "American Double / Imperial IPA        0\n",
       "American Double / Imperial Pilsner    0\n",
       "American Double / Imperial Stout      0\n",
       "American Malt Liquor                  0\n",
       "American Pale Ale (APA)               0\n",
       "American Pale Lager                   0\n",
       "American Pale Wheat Ale               0\n",
       "American Porter                       0\n",
       "American Stout                        0\n",
       "American Strong Ale                   0\n",
       "American Wild Ale                     1\n",
       "Name: 843, dtype: uint8"
      ]
     },
     "execution_count": 26,
     "metadata": {},
     "output_type": "execute_result"
    }
   ],
   "source": [
    "# What type of beer is it?\n",
    "X_test.loc[843].head(20)"
   ]
  },
  {
   "cell_type": "code",
   "execution_count": 27,
   "metadata": {},
   "outputs": [
    {
     "name": "stdout",
     "output_type": "stream",
     "text": [
      "actual ABV 7.75\n",
      "predicted ABV 8.0\n"
     ]
    }
   ],
   "source": [
    "# How does its true ABV compare to its predicted ABV? (Note that for y_pred, the index has been reset)\n",
    "print('actual ABV', y_test[843])\n",
    "print('predicted ABV', round(y_pred[0]))"
   ]
  },
  {
   "cell_type": "code",
   "execution_count": 28,
   "metadata": {},
   "outputs": [
    {
     "name": "stdout",
     "output_type": "stream",
     "text": [
      "85\n",
      "            beer_style  beer_abv\n",
      "145  American Wild Ale      5.00\n",
      "187  American Wild Ale      5.20\n",
      "219  American Wild Ale      7.68\n",
      "226  American Wild Ale      9.00\n",
      "233  American Wild Ale      8.65\n"
     ]
    }
   ],
   "source": [
    "# Were there a lot of beers of that type?\n",
    "beer_filter=beers.loc[beers['beer_style']==\"American Wild Ale\"]\n",
    "print(len(beer_filter))\n",
    "print(beer_filter.head())"
   ]
  },
  {
   "cell_type": "code",
   "execution_count": 29,
   "metadata": {},
   "outputs": [
    {
     "data": {
      "text/plain": [
       "7.61576470588235"
      ]
     },
     "execution_count": 29,
     "metadata": {},
     "output_type": "execute_result"
    }
   ],
   "source": [
    "# What was the average ABV of all beers of that type?\n",
    "beer_filter['beer_abv'].mean()"
   ]
  },
  {
   "cell_type": "code",
   "execution_count": 30,
   "metadata": {},
   "outputs": [],
   "source": [
    "# How similar is that to our prediction for the first beer?"
   ]
  }
 ],
 "metadata": {
  "kernelspec": {
   "display_name": "Python 3",
   "language": "python",
   "name": "python3"
  },
  "language_info": {
   "codemirror_mode": {
    "name": "ipython",
    "version": 3
   },
   "file_extension": ".py",
   "mimetype": "text/x-python",
   "name": "python",
   "nbconvert_exporter": "python",
   "pygments_lexer": "ipython3",
   "version": "3.6.7"
  }
 },
 "nbformat": 4,
 "nbformat_minor": 2
}
