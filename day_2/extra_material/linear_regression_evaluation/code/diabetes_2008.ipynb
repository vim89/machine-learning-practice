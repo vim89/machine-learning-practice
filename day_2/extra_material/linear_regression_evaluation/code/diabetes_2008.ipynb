{
 "cells": [
  {
   "cell_type": "code",
   "execution_count": 1,
   "metadata": {},
   "outputs": [],
   "source": [
    "# Import packages\n",
    "import numpy as np\n",
    "import pandas as pd\n",
    "import scipy.stats as stats"
   ]
  },
  {
   "cell_type": "code",
   "execution_count": 2,
   "metadata": {},
   "outputs": [],
   "source": [
    "import matplotlib.pyplot as plt\n",
    "%matplotlib inline\n",
    "import seaborn as sns\n",
    "sns.set_style('darkgrid')\n",
    "sns.set_context('talk')\n",
    "sns.set_palette('OrRd')"
   ]
  },
  {
   "cell_type": "markdown",
   "metadata": {},
   "source": [
    "We're going to look at county-level data about health and nutrition from the USDA.\n",
    "https://www.ers.usda.gov/webdocs/DataFiles/80526/archived_documentation_February2014.pdf?v=41688"
   ]
  },
  {
   "cell_type": "code",
   "execution_count": 18,
   "metadata": {},
   "outputs": [
    {
     "data": {
      "text/html": [
       "<div>\n",
       "<style scoped>\n",
       "    .dataframe tbody tr th:only-of-type {\n",
       "        vertical-align: middle;\n",
       "    }\n",
       "\n",
       "    .dataframe tbody tr th {\n",
       "        vertical-align: top;\n",
       "    }\n",
       "\n",
       "    .dataframe thead th {\n",
       "        text-align: right;\n",
       "    }\n",
       "</style>\n",
       "<table border=\"1\" class=\"dataframe\">\n",
       "  <thead>\n",
       "    <tr style=\"text-align: right;\">\n",
       "      <th></th>\n",
       "      <th>FIPS</th>\n",
       "      <th>State</th>\n",
       "      <th>County</th>\n",
       "      <th>hi_diabetes</th>\n",
       "      <th>hi_obesity</th>\n",
       "      <th>RECFACPTH09</th>\n",
       "      <th>PCT_OBESE_ADULTS08</th>\n",
       "      <th>PCT_DIABETES_ADULTS08</th>\n",
       "      <th>FFRPTH09</th>\n",
       "      <th>FSRPTH09</th>\n",
       "      <th>...</th>\n",
       "      <th>METRO13</th>\n",
       "      <th>POPLOSS10</th>\n",
       "      <th>MEDHHINC15</th>\n",
       "      <th>PCT_LACCESS_POP10</th>\n",
       "      <th>SNAP_PART_RATE08</th>\n",
       "      <th>PCT_NSLP09</th>\n",
       "      <th>PCT_WIC09</th>\n",
       "      <th>PCT_CACFP09</th>\n",
       "      <th>GROCPTH09</th>\n",
       "      <th>WICSPTH08</th>\n",
       "    </tr>\n",
       "  </thead>\n",
       "  <tbody>\n",
       "    <tr>\n",
       "      <th>0</th>\n",
       "      <td>1001</td>\n",
       "      <td>AL</td>\n",
       "      <td>Autauga</td>\n",
       "      <td>1</td>\n",
       "      <td>1</td>\n",
       "      <td>0.073889</td>\n",
       "      <td>31.5</td>\n",
       "      <td>11.4</td>\n",
       "      <td>0.554170</td>\n",
       "      <td>0.628059</td>\n",
       "      <td>...</td>\n",
       "      <td>1</td>\n",
       "      <td>0.0</td>\n",
       "      <td>56580.0</td>\n",
       "      <td>33.769657</td>\n",
       "      <td>67</td>\n",
       "      <td>12.315055</td>\n",
       "      <td>2.990417</td>\n",
       "      <td>0.91609</td>\n",
       "      <td>0.110834</td>\n",
       "      <td>0.119156</td>\n",
       "    </tr>\n",
       "    <tr>\n",
       "      <th>1</th>\n",
       "      <td>1003</td>\n",
       "      <td>AL</td>\n",
       "      <td>Baldwin</td>\n",
       "      <td>0</td>\n",
       "      <td>0</td>\n",
       "      <td>0.100331</td>\n",
       "      <td>26.2</td>\n",
       "      <td>9.8</td>\n",
       "      <td>0.624282</td>\n",
       "      <td>1.125938</td>\n",
       "      <td>...</td>\n",
       "      <td>1</td>\n",
       "      <td>0.0</td>\n",
       "      <td>52387.0</td>\n",
       "      <td>19.318473</td>\n",
       "      <td>67</td>\n",
       "      <td>12.315055</td>\n",
       "      <td>2.990417</td>\n",
       "      <td>0.91609</td>\n",
       "      <td>0.133775</td>\n",
       "      <td>0.141875</td>\n",
       "    </tr>\n",
       "    <tr>\n",
       "      <th>2</th>\n",
       "      <td>1005</td>\n",
       "      <td>AL</td>\n",
       "      <td>Barbour</td>\n",
       "      <td>1</td>\n",
       "      <td>1</td>\n",
       "      <td>0.036157</td>\n",
       "      <td>37.6</td>\n",
       "      <td>13.6</td>\n",
       "      <td>0.759301</td>\n",
       "      <td>0.433887</td>\n",
       "      <td>...</td>\n",
       "      <td>0</td>\n",
       "      <td>0.0</td>\n",
       "      <td>31433.0</td>\n",
       "      <td>20.840972</td>\n",
       "      <td>67</td>\n",
       "      <td>12.315055</td>\n",
       "      <td>2.990417</td>\n",
       "      <td>0.91609</td>\n",
       "      <td>0.180786</td>\n",
       "      <td>0.201099</td>\n",
       "    </tr>\n",
       "    <tr>\n",
       "      <th>3</th>\n",
       "      <td>1007</td>\n",
       "      <td>AL</td>\n",
       "      <td>Bibb</td>\n",
       "      <td>1</td>\n",
       "      <td>1</td>\n",
       "      <td>0.043590</td>\n",
       "      <td>32.3</td>\n",
       "      <td>11.1</td>\n",
       "      <td>0.305131</td>\n",
       "      <td>0.261540</td>\n",
       "      <td>...</td>\n",
       "      <td>1</td>\n",
       "      <td>0.0</td>\n",
       "      <td>40767.0</td>\n",
       "      <td>4.559753</td>\n",
       "      <td>67</td>\n",
       "      <td>12.315055</td>\n",
       "      <td>2.990417</td>\n",
       "      <td>0.91609</td>\n",
       "      <td>0.261540</td>\n",
       "      <td>0.277919</td>\n",
       "    </tr>\n",
       "    <tr>\n",
       "      <th>4</th>\n",
       "      <td>1009</td>\n",
       "      <td>AL</td>\n",
       "      <td>Blount</td>\n",
       "      <td>1</td>\n",
       "      <td>1</td>\n",
       "      <td>0.052319</td>\n",
       "      <td>31.9</td>\n",
       "      <td>11.4</td>\n",
       "      <td>0.418549</td>\n",
       "      <td>0.331351</td>\n",
       "      <td>...</td>\n",
       "      <td>1</td>\n",
       "      <td>0.0</td>\n",
       "      <td>50487.0</td>\n",
       "      <td>2.700840</td>\n",
       "      <td>67</td>\n",
       "      <td>12.315055</td>\n",
       "      <td>2.990417</td>\n",
       "      <td>0.91609</td>\n",
       "      <td>0.104637</td>\n",
       "      <td>0.173028</td>\n",
       "    </tr>\n",
       "  </tbody>\n",
       "</table>\n",
       "<p>5 rows × 26 columns</p>\n",
       "</div>"
      ],
      "text/plain": [
       "   FIPS State   County  hi_diabetes  hi_obesity  RECFACPTH09  \\\n",
       "0  1001    AL  Autauga            1           1     0.073889   \n",
       "1  1003    AL  Baldwin            0           0     0.100331   \n",
       "2  1005    AL  Barbour            1           1     0.036157   \n",
       "3  1007    AL     Bibb            1           1     0.043590   \n",
       "4  1009    AL   Blount            1           1     0.052319   \n",
       "\n",
       "   PCT_OBESE_ADULTS08  PCT_DIABETES_ADULTS08  FFRPTH09  FSRPTH09  ...  \\\n",
       "0                31.5                   11.4  0.554170  0.628059  ...   \n",
       "1                26.2                    9.8  0.624282  1.125938  ...   \n",
       "2                37.6                   13.6  0.759301  0.433887  ...   \n",
       "3                32.3                   11.1  0.305131  0.261540  ...   \n",
       "4                31.9                   11.4  0.418549  0.331351  ...   \n",
       "\n",
       "   METRO13  POPLOSS10  MEDHHINC15  PCT_LACCESS_POP10  SNAP_PART_RATE08  \\\n",
       "0        1        0.0     56580.0          33.769657                67   \n",
       "1        1        0.0     52387.0          19.318473                67   \n",
       "2        0        0.0     31433.0          20.840972                67   \n",
       "3        1        0.0     40767.0           4.559753                67   \n",
       "4        1        0.0     50487.0           2.700840                67   \n",
       "\n",
       "   PCT_NSLP09  PCT_WIC09  PCT_CACFP09  GROCPTH09  WICSPTH08  \n",
       "0   12.315055   2.990417      0.91609   0.110834   0.119156  \n",
       "1   12.315055   2.990417      0.91609   0.133775   0.141875  \n",
       "2   12.315055   2.990417      0.91609   0.180786   0.201099  \n",
       "3   12.315055   2.990417      0.91609   0.261540   0.277919  \n",
       "4   12.315055   2.990417      0.91609   0.104637   0.173028  \n",
       "\n",
       "[5 rows x 26 columns]"
      ]
     },
     "execution_count": 18,
     "metadata": {},
     "output_type": "execute_result"
    }
   ],
   "source": [
    "counties=pd.read_csv('../data/counties.csv')\n",
    "counties.head()"
   ]
  },
  {
   "cell_type": "code",
   "execution_count": 19,
   "metadata": {},
   "outputs": [
    {
     "data": {
      "text/plain": [
       "Index(['FIPS', 'State', 'County', 'hi_diabetes', 'hi_obesity', 'RECFACPTH09',\n",
       "       'PCT_OBESE_ADULTS08', 'PCT_DIABETES_ADULTS08', 'FFRPTH09', 'FSRPTH09',\n",
       "       'PC_FFRSALES07', 'PC_FSRSALES07', 'PCT_NHWHITE10', 'PCT_65OLDER10',\n",
       "       'PCT_18YOUNGER10', 'PERPOV10', 'METRO13', 'POPLOSS10', 'MEDHHINC15',\n",
       "       'PCT_LACCESS_POP10', 'SNAP_PART_RATE08', 'PCT_NSLP09', 'PCT_WIC09',\n",
       "       'PCT_CACFP09', 'GROCPTH09', 'WICSPTH08'],\n",
       "      dtype='object')"
      ]
     },
     "execution_count": 19,
     "metadata": {},
     "output_type": "execute_result"
    }
   ],
   "source": [
    "counties.columns"
   ]
  },
  {
   "cell_type": "markdown",
   "metadata": {},
   "source": [
    "#### County-level indicators of health, nutrition, socioeconomic status, demographics, etc.\n",
    "% White, 2010 PCT_NHWHITE10  \n",
    "% Population 65 years or older, 2010 PCT_65OLDER10  \n",
    "% Population under age 18, 2010 PCT_18YOUNGER10  \n",
    "Persistent-poverty counties, 2010 PERPOV10  \n",
    "Metro/nonmetro counties, 2010 METRO13  \n",
    "Population-loss counties, 2010 POPLOSS10    \n",
    "Median household income, 2015 MEDHHINC15   \n",
    "Population, low access to store (%), 2010 PCT_LACCESS_POP10     \n",
    "SNAP participants (% eligible pop), 2008 SNAP_PART_RATE08   \n",
    "National School Lunch Program participants (% pop), 2009 PCT_NSLP09   \n",
    "WIC participants (% pop), 2009 PCT_WIC09   \n",
    "Child & Adult Care (% pop), 2009 PCT_CACFP09   \n",
    "Adult diabetes rate, 2008 PCT_DIABETES_ADULTS08   \n",
    "Adult obesity rate, 2008 PCT_OBESE_ADULTS08   \n",
    "Recreation & fitness facilities/1,000 pop, 2009 RECFACPTH09   \n",
    "County diabetes level is above national average, hi_diabetes   \n",
    "County obesity level is above national average, hi_obesity  \n",
    "Fast-food restaurants/1,000 pop, 2009 FFRPTH09   \n",
    "Full-service restaurants/1,000 pop, 2009 FSRPTH09   \n",
    "Expenditures per capita, fast food, 2007 PC_FFRSALES07   \n",
    "Expenditures per capita, restaurants, 2007 PC_FSRSALES07   "
   ]
  },
  {
   "cell_type": "markdown",
   "metadata": {},
   "source": [
    "## Confirm data is ready for analysis"
   ]
  },
  {
   "cell_type": "code",
   "execution_count": 4,
   "metadata": {},
   "outputs": [
    {
     "data": {
      "text/plain": [
       "FIPS                 0\n",
       "State                0\n",
       "County               0\n",
       "hi_diabetes          0\n",
       "hi_obesity           0\n",
       "RECFACPTH09          0\n",
       "FFRPTH09             0\n",
       "FSRPTH09             0\n",
       "PC_FFRSALES07        0\n",
       "PC_FSRSALES07        0\n",
       "PCT_NHWHITE10        0\n",
       "PCT_65OLDER10        0\n",
       "PCT_18YOUNGER10      0\n",
       "PERPOV10             0\n",
       "METRO13              0\n",
       "POPLOSS10            0\n",
       "MEDHHINC15           0\n",
       "PCT_LACCESS_POP10    0\n",
       "SNAP_PART_RATE08     0\n",
       "PCT_NSLP09           0\n",
       "PCT_WIC09            0\n",
       "PCT_CACFP09          0\n",
       "GROCPTH09            0\n",
       "WICSPTH08            0\n",
       "dtype: int64"
      ]
     },
     "execution_count": 4,
     "metadata": {},
     "output_type": "execute_result"
    }
   ],
   "source": [
    "# Confirm no missing values\n",
    "counties.isnull().sum()"
   ]
  },
  {
   "cell_type": "code",
   "execution_count": 5,
   "metadata": {},
   "outputs": [
    {
     "data": {
      "text/plain": [
       "FIPS                   int64\n",
       "State                 object\n",
       "County                object\n",
       "hi_diabetes            int64\n",
       "hi_obesity             int64\n",
       "RECFACPTH09          float64\n",
       "FFRPTH09             float64\n",
       "FSRPTH09             float64\n",
       "PC_FFRSALES07        float64\n",
       "PC_FSRSALES07        float64\n",
       "PCT_NHWHITE10        float64\n",
       "PCT_65OLDER10        float64\n",
       "PCT_18YOUNGER10      float64\n",
       "PERPOV10               int64\n",
       "METRO13                int64\n",
       "POPLOSS10            float64\n",
       "MEDHHINC15           float64\n",
       "PCT_LACCESS_POP10    float64\n",
       "SNAP_PART_RATE08       int64\n",
       "PCT_NSLP09           float64\n",
       "PCT_WIC09            float64\n",
       "PCT_CACFP09          float64\n",
       "GROCPTH09            float64\n",
       "WICSPTH08            float64\n",
       "dtype: object"
      ]
     },
     "execution_count": 5,
     "metadata": {},
     "output_type": "execute_result"
    }
   ],
   "source": [
    "# Confirm all columns are numeric\n",
    "counties.dtypes"
   ]
  },
  {
   "cell_type": "markdown",
   "metadata": {},
   "source": [
    "#### Store Features \n",
    "Grocery stores/1,000 pop, 2009\tGROCPTH09  \n",
    "WIC-authorized stores/1,000 pop, 2008\tWICSPTH08"
   ]
  },
  {
   "cell_type": "code",
   "execution_count": 20,
   "metadata": {},
   "outputs": [
    {
     "name": "stdout",
     "output_type": "stream",
     "text": [
      "                       PCT_DIABETES_ADULTS08  GROCPTH09  WICSPTH08\n",
      "PCT_DIABETES_ADULTS08               1.000000  -0.052611   0.023971\n",
      "GROCPTH09                          -0.052611   1.000000   0.610591\n",
      "WICSPTH08                           0.023971   0.610591   1.000000\n"
     ]
    },
    {
     "data": {
      "image/png": "[encoded data removed]",
      "text/plain": [
       "<matplotlib.figure.Figure at 0x1a1d295a90>"
      ]
     },
     "metadata": {
      "needs_background": "light"
     },
     "output_type": "display_data"
    }
   ],
   "source": [
    "# Are they correlated with diabetes?\n",
    "corr=counties[['PCT_DIABETES_ADULTS08', 'GROCPTH09',  'WICSPTH08']].corr()\n",
    "print(corr)\n",
    "new=abs(corr)\n",
    "sns.heatmap(new, cmap='Blues');"
   ]
  },
  {
   "cell_type": "markdown",
   "metadata": {},
   "source": [
    "#### Restaurants\n",
    "Fast-food restaurants/1,000 pop, 2009\tFFRPTH09  \n",
    "Full-service restaurants/1,000 pop, 2009\tFSRPTH09  \n",
    "Expenditures per capita, fast food, 2007\tPC_FFRSALES07  \n",
    "Expenditures per capita, restaurants, 2007\tPC_FSRSALES07  "
   ]
  },
  {
   "cell_type": "code",
   "execution_count": 21,
   "metadata": {},
   "outputs": [
    {
     "name": "stdout",
     "output_type": "stream",
     "text": [
      "                       PCT_DIABETES_ADULTS08  FFRPTH09  FSRPTH09  \\\n",
      "PCT_DIABETES_ADULTS08               1.000000 -0.113742 -0.291933   \n",
      "FFRPTH09                           -0.113742  1.000000  0.358127   \n",
      "FSRPTH09                           -0.291933  0.358127  1.000000   \n",
      "PC_FFRSALES07                       0.135173  0.101382 -0.087615   \n",
      "PC_FSRSALES07                      -0.308185  0.119044  0.148766   \n",
      "\n",
      "                       PC_FFRSALES07  PC_FSRSALES07  \n",
      "PCT_DIABETES_ADULTS08       0.135173      -0.308185  \n",
      "FFRPTH09                    0.101382       0.119044  \n",
      "FSRPTH09                   -0.087615       0.148766  \n",
      "PC_FFRSALES07               1.000000       0.495789  \n",
      "PC_FSRSALES07               0.495789       1.000000  \n"
     ]
    },
    {
     "data": {
      "image/png": "[encoded data removed]",
      "text/plain": [
       "<matplotlib.figure.Figure at 0x1a1d152c50>"
      ]
     },
     "metadata": {
      "needs_background": "light"
     },
     "output_type": "display_data"
    }
   ],
   "source": [
    "# Are they correlated with the target variable?\n",
    "corr=counties[['PCT_DIABETES_ADULTS08', 'FFRPTH09', 'FSRPTH09', 'PC_FFRSALES07', 'PC_FSRSALES07']].corr()\n",
    "print(corr)\n",
    "new=abs(corr)\n",
    "sns.heatmap(new, cmap='Greens');"
   ]
  },
  {
   "cell_type": "markdown",
   "metadata": {},
   "source": [
    "#### Socioeconomic Indicators\n",
    "% White, 2010\tPCT_NHWHITE10  \n",
    "% Population 65 years or older, 2010\tPCT_65OLDER10  \n",
    "% Population under age 18, 2010\tPCT_18YOUNGER10  \n",
    "Persistent-poverty counties, 2010\tPERPOV10  \n",
    "Metro/nonmetro counties, 2010\tMETRO13  \n",
    "Population-loss counties, 2010\tPOPLOSS10  "
   ]
  },
  {
   "cell_type": "code",
   "execution_count": 22,
   "metadata": {},
   "outputs": [
    {
     "name": "stdout",
     "output_type": "stream",
     "text": [
      "                       PCT_DIABETES_ADULTS08  PCT_NHWHITE10  PCT_65OLDER10  \\\n",
      "PCT_DIABETES_ADULTS08               1.000000      -0.206517       0.173081   \n",
      "PCT_NHWHITE10                      -0.206517       1.000000       0.410622   \n",
      "PCT_65OLDER10                       0.173081       0.410622       1.000000   \n",
      "PCT_18YOUNGER10                    -0.030772      -0.332495      -0.526336   \n",
      "PERPOV10                            0.400007      -0.415711      -0.105790   \n",
      "METRO13                            -0.129451      -0.107819      -0.395175   \n",
      "POPLOSS10                           0.102806       0.115827       0.358766   \n",
      "\n",
      "                       PCT_18YOUNGER10  PERPOV10   METRO13  POPLOSS10  \n",
      "PCT_DIABETES_ADULTS08        -0.030772  0.400007 -0.129451   0.102806  \n",
      "PCT_NHWHITE10                -0.332495 -0.415711 -0.107819   0.115827  \n",
      "PCT_65OLDER10                -0.526336 -0.105790 -0.395175   0.358766  \n",
      "PCT_18YOUNGER10               1.000000  0.113597  0.127975  -0.096384  \n",
      "PERPOV10                      0.113597  1.000000 -0.164303   0.043223  \n",
      "METRO13                       0.127975 -0.164303  1.000000  -0.236386  \n",
      "POPLOSS10                    -0.096384  0.043223 -0.236386   1.000000  \n"
     ]
    },
    {
     "data": {
      "image/png": "[encoded data removed]",
      "text/plain": [
       "<matplotlib.figure.Figure at 0x1168a1a58>"
      ]
     },
     "metadata": {
      "needs_background": "light"
     },
     "output_type": "display_data"
    }
   ],
   "source": [
    "# Are they correlated with the target variable?\n",
    "corr=counties[['PCT_DIABETES_ADULTS08', 'PCT_NHWHITE10', 'PCT_65OLDER10', 'PCT_18YOUNGER10', 'PERPOV10', 'METRO13', 'POPLOSS10']].corr()\n",
    "print(corr)\n",
    "new=abs(corr)\n",
    "sns.heatmap(new, cmap='Reds');"
   ]
  },
  {
   "cell_type": "markdown",
   "metadata": {},
   "source": [
    "### Health and Access to grocery stores \n",
    "Population, low access to store (%), 2010\tPCT_LACCESS_POP10  \n",
    "Adult diabetes rate, 2008\tPCT_DIABETES_ADULTS08  \n",
    "Adult obesity rate, 2008\tPCT_OBESE_ADULTS08"
   ]
  },
  {
   "cell_type": "code",
   "execution_count": 23,
   "metadata": {},
   "outputs": [
    {
     "name": "stdout",
     "output_type": "stream",
     "text": [
      "                       PCT_DIABETES_ADULTS08  PCT_LACCESS_POP10  RECFACPTH09\n",
      "PCT_DIABETES_ADULTS08               1.000000          -0.150669    -0.267884\n",
      "PCT_LACCESS_POP10                  -0.150669           1.000000    -0.072901\n",
      "RECFACPTH09                        -0.267884          -0.072901     1.000000\n"
     ]
    },
    {
     "data": {
      "image/png": "[encoded data removed]",
      "text/plain": [
       "<matplotlib.figure.Figure at 0x11697fa58>"
      ]
     },
     "metadata": {
      "needs_background": "light"
     },
     "output_type": "display_data"
    }
   ],
   "source": [
    "# Are they correlated with the target variable?\n",
    "corr=counties[['PCT_DIABETES_ADULTS08', 'PCT_LACCESS_POP10', 'RECFACPTH09']].corr()\n",
    "print(corr)\n",
    "new=abs(corr)\n",
    "sns.heatmap(new, cmap='BuPu');"
   ]
  },
  {
   "cell_type": "markdown",
   "metadata": {},
   "source": [
    "## Assistance\n",
    "SNAP participants (% eligible pop), 2008\tSNAP_PART_RATE08  \n",
    "National School Lunch Program participants (% pop), 2009\tPCT_NSLP09   \n",
    "WIC participants (% pop), 2009\tPCT_WIC09  \n",
    "Child & Adult Care (% pop), 2009\tPCT_CACFP09"
   ]
  },
  {
   "cell_type": "code",
   "execution_count": 24,
   "metadata": {},
   "outputs": [
    {
     "name": "stdout",
     "output_type": "stream",
     "text": [
      "                       PCT_DIABETES_ADULTS08  SNAP_PART_RATE08  PCT_NSLP09  \\\n",
      "PCT_DIABETES_ADULTS08               1.000000          0.183380    0.358294   \n",
      "SNAP_PART_RATE08                    0.183380          1.000000   -0.099188   \n",
      "PCT_NSLP09                          0.358294         -0.099188    1.000000   \n",
      "PCT_WIC09                           0.316837         -0.300971    0.524833   \n",
      "PCT_CACFP09                        -0.058800         -0.122817    0.505863   \n",
      "\n",
      "                       PCT_WIC09  PCT_CACFP09  \n",
      "PCT_DIABETES_ADULTS08   0.316837    -0.058800  \n",
      "SNAP_PART_RATE08       -0.300971    -0.122817  \n",
      "PCT_NSLP09              0.524833     0.505863  \n",
      "PCT_WIC09               1.000000     0.172609  \n",
      "PCT_CACFP09             0.172609     1.000000  \n"
     ]
    },
    {
     "data": {
      "image/png": "[encoded data removed]",
      "text/plain": [
       "<matplotlib.figure.Figure at 0x1a1d17d6d8>"
      ]
     },
     "metadata": {
      "needs_background": "light"
     },
     "output_type": "display_data"
    }
   ],
   "source": [
    "# Are they correlated with the target variable?\n",
    "corr=counties[['PCT_DIABETES_ADULTS08', 'SNAP_PART_RATE08', 'PCT_NSLP09', 'PCT_WIC09', 'PCT_CACFP09']].corr()\n",
    "print(corr)\n",
    "new=abs(corr)\n",
    "sns.heatmap(new, cmap='OrRd');"
   ]
  },
  {
   "cell_type": "markdown",
   "metadata": {
    "collapsed": true
   },
   "source": [
    "* Create a linear regression model that predicts the percent of adult diabetes for each county. \n",
    "* For your features, choose variables that have a high correlation with diabetes. \n",
    "* Evaluate your model using RMSE and R-squared."
   ]
  },
  {
   "cell_type": "code",
   "execution_count": null,
   "metadata": {},
   "outputs": [],
   "source": []
  }
 ],
 "metadata": {
  "kernelspec": {
   "display_name": "Python 3",
   "language": "python",
   "name": "python3"
  },
  "language_info": {
   "codemirror_mode": {
    "name": "ipython",
    "version": 3
   },
   "file_extension": ".py",
   "mimetype": "text/x-python",
   "name": "python",
   "nbconvert_exporter": "python",
   "pygments_lexer": "ipython3",
   "version": "3.6.7"
  }
 },
 "nbformat": 4,
 "nbformat_minor": 2
}
