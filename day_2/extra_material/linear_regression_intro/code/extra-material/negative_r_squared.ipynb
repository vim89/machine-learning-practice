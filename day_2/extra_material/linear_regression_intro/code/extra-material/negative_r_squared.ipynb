{
 "cells": [
  {
   "cell_type": "markdown",
   "metadata": {},
   "source": [
    "# How can we get a negative R-squared?\n",
    "\n",
    "When we meet the underlying assumptions of Linear Regression the R-squared measure should be between 0 and 1. For the R-squared to be negative the variance of our residuals has to be greater than the variance of our outcome, y. This means we built a model that is worse than predicting the mean.\n",
    "\n",
    "Wikipedia gives an acknowledgement that this is possible. https://en.wikipedia.org/wiki/Coefficient_of_determination"
   ]
  },
  {
   "cell_type": "markdown",
   "metadata": {},
   "source": [
    "In Sci-kit Learn we calculate $R^2$ as \n",
    "$$1 - \\frac{SS_{res}}{SS_{tot}}$$\n",
    "\n",
    "If $SS_{res}$, which corresponds to the variance of our predictions, is larger than $SS_{tot}$, which corresponds to the variance of our outcome, we can easily see that the $R^2$ will be negative.\n",
    "\n",
    "**When might this happen?**\n",
    "- When we run a model without a intercept/constant we are not guaranteed to do better than the mean\n",
    "- When we test the model on out of sample data\n",
    "  - If the variance of the data is larger than our initial sample, than something is wrong with out testing procedure\n",
    "  - If the variance of the residuals is higher, then our model does not generalize well.\n"
   ]
  },
  {
   "cell_type": "code",
   "execution_count": 1,
   "metadata": {
    "collapsed": true
   },
   "outputs": [],
   "source": [
    "# Import libraries\n",
    "import numpy as np\n",
    "import pandas as pd\n",
    "from matplotlib import pyplot as plt\n",
    "import matplotlib\n",
    "import seaborn as sns\n",
    "\n",
    "%matplotlib inline \n",
    "# Larger plots by default\n",
    "matplotlib.rcParams['figure.figsize'] = (8.0, 6.0)"
   ]
  },
  {
   "cell_type": "code",
   "execution_count": 2,
   "metadata": {
    "collapsed": true
   },
   "outputs": [],
   "source": [
    "# Read in the mammal dataset, and drop missing data.\n",
    "mammals = pd.read_csv('assets/dataset/msleep/msleep.csv')"
   ]
  },
  {
   "cell_type": "code",
   "execution_count": 3,
   "metadata": {
    "collapsed": true
   },
   "outputs": [],
   "source": [
    "#Subset mammals to exclude missing rows and make a new copy of the DataFrame\n",
    "mammals = mammals.dropna()\n",
    "# Look at the counterpart of isnull() we can just get .notnull() "
   ]
  },
  {
   "cell_type": "code",
   "execution_count": 4,
   "metadata": {
    "collapsed": true
   },
   "outputs": [],
   "source": [
    "X = mammals[['bodywt']].apply(np.log10)\n",
    "y = mammals['brainwt'].apply(np.log10)"
   ]
  },
  {
   "cell_type": "code",
   "execution_count": 5,
   "metadata": {
    "collapsed": false
   },
   "outputs": [],
   "source": [
    "from sklearn import linear_model\n",
    "lmc = linear_model.LinearRegression(fit_intercept=True) # With constant\n",
    "lm = linear_model.LinearRegression(fit_intercept=False) # Without constant\n",
    "# Fit models\n",
    "lmc.fit(X, y)\n",
    "lm.fit(X, y)\n",
    "# Extract predictions\n",
    "lmc_pred = lmc.predict(X)\n",
    "lm_pred = lm.predict(X)\n",
    "# Extract residuals\n",
    "lmc_residuals = y-lmc.predict(X)\n",
    "lm_residuals = y-lm.predict(X)"
   ]
  },
  {
   "cell_type": "code",
   "execution_count": 6,
   "metadata": {
    "collapsed": false
   },
   "outputs": [
    {
     "data": {
      "text/plain": [
       "<matplotlib.collections.PathCollection at 0x7fbc12a77150>"
      ]
     },
     "execution_count": 6,
     "metadata": {},
     "output_type": "execute_result"
    },
    {
     "data": {
      "image/png": "[encoded data removed]",
      "text/plain": [
       "<matplotlib.figure.Figure at 0x7fbc1786f550>"
      ]
     },
     "metadata": {},
     "output_type": "display_data"
    }
   ],
   "source": [
    "# Visualize predictions (in blue) from linear model with constant\n",
    "plt.figure()\n",
    "plt.scatter(X.bodywt, y, c='red')\n",
    "plt.scatter(X.bodywt, lmc_pred)"
   ]
  },
  {
   "cell_type": "code",
   "execution_count": 7,
   "metadata": {
    "collapsed": false
   },
   "outputs": [
    {
     "data": {
      "text/plain": [
       "-3.885780586188048e-16"
      ]
     },
     "execution_count": 7,
     "metadata": {},
     "output_type": "execute_result"
    }
   ],
   "source": [
    "# The constant ensures that our residuals center around zero\n",
    "lmc_residuals.mean() # -0.0000000000000003 close enough"
   ]
  },
  {
   "cell_type": "code",
   "execution_count": 8,
   "metadata": {
    "collapsed": false
   },
   "outputs": [
    {
     "data": {
      "text/plain": [
       "(array([ 7.,  2.,  3.,  2.,  2.,  0.,  3.,  0.,  0.,  1.]),\n",
       " array([-0.21075684, -0.13944945, -0.06814206,  0.00316533,  0.07447272,\n",
       "         0.14578011,  0.2170875 ,  0.28839489,  0.35970228,  0.43100967,\n",
       "         0.50231706]),\n",
       " <a list of 10 Patch objects>)"
      ]
     },
     "execution_count": 8,
     "metadata": {},
     "output_type": "execute_result"
    },
    {
     "data": {
      "image/png": "[encoded data removed]",
      "text/plain": [
       "<matplotlib.figure.Figure at 0x7fbc12ae1fd0>"
      ]
     },
     "metadata": {},
     "output_type": "display_data"
    }
   ],
   "source": [
    "# Here is the distribution of the residuals\n",
    "plt.figure()\n",
    "plt.hist(lmc_residuals)\n",
    "# A little skewed, but correctly centered"
   ]
  },
  {
   "cell_type": "code",
   "execution_count": 9,
   "metadata": {
    "collapsed": false
   },
   "outputs": [
    {
     "data": {
      "text/plain": [
       "<matplotlib.collections.PathCollection at 0x7fbc1288d910>"
      ]
     },
     "execution_count": 9,
     "metadata": {},
     "output_type": "execute_result"
    },
    {
     "data": {
      "image/png": "[encoded data removed]",
      "text/plain": [
       "<matplotlib.figure.Figure at 0x7fbc128026d0>"
      ]
     },
     "metadata": {},
     "output_type": "display_data"
    }
   ],
   "source": [
    "# Visualize predictions from linear model without constant\n",
    "plt.figure()\n",
    "plt.scatter(X.bodywt, y, c='red')\n",
    "plt.scatter(X.bodywt, lm_pred)\n",
    "# You can clearly see this model has issues since we forced it to go through the point (0, 0)\n",
    "\n",
    "# This is a pretty rare case where the best line of fit is parallel to the data ... \n",
    "# If our data clustered around the zero mark our line of best fit would be more vertical"
   ]
  },
  {
   "cell_type": "code",
   "execution_count": 10,
   "metadata": {
    "collapsed": false
   },
   "outputs": [
    {
     "data": {
      "text/plain": [
       "-2.1941996282635188"
      ]
     },
     "execution_count": 10,
     "metadata": {},
     "output_type": "execute_result"
    }
   ],
   "source": [
    "# We constantly overshoot our estimation of the brainwt so, our residuals tend to be negative\n",
    "lm_residuals.mean()"
   ]
  },
  {
   "cell_type": "code",
   "execution_count": 11,
   "metadata": {
    "collapsed": false
   },
   "outputs": [
    {
     "data": {
      "text/plain": [
       "(array([ 4.,  5.,  1.,  3.,  1.,  0.,  1.,  4.,  0.,  1.]),\n",
       " array([-2.45737517, -2.38667446, -2.31597374, -2.24527303, -2.17457232,\n",
       "        -2.1038716 , -2.03317089, -1.96247018, -1.89176946, -1.82106875,\n",
       "        -1.75036804]),\n",
       " <a list of 10 Patch objects>)"
      ]
     },
     "execution_count": 11,
     "metadata": {},
     "output_type": "execute_result"
    },
    {
     "data": {
      "image/png": "[encoded data removed]",
      "text/plain": [
       "<matplotlib.figure.Figure at 0x7fbc12853650>"
      ]
     },
     "metadata": {},
     "output_type": "display_data"
    }
   ],
   "source": [
    "# Here is the distribution of the residuals\n",
    "plt.figure()\n",
    "plt.hist(lm_residuals)"
   ]
  },
  {
   "cell_type": "markdown",
   "metadata": {},
   "source": [
    "Let's plot our residuals against our outcome values. This is a common way of diagnosing issues in models and looking for patterns that we may have missed.\n",
    "\n",
    "On the y-axis we show our residuals, note that they SHOULD center around 0.\n",
    "On the x-axis we have our outcome values."
   ]
  },
  {
   "cell_type": "code",
   "execution_count": 12,
   "metadata": {
    "collapsed": false
   },
   "outputs": [
    {
     "data": {
      "text/plain": [
       "<matplotlib.collections.PathCollection at 0x7fbc1265e050>"
      ]
     },
     "execution_count": 12,
     "metadata": {},
     "output_type": "execute_result"
    },
    {
     "data": {
      "image/png": "[encoded data removed]",
      "text/plain": [
       "<matplotlib.figure.Figure at 0x7fbc12729510>"
      ]
     },
     "metadata": {},
     "output_type": "display_data"
    }
   ],
   "source": [
    "plt.figure()\n",
    "plt.scatter(y, lmc_residuals)\n",
    "# This plot looks relatively good, we don't see any clear association left and our residuals seem to scatter around 0"
   ]
  },
  {
   "cell_type": "code",
   "execution_count": 13,
   "metadata": {
    "collapsed": false
   },
   "outputs": [
    {
     "data": {
      "text/plain": [
       "<matplotlib.collections.PathCollection at 0x7fbc1258bb90>"
      ]
     },
     "execution_count": 13,
     "metadata": {},
     "output_type": "execute_result"
    },
    {
     "data": {
      "image/png": "[encoded data removed]",
      "text/plain": [
       "<matplotlib.figure.Figure at 0x7fbc12675650>"
      ]
     },
     "metadata": {},
     "output_type": "display_data"
    }
   ],
   "source": [
    "plt.figure()\n",
    "plt.scatter(y, lm_residuals)\n",
    "# The version without a constant has a clear problem, we consistently underestimate the brainwt! \n",
    "# No wonder we do worse than the mean\n",
    "# There a bit of an upward linear trend left as well if you look closely"
   ]
  },
  {
   "cell_type": "code",
   "execution_count": null,
   "metadata": {
    "collapsed": true
   },
   "outputs": [],
   "source": []
  }
 ],
 "metadata": {
  "kernelspec": {
   "display_name": "Python [Root]",
   "language": "python",
   "name": "Python [Root]"
  },
  "language_info": {
   "codemirror_mode": {
    "name": "ipython",
    "version": 2
   },
   "file_extension": ".py",
   "mimetype": "text/x-python",
   "name": "python",
   "nbconvert_exporter": "python",
   "pygments_lexer": "ipython2",
   "version": "2.7.12"
  }
 },
 "nbformat": 4,
 "nbformat_minor": 0
}
