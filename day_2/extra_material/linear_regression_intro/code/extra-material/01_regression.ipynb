{
 "cells": [
  {
   "cell_type": "markdown",
   "metadata": {},
   "source": [
    "# [Regression](https://en.wikipedia.org/wiki/Regression_analysis) \n",
    "   1. [seaborn plots](https://pypi.org/project/seaborn/) \n",
    "   2. [scikit_learn](http://scikit-learn.org/stable/) \n",
    "   3. [Scatter Plots](https://matplotlib.org/api/_as_gen/matplotlib.pyplot.scatter.html)\n",
    "   4. [Mean Square Error](http://scikit-learn.org/stable/modules/generated/sklearn.metrics.mean_squared_error.html)"
   ]
  },
  {
   "cell_type": "code",
   "execution_count": 1,
   "metadata": {},
   "outputs": [],
   "source": [
    "# import packages\n",
    "import numpy as np\n",
    "import pandas as pd\n",
    "import matplotlib.pyplot as plt\n",
    "from sklearn.model_selection import train_test_split"
   ]
  },
  {
   "cell_type": "code",
   "execution_count": 2,
   "metadata": {},
   "outputs": [],
   "source": [
    "# create a practice data set\n",
    "X0 = [    1,    1,    1,   1,     1]\n",
    "X1 = [3.385, 0.48, 1.35, 465, 36.33]\n",
    "\n",
    "# response\n",
    "Y0 = [ 44.5, 15.5,  8.1, 423, 119.5]  "
   ]
  },
  {
   "cell_type": "code",
   "execution_count": 3,
   "metadata": {},
   "outputs": [],
   "source": [
    "# arrange in the form Y = X*beta + epsilon\n",
    "X = np.matrix([X0, X1]).T\n",
    "Y = np.matrix(Y0).T"
   ]
  },
  {
   "cell_type": "markdown",
   "metadata": {},
   "source": [
    "$$y = X\\beta + \\epsilon$$"
   ]
  },
  {
   "cell_type": "code",
   "execution_count": 4,
   "metadata": {},
   "outputs": [],
   "source": [
    "# Estimate coefficients with matrix algebra\n",
    "# beta-hat = inverse(transpose(X)*X)*transpose(X)*Y \n",
    "step1 = X.T * X \n",
    "step2 = step1.I\n",
    "step3 = X.T * Y\n",
    "step4 = step2 * step3"
   ]
  },
  {
   "cell_type": "markdown",
   "metadata": {},
   "source": [
    "Steps:\n",
    "\n",
    "+ Step 1: $ X^{T}X$\n",
    "+ Step 2: $(X^{T}X)^{-1}$\n",
    "+ Step 3: $ X^{T}y $\n",
    "+ Step 4: $ (X^{T}X)^{-1}X^{T}y $\n"
   ]
  },
  {
   "cell_type": "code",
   "execution_count": 5,
   "metadata": {},
   "outputs": [
    {
     "name": "stdout",
     "output_type": "stream",
     "text": [
      "[[37.20089608]\n",
      " [ 0.83821876]]\n"
     ]
    }
   ],
   "source": [
    "# the estimates of the coefficients of X0 and X1\n",
    "beta_hat = (X.T * X).I * X.T * Y\n",
    "print(beta_hat)"
   ]
  },
  {
   "cell_type": "code",
   "execution_count": 6,
   "metadata": {},
   "outputs": [
    {
     "data": {
      "text/plain": [
       "<matplotlib.axes._subplots.AxesSubplot at 0x10fc75c88>"
      ]
     },
     "execution_count": 6,
     "metadata": {},
     "output_type": "execute_result"
    },
    {
     "data": {
      "image/png": "[encoded data removed]",
      "text/plain": [
       "<matplotlib.figure.Figure at 0x109285c50>"
      ]
     },
     "metadata": {
      "needs_background": "light"
     },
     "output_type": "display_data"
    }
   ],
   "source": [
    "# Does that make sense?\n",
    "# How are the independent and dependent variables related?\n",
    "df = pd.DataFrame({'X':X1,\n",
    "                   'Y':Y0})\n",
    "\n",
    "# plot of X1 vs Y (similarly we can have for X0 vs Y)\n",
    "df.plot(kind='scatter',\n",
    "        x='X',\n",
    "        y='Y',\n",
    "        title='Scatterplot of X1 vs Y')"
   ]
  },
  {
   "cell_type": "code",
   "execution_count": 7,
   "metadata": {},
   "outputs": [
    {
     "data": {
      "text/html": [
       "<div>\n",
       "<style scoped>\n",
       "    .dataframe tbody tr th:only-of-type {\n",
       "        vertical-align: middle;\n",
       "    }\n",
       "\n",
       "    .dataframe tbody tr th {\n",
       "        vertical-align: top;\n",
       "    }\n",
       "\n",
       "    .dataframe thead th {\n",
       "        text-align: right;\n",
       "    }\n",
       "</style>\n",
       "<table border=\"1\" class=\"dataframe\">\n",
       "  <thead>\n",
       "    <tr style=\"text-align: right;\">\n",
       "      <th></th>\n",
       "      <th>X</th>\n",
       "      <th>Y</th>\n",
       "    </tr>\n",
       "  </thead>\n",
       "  <tbody>\n",
       "    <tr>\n",
       "      <th>X</th>\n",
       "      <td>1.000000</td>\n",
       "      <td>0.982791</td>\n",
       "    </tr>\n",
       "    <tr>\n",
       "      <th>Y</th>\n",
       "      <td>0.982791</td>\n",
       "      <td>1.000000</td>\n",
       "    </tr>\n",
       "  </tbody>\n",
       "</table>\n",
       "</div>"
      ],
      "text/plain": [
       "          X         Y\n",
       "X  1.000000  0.982791\n",
       "Y  0.982791  1.000000"
      ]
     },
     "execution_count": 7,
     "metadata": {},
     "output_type": "execute_result"
    }
   ],
   "source": [
    "# Correlation coefficient between \n",
    "# the independent and dependent variables\n",
    "\n",
    "np.corrcoef(df['X'],\n",
    "            df['Y'])\n",
    "df.corr() "
   ]
  },
  {
   "cell_type": "code",
   "execution_count": 8,
   "metadata": {},
   "outputs": [],
   "source": [
    "# Lets capture our predictions \n",
    "\n",
    "# model prediction\n",
    "df['Pred1'] = [37.20089608 + item * 0.83821876 for item in df['X']]"
   ]
  },
  {
   "cell_type": "code",
   "execution_count": 9,
   "metadata": {},
   "outputs": [],
   "source": [
    "# QUICK VISUALIZATION FUNCTION\n",
    "# required packages\n",
    "\n",
    "import seaborn as sns\n",
    "import matplotlib.pyplot as plt"
   ]
  },
  {
   "cell_type": "code",
   "execution_count": 10,
   "metadata": {},
   "outputs": [],
   "source": [
    "def corr_matrix(data):\n",
    "    '''\n",
    "    Plots a correlation heatmap for a given dataframe\n",
    "    '''\n",
    "    \n",
    "    sns.set(style=\"white\")\n",
    "    corr = data.corr()\n",
    "\n",
    "    # Generate a mask for the upper triangle\n",
    "    mask = np.zeros_like(corr, dtype=np.bool)\n",
    "    mask[np.triu_indices_from(mask)] = True\n",
    "\n",
    "    # Set up the matplotlib figure\n",
    "    f, ax = plt.subplots(figsize=(11, 9))\n",
    "\n",
    "    # Generate a custom diverging colormap\n",
    "    cmap = sns.diverging_palette(220, 10, as_cmap=True)\n",
    "\n",
    "    # Draw the heatmap with the mask and correct aspect ratio\n",
    "    sns.heatmap(corr, mask=mask, cmap=cmap, vmax=1, center=0,\n",
    "                square=True, linewidths=.5, cbar_kws={\"shrink\": .5})"
   ]
  },
  {
   "cell_type": "code",
   "execution_count": 14,
   "metadata": {},
   "outputs": [
    {
     "data": {
      "text/html": [
       "<div>\n",
       "<style scoped>\n",
       "    .dataframe tbody tr th:only-of-type {\n",
       "        vertical-align: middle;\n",
       "    }\n",
       "\n",
       "    .dataframe tbody tr th {\n",
       "        vertical-align: top;\n",
       "    }\n",
       "\n",
       "    .dataframe thead th {\n",
       "        text-align: right;\n",
       "    }\n",
       "</style>\n",
       "<table border=\"1\" class=\"dataframe\">\n",
       "  <thead>\n",
       "    <tr style=\"text-align: right;\">\n",
       "      <th></th>\n",
       "      <th>TV</th>\n",
       "      <th>Radio</th>\n",
       "      <th>Newspaper</th>\n",
       "      <th>Sales</th>\n",
       "      <th>Region</th>\n",
       "    </tr>\n",
       "  </thead>\n",
       "  <tbody>\n",
       "    <tr>\n",
       "      <th>0</th>\n",
       "      <td>230.1</td>\n",
       "      <td>37.8</td>\n",
       "      <td>69.2</td>\n",
       "      <td>22.1</td>\n",
       "      <td>1</td>\n",
       "    </tr>\n",
       "    <tr>\n",
       "      <th>1</th>\n",
       "      <td>44.5</td>\n",
       "      <td>39.3</td>\n",
       "      <td>45.1</td>\n",
       "      <td>10.4</td>\n",
       "      <td>1</td>\n",
       "    </tr>\n",
       "    <tr>\n",
       "      <th>2</th>\n",
       "      <td>17.2</td>\n",
       "      <td>45.9</td>\n",
       "      <td>69.3</td>\n",
       "      <td>9.3</td>\n",
       "      <td>1</td>\n",
       "    </tr>\n",
       "    <tr>\n",
       "      <th>3</th>\n",
       "      <td>151.5</td>\n",
       "      <td>41.3</td>\n",
       "      <td>58.5</td>\n",
       "      <td>18.5</td>\n",
       "      <td>1</td>\n",
       "    </tr>\n",
       "    <tr>\n",
       "      <th>4</th>\n",
       "      <td>180.8</td>\n",
       "      <td>10.8</td>\n",
       "      <td>58.4</td>\n",
       "      <td>12.9</td>\n",
       "      <td>1</td>\n",
       "    </tr>\n",
       "  </tbody>\n",
       "</table>\n",
       "</div>"
      ],
      "text/plain": [
       "      TV  Radio  Newspaper  Sales  Region\n",
       "0  230.1   37.8       69.2   22.1       1\n",
       "1   44.5   39.3       45.1   10.4       1\n",
       "2   17.2   45.9       69.3    9.3       1\n",
       "3  151.5   41.3       58.5   18.5       1\n",
       "4  180.8   10.8       58.4   12.9       1"
      ]
     },
     "execution_count": 14,
     "metadata": {},
     "output_type": "execute_result"
    }
   ],
   "source": [
    "# Lets apply this to a real dataset\n",
    "adv = pd.read_csv('../../data/Advertising.csv') #read dataset\n",
    "adv.head()\n"
   ]
  },
  {
   "cell_type": "markdown",
   "metadata": {},
   "source": [
    "### YOU TRY! ESTIMATE COEFFICIENTS (5 min)\n",
    "+ Estimate the coefficients for a linear regression for input value \"TV\" and response value \"Sales\""
   ]
  },
  {
   "cell_type": "markdown",
   "metadata": {},
   "source": [
    "### Calculating $R^2$ AND Root Mean Squared Error (RMSE)"
   ]
  },
  {
   "cell_type": "code",
   "execution_count": null,
   "metadata": {},
   "outputs": [],
   "source": [
    "# First with our dummy dataset 'df'\n",
    "\n",
    "TSS = sum([(df['Y'].mean() - df.loc[n,'Y'])**2\n",
    "           for n in range(len(df))])\n",
    "\n",
    "RSS = sum([(df.loc[n,'Pred1'] - df.loc[n,'Y'])**2\n",
    "           for n in range(len(df))])\n",
    "\n",
    "R_SQU = 1 - (RSS / TSS)\n",
    "\n",
    "A_R_SQU = (1 - ((1 - R_SQU) * (len(df) - 1) \n",
    "           / (len(df) - 2 - 1)))\n",
    "\n",
    "RMSE = np.sqrt(\n",
    "            np.mean([(df.loc[n,'Pred1']\n",
    "                      - df.loc[n,'Y'])**2\n",
    "                     for n in range(len(df))]))\n",
    "\n",
    "print(RMSE)"
   ]
  },
  {
   "cell_type": "code",
   "execution_count": null,
   "metadata": {},
   "outputs": [],
   "source": [
    "# printing with rounding off upto 3, 4 and 2 decimal places. \n",
    "print('--------|-Pred1-')\n",
    "print(' R_SQU  | '+str(round(R_SQU, 3)) + ' ')\n",
    "print('A_R_SQU | '+str(round(A_R_SQU, 4)) + ' ')\n",
    "print('  RMSE  | '+str(round(RMSE, 2)) + ' ')\n"
   ]
  },
  {
   "cell_type": "markdown",
   "metadata": {},
   "source": [
    "### YOU TRY! EVALUATE OUR FIRST MODEL  (5 min)\n",
    "+  Use the Advertising dataset 'adv'"
   ]
  },
  {
   "cell_type": "markdown",
   "metadata": {},
   "source": [
    "### YOU TRY! CREATE AND EVALUATE A NEW MODEL (10 min)\n",
    "+ How does this model compare to a model that includes the TV and newspaper variables?\n",
    "+ Create a model, and evaluate it's performance compared to the last one."
   ]
  },
  {
   "cell_type": "code",
   "execution_count": null,
   "metadata": {},
   "outputs": [],
   "source": [
    "# CREATING DUMMY VARIABLES\n",
    "# Is including region in your prediction likely to have an impact?\n",
    "adv.groupby('Region')['Sales'].mean()"
   ]
  },
  {
   "cell_type": "code",
   "execution_count": null,
   "metadata": {},
   "outputs": [],
   "source": [
    "# Create new variables for each region\n",
    "region_dummies = pd.get_dummies(adv.Region, prefix='Region')"
   ]
  },
  {
   "cell_type": "code",
   "execution_count": null,
   "metadata": {},
   "outputs": [],
   "source": [
    "# Keep all but one of them\n",
    "region_dummies = region_dummies.iloc[:, 1:]"
   ]
  },
  {
   "cell_type": "code",
   "execution_count": null,
   "metadata": {},
   "outputs": [],
   "source": [
    "# Merge your dummy variables back onto your Advertising dataset\n",
    "adv = pd.concat([adv, region_dummies], axis=1)"
   ]
  },
  {
   "cell_type": "code",
   "execution_count": null,
   "metadata": {},
   "outputs": [],
   "source": [
    "# create new feature 'Area', randomly assign as 'rural' or 'suburban' or 'urban'\n",
    "\n",
    "# random seeds ensure that results are consistant \n",
    "np.random.seed(12345)\n",
    "\n",
    "nums = np.random.rand(len(adv))\n",
    "mask_suburban = (nums > 0.33) & (nums < 0.66)\n",
    "mask_urban = nums > 0.66\n",
    "adv['Area'] = 'rural'\n",
    "adv.loc[mask_suburban, 'Area'] = 'suburban'\n",
    "adv.loc[mask_urban, 'Area'] = 'urban'"
   ]
  },
  {
   "cell_type": "markdown",
   "metadata": {},
   "source": [
    "### YOU TRY (5 min)\n",
    "+ Create dummy variables 'Area_suburban' and 'Area_urban'"
   ]
  },
  {
   "cell_type": "markdown",
   "metadata": {},
   "source": [
    "### YOU TRY! CREATE A FUNCTION FOR OUR LINEAR REGRESSION MODEL (15 min)\n",
    "+ Use this function to quickly evaluate a few different combinations of variables\n",
    "+ Record your best model and compare to your prior models"
   ]
  }
 ],
 "metadata": {
  "kernelspec": {
   "display_name": "Python 3",
   "language": "python",
   "name": "python3"
  },
  "language_info": {
   "codemirror_mode": {
    "name": "ipython",
    "version": 3
   },
   "file_extension": ".py",
   "mimetype": "text/x-python",
   "name": "python",
   "nbconvert_exporter": "python",
   "pygments_lexer": "ipython3",
   "version": "3.6.7"
  }
 },
 "nbformat": 4,
 "nbformat_minor": 2
}
