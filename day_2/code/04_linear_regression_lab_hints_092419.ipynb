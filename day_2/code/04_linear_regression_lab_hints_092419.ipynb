{
 "cells": [
  {
   "cell_type": "markdown",
   "metadata": {},
   "source": [
    "___\n",
    "\n",
    "# Regression Lab\n",
    "\n",
    "## Read the business case below and develop a linear regression model to help inform strategic advice you will need to provide to your client\n",
    "\n",
    " - Total Time: 120 Minutes\n",
    " - Analysis Time: 90 Minutes\n",
    " - Client Simulation: 30 Minutes\n",
    " - Dataset: Ecommerce Customers.csv\n",
    "\n",
    "##### Summary:\n",
    "An ecommerce company that sells clothing online, also has an in-store style and clothing advice service. Customers typically come in to the store and have sessions with a personal stylist who provides them some style guidance. They can then go home and order clothing either on a mobile app or website.\n",
    "\n",
    "##### Challenge:\n",
    "The company is trying to decide whether to focus their annual budget on their mobile app experience or their website. Your role as data scientist on this project is to help them determine the best strategic approach to investing. Using EDA, Statistical Analysis, and any other knowledge gained up until this point to inform your advice to the client. \n",
    "\n",
    "Follow the steps below to analyze the customer data. These steps are not necessarily the 'correct' sequence of steps but more a quideline on what you could do to get to some kind of answer.\n",
    "\n",
    "**(Not to worry; All the data provided is fabricated, but in a real-life situation the data you could be dealing with here is considered to fall under the designation of PII. Keep this in mind when working on projects out in the real world)**\n",
    "\n",
    "##### Client Simulation:\n",
    "**Each team will have 1.5 hours to run the analysis and formulate a pitch. Each team will have 5 minutes with the client advising them as how to best proceed with investement**\n",
    "\n",
    "---\n",
    "\n",
    "*Hint: notice the space used in the filenaming convention of the source data file incase you are getting errors when trying to read the data into a dataframe*"
   ]
  },
  {
   "cell_type": "markdown",
   "metadata": {},
   "source": [
    "## Imports\n",
    "**Import pandas, numpy, matplotlib.pyplot,and seaborn. Then set '%matplotlib inline' so you can see your plots displayed inline. You may import Sklearn here or later when you start developing your regression model. You are not restricted to using any python library that you find useful, just like in real life.**"
   ]
  },
  {
   "cell_type": "code",
   "execution_count": null,
   "metadata": {},
   "outputs": [],
   "source": []
  },
  {
   "cell_type": "markdown",
   "metadata": {},
   "source": [
    "## Get the Data\n",
    "\n",
    "**Read in the Ecommerce Customers.csv file into a DataFrame called 'customers'**"
   ]
  },
  {
   "cell_type": "code",
   "execution_count": 276,
   "metadata": {
    "collapsed": true
   },
   "outputs": [],
   "source": []
  },
  {
   "cell_type": "markdown",
   "metadata": {},
   "source": [
    "**Check the head() of 'customers', and check out its info() and describe() methods.**"
   ]
  },
  {
   "cell_type": "code",
   "execution_count": null,
   "metadata": {},
   "outputs": [],
   "source": []
  },
  {
   "cell_type": "markdown",
   "metadata": {},
   "source": [
    "## Exploratory Data Analysis\n",
    "___\n",
    "**Maybe you could try using seaborn to create a [jointplot](https://seaborn.pydata.org/generated/seaborn.jointplot.html) to compare say 'Time on Website' and 'Yearly Amount Spent' fields or any other combination of fields to determine their relationship**"
   ]
  },
  {
   "cell_type": "code",
   "execution_count": null,
   "metadata": {
    "collapsed": true
   },
   "outputs": [],
   "source": []
  },
  {
   "cell_type": "markdown",
   "metadata": {},
   "source": [
    "**Try exploring relationships across the entire data set. Use this helpfull Document:[pairplot](https://stanford.edu/~mwaskom/software/seaborn/tutorial/axis_grids.html#plotting-pairwise-relationships-with-pairgrid-and-pairplot) as inspiration on how to carry out some of your deeper exploratory analysis. Feel free to be creative and use any of your existing knowledge to accomplish this if you wish**\n",
    "\n",
    "*we've provided an example below to help nudge you in the right direction*"
   ]
  },
  {
   "cell_type": "code",
   "execution_count": null,
   "metadata": {},
   "outputs": [],
   "source": []
  },
  {
   "cell_type": "markdown",
   "metadata": {},
   "source": [
    "**Based off your wider comparative study of relationships accross the larger dataset; What looks to be the most correlated feature with Yearly Amount Spent? No need to provide an answer just think about it and determine which relationships in the data lends itself to a linear regression approach. Are there other kinds of machine learning models that may be worth considering?**"
   ]
  },
  {
   "cell_type": "code",
   "execution_count": 285,
   "metadata": {
    "collapsed": true
   },
   "outputs": [],
   "source": []
  },
  {
   "cell_type": "markdown",
   "metadata": {},
   "source": [
    "**Create a linear model plot (using seaborn's lmplot) of your_chosen_var1 vs. your_chosen_var2**"
   ]
  },
  {
   "cell_type": "code",
   "execution_count": null,
   "metadata": {},
   "outputs": [],
   "source": []
  },
  {
   "cell_type": "code",
   "execution_count": null,
   "metadata": {},
   "outputs": [],
   "source": []
  },
  {
   "cell_type": "markdown",
   "metadata": {},
   "source": [
    "## Training and Testing Data\n",
    "\n",
    "Now that you have explored the data, maye it would be helpfull to split the data into training and testing sets.\n",
    "\n",
    "**Set a variable X equal to the numerical features of the customers and a variable y equal to the \"Yearly Amount Spent\" column... I assume this would be a great variable which you would like to consider predicting.... wink wink**"
   ]
  },
  {
   "cell_type": "code",
   "execution_count": 287,
   "metadata": {
    "collapsed": true
   },
   "outputs": [],
   "source": []
  },
  {
   "cell_type": "code",
   "execution_count": 288,
   "metadata": {
    "collapsed": true
   },
   "outputs": [],
   "source": []
  },
  {
   "cell_type": "markdown",
   "metadata": {},
   "source": [
    "**Use model_selection.train_test_split from sklearn to split the data into training and testing sets. A typical test_size=0.3 and random_state=101  but feel free to tweak these parameters however you wish**"
   ]
  },
  {
   "cell_type": "code",
   "execution_count": 289,
   "metadata": {
    "collapsed": true
   },
   "outputs": [],
   "source": []
  },
  {
   "cell_type": "code",
   "execution_count": 290,
   "metadata": {
    "collapsed": true
   },
   "outputs": [],
   "source": []
  },
  {
   "cell_type": "markdown",
   "metadata": {},
   "source": [
    "## Training the Model\n",
    "\n",
    "At this point it you may want to train your model. If at anypoint you run into issues, refer to the sklearn documentation or by hitting 'shift+tab' to bring up the docstring.\n",
    "\n",
    "**Import LinearRegression from sklearn.linear_model**"
   ]
  },
  {
   "cell_type": "code",
   "execution_count": 291,
   "metadata": {
    "collapsed": true
   },
   "outputs": [],
   "source": []
  },
  {
   "cell_type": "markdown",
   "metadata": {},
   "source": [
    "**Create an instance of a LinearRegression() model named lm.**"
   ]
  },
  {
   "cell_type": "code",
   "execution_count": 292,
   "metadata": {
    "collapsed": true
   },
   "outputs": [],
   "source": []
  },
  {
   "cell_type": "markdown",
   "metadata": {},
   "source": [
    "**Train/fit lm on the training data.**"
   ]
  },
  {
   "cell_type": "code",
   "execution_count": null,
   "metadata": {},
   "outputs": [],
   "source": []
  },
  {
   "cell_type": "markdown",
   "metadata": {},
   "source": [
    "**Print out the coefficients of the model**"
   ]
  },
  {
   "cell_type": "code",
   "execution_count": null,
   "metadata": {},
   "outputs": [],
   "source": []
  },
  {
   "cell_type": "markdown",
   "metadata": {},
   "source": [
    "## Predicting Test Data\n",
    "Now that we have fit our model, let's evaluate its performance by predicting off the test values.\n",
    "\n",
    "**Use lm.predict() to predict off the X_test set of the data.**"
   ]
  },
  {
   "cell_type": "code",
   "execution_count": 295,
   "metadata": {
    "collapsed": true
   },
   "outputs": [],
   "source": []
  },
  {
   "cell_type": "markdown",
   "metadata": {},
   "source": [
    "**It's quite helpful to create a scatterplot of the real test values versus the predicted values. If you typically have another way of graphically plotting our your results feel free to do that instead**"
   ]
  },
  {
   "cell_type": "code",
   "execution_count": null,
   "metadata": {},
   "outputs": [],
   "source": []
  },
  {
   "cell_type": "markdown",
   "metadata": {},
   "source": [
    "## Evaluating the Model\n",
    "\n",
    "Let's evaluate our model performance by calculating the residual sum of squares and the explained variance score (R^2).\n",
    "\n",
    "**Calculate the Mean Absolute Error, Mean Squared Error, and the Root Mean Squared Error. Refer to Wikipedia for the formulas OR some pre packaged functions**"
   ]
  },
  {
   "cell_type": "code",
   "execution_count": null,
   "metadata": {},
   "outputs": [],
   "source": []
  },
  {
   "cell_type": "markdown",
   "metadata": {},
   "source": [
    "## Residuals\n",
    "\n",
    "You should have gotten a very good model with a good fit. Let's quickly explore the residuals to make sure everything was okay with our data. \n",
    "\n",
    "**Plot a histogram of the residuals and make sure it looks normally distributed. Use either seaborn distplot, or just plt.hist().**"
   ]
  },
  {
   "cell_type": "code",
   "execution_count": null,
   "metadata": {},
   "outputs": [],
   "source": []
  },
  {
   "cell_type": "markdown",
   "metadata": {},
   "source": [
    "## Conclusion\n",
    "**We still want to figure out the answer to the original question, do we focus our efforts on mobile app or website development?**"
   ]
  },
  {
   "cell_type": "markdown",
   "metadata": {},
   "source": [
    "*Answer here*"
   ]
  }
 ],
 "metadata": {
  "kernelspec": {
   "display_name": "Python 3",
   "language": "python",
   "name": "python3"
  },
  "language_info": {
   "codemirror_mode": {
    "name": "ipython",
    "version": 3
   },
   "file_extension": ".py",
   "mimetype": "text/x-python",
   "name": "python",
   "nbconvert_exporter": "python",
   "pygments_lexer": "ipython3",
   "version": "3.6.7"
  },
  "toc": {
   "base_numbering": 1,
   "nav_menu": {},
   "number_sections": true,
   "sideBar": true,
   "skip_h1_title": false,
   "title_cell": "Table of Contents",
   "title_sidebar": "Contents",
   "toc_cell": false,
   "toc_position": {},
   "toc_section_display": true,
   "toc_window_display": true
  },
  "varInspector": {
   "cols": {
    "lenName": 16,
    "lenType": 16,
    "lenVar": 40
   },
   "kernels_config": {
    "python": {
     "delete_cmd_postfix": "",
     "delete_cmd_prefix": "del ",
     "library": "var_list.py",
     "varRefreshCmd": "print(var_dic_list())"
    },
    "r": {
     "delete_cmd_postfix": ") ",
     "delete_cmd_prefix": "rm(",
     "library": "var_list.r",
     "varRefreshCmd": "cat(var_dic_list()) "
    }
   },
   "types_to_exclude": [
    "module",
    "function",
    "builtin_function_or_method",
    "instance",
    "_Feature"
   ],
   "window_display": false
  }
 },
 "nbformat": 4,
 "nbformat_minor": 2
}
