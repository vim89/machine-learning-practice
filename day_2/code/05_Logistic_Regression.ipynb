{
 "cells": [
  {
   "cell_type": "markdown",
   "metadata": {},
   "source": [
    "# [Logistic Regression](https://towardsdatascience.com/logistic-regression-detailed-overview-46c4da4303bc)\n",
    "\n",
    "   1. [Scikit-Learn Logistic Regression](http://scikit-learn.org/stable/modules/generated/sklearn.linear_model.LogisticRegression.html)\n",
    "   2. [Scatter Plots](https://matplotlib.org/api/_as_gen/matplotlib.pyplot.scatter.html)"
   ]
  },
  {
   "cell_type": "code",
   "execution_count": null,
   "metadata": {},
   "outputs": [],
   "source": [
    "# Importing libraries\n",
    "import numpy as np\n",
    "import pandas as pd\n",
    "import matplotlib.pyplot as plt\n",
    "from sklearn.linear_model import LogisticRegression\n",
    "from sklearn.model_selection import train_test_split"
   ]
  },
  {
   "cell_type": "code",
   "execution_count": null,
   "metadata": {},
   "outputs": [],
   "source": [
    "# Reading data\n",
    "d = pd.read_csv('../data/default.csv')\n",
    "\n",
    "##get dummies of student for plotting\n",
    "student_dummies = pd.get_dummies(d.student, prefix='Student')\n",
    "d['Student_yes'] = student_dummies['Student_Yes']\n",
    "d.head()\n",
    "\n",
    "d.head()"
   ]
  },
  {
   "cell_type": "code",
   "execution_count": null,
   "metadata": {},
   "outputs": [],
   "source": [
    "# Spliting the data into train and test sets\n",
    "\n",
    "X = d[['balance','Student_yes','income']]\n",
    "\n",
    "y = d.default\n",
    "X_train, X_test, y_train, y_test = train_test_split(X, y,\n",
    "                                                    test_size=0.3,\n",
    "                                                    random_state=1)\n",
    "\n",
    "# Convert them to dataframes, for convenience\n",
    "\n",
    "train = pd.DataFrame(data=X_train,\n",
    "                     columns=['balance','Student_yes','income'])\n",
    "\n",
    "test = pd.DataFrame(data=X_test,\n",
    "                    columns=['balance','Student_yes','income'])\n"
   ]
  },
  {
   "cell_type": "markdown",
   "metadata": {},
   "source": [
    "### Data Exploration"
   ]
  },
  {
   "cell_type": "markdown",
   "metadata": {},
   "source": [
    "#### Histogram of all variables along with target variable for training data"
   ]
  },
  {
   "cell_type": "code",
   "execution_count": null,
   "metadata": {},
   "outputs": [],
   "source": [
    "# Create a histogram of all variables along with target variable for training data\n",
    "\n",
    "fig, ax = plt.subplots(2,2)\n",
    "\n",
    "plt.suptitle('Histogram of all variables along with target variable for training data')\n",
    "ax[0,0].hist(train['balance'])\n",
    "ax[0,1].hist(train['Student_yes'])\n",
    "ax[1,0].hist(train['income'])\n",
    "ax[1,1].hist(y_train)\n",
    "plt.show()"
   ]
  },
  {
   "cell_type": "markdown",
   "metadata": {},
   "source": [
    "### Histogram of all variables along with target variable for testing data"
   ]
  },
  {
   "cell_type": "code",
   "execution_count": null,
   "metadata": {},
   "outputs": [],
   "source": [
    "# Create a histogram of all variables along with target variable for testing data\n",
    "\n",
    "fig, ax = plt.subplots(2,2)\n",
    "\n",
    "plt.suptitle('Histogram of all variables along with target variable for testing data')\n",
    "ax[0,0].hist(test['balance'])\n",
    "ax[0,1].hist(test['Student_yes'])\n",
    "ax[1,0].hist(test['income'])\n",
    "ax[1,1].hist(y_test)\n",
    "\n",
    "plt.show()"
   ]
  },
  {
   "cell_type": "markdown",
   "metadata": {},
   "source": [
    "### Scatter plot between Balance and Income for trainig data"
   ]
  },
  {
   "cell_type": "code",
   "execution_count": null,
   "metadata": {},
   "outputs": [],
   "source": [
    "# Create a scatter plot of the income vs. balance\n",
    "\n",
    "train.plot(x='balance',\n",
    "           y='income',\n",
    "           kind='scatter',\n",
    "           alpha=0.3)\n",
    "\n",
    "plt.ylim([0,80000])\n",
    "plt.xlim([0, 2800])\n",
    "\n",
    "plt.title(\"Scatter plot between Balance and Income for trainig data\")\n",
    "plt.xlabel(\"Balance\")\n",
    "plt.ylabel(\"Income\")\n",
    "\n",
    "plt.show()"
   ]
  },
  {
   "cell_type": "markdown",
   "metadata": {},
   "source": [
    "### Scatter plot between Balance and Income for Non-Default and Default trainig data"
   ]
  },
  {
   "cell_type": "code",
   "execution_count": null,
   "metadata": {},
   "outputs": [],
   "source": [
    "# Mark defaults with a different color and symbol\n",
    "train_nd = d[d.default == 0]\n",
    "train_d = d[d.default == 1]\n",
    "\n",
    "plt.figure()\n",
    "plt.scatter(train_nd.balance,\n",
    "            train_nd.income,\n",
    "            alpha = 0.5,\n",
    "            marker='+',\n",
    "            c='b')\n",
    "\n",
    "plt.scatter(train_d.balance,\n",
    "            train_d.income,\n",
    "            marker='o', \n",
    "            edgecolors='r',\n",
    "            facecolors='none')\n",
    "\n",
    "plt.ylim([0,80000])\n",
    "plt.xlim([0, 2800])\n",
    "\n",
    "plt.title(\"Scatter plot between Balance and Income for Non-Default and Default trainig data\")\n",
    "plt.xlabel(\"Balance\")\n",
    "plt.ylabel(\"Income\")\n",
    "\n",
    "plt.legend(('no default', 'default'),\n",
    "           loc='upper right')\n",
    "plt.show()\n",
    "# 6 - What can you infer from this plot?\n",
    "# It appears that the balance is more correlated with default than income"
   ]
  },
  {
   "cell_type": "markdown",
   "metadata": {},
   "source": [
    "### Part 2: Logistic Regression"
   ]
  },
  {
   "cell_type": "markdown",
   "metadata": {},
   "source": [
    "Run a logistic regression on the balance variable\n",
    "+ What are the beta values?"
   ]
  },
  {
   "cell_type": "code",
   "execution_count": null,
   "metadata": {},
   "outputs": [],
   "source": [
    "balance = LogisticRegression()\n",
    "balance.fit(train[['balance']],\n",
    "            y_train)\n",
    "\n",
    "B1 = balance.coef_[0][0]\n",
    "B0 = balance.intercept_[0]\n",
    "\n",
    "print('Coefficient and Intercept for LR fit between balance and default data are {}, {}'.format(B1, B0))"
   ]
  },
  {
   "cell_type": "markdown",
   "metadata": {},
   "source": [
    "Predict the probability of default for someone with a balance of \\\\$1.7k and \\\\$2.5k"
   ]
  },
  {
   "cell_type": "code",
   "execution_count": null,
   "metadata": {},
   "outputs": [],
   "source": [
    "pred_prob = balance.predict_proba(\n",
    "                pd.DataFrame({'balance': [1700, 2500]}))\n",
    "\n",
    "pred_class = balance.predict(\n",
    "                pd.DataFrame({'balance': [1700, 2500]}))\n",
    "\n",
    "print('Predicted Class and its probability for a balance of 1700 are {}, {}'.format(pred_class[0],\n",
    "                                                                                    pred_prob[0][0]))\n",
    "\n",
    "print('Predicted Class and its probability for a balance of 2500 are {}, {}'.format(pred_class[1],\n",
    "                                                                                    pred_prob[1][1]))"
   ]
  },
  {
   "cell_type": "markdown",
   "metadata": {},
   "source": [
    "What does beta mean?\n",
    "+ Let's create some plots to find out!"
   ]
  },
  {
   "cell_type": "code",
   "execution_count": null,
   "metadata": {},
   "outputs": [],
   "source": [
    "x = np.linspace(test.balance.min(), test.balance.max(),500)\n",
    "beta = [B0,B1]\n",
    "\n",
    "y = np.exp(beta[0] + beta[1]*x) / (1 + np.exp(beta[0] + beta[1]*x))\n",
    "odds = np.exp(beta[0] + beta[1]*x)\n",
    "log_odds = beta[0] + beta[1]*x"
   ]
  },
  {
   "cell_type": "code",
   "execution_count": null,
   "metadata": {},
   "outputs": [],
   "source": [
    "plt.figure(figsize=(7, 8))\n",
    "\n",
    "plt.subplot(311)\n",
    "plt.plot(x, y, 'r', linewidth=2)\n",
    "plt.ylabel('Probability')\n",
    "plt.text(500, 0.7, r'$\\frac{e^{\\beta_o + \\beta_1x}}{1+e^{\\beta_o + \\beta_1x}}$', fontsize=25)\n",
    "\n",
    "plt.subplot(312)\n",
    "plt.plot(x, odds, 'k', linewidth=2)\n",
    "plt.ylabel('Odds')\n",
    "plt.text(500, 10, r'$e^{\\beta_o + \\beta_1x}$', fontsize=20)\n",
    "\n",
    "plt.subplot(313)\n",
    "plt.plot(x, log_odds, 'c', linewidth=2)\n",
    "plt.ylabel('Log(Odds)')\n",
    "plt.xlabel('x')\n",
    "plt.text(500, 1, r'$\\beta_o + \\beta_1x$', fontsize=15)\n",
    "\n",
    "plt.show()\n"
   ]
  },
  {
   "cell_type": "code",
   "execution_count": null,
   "metadata": {},
   "outputs": [],
   "source": [
    "# Plot the fitted logistic function overtop of the data points\n",
    "plt.figure()\n",
    "plt.scatter(test.balance, y_test, alpha=0.1)\n",
    "plt.plot(x, y, 'r', linewidth=2)\n",
    "plt.xlabel(\"Balance\")\n",
    "plt.ylabel(\"Probability of Default\")\n",
    "plt.ylim([-0.05,1.05]); plt.xlim([0, 2800])\n",
    "plt.show()"
   ]
  },
  {
   "cell_type": "code",
   "execution_count": null,
   "metadata": {},
   "outputs": [],
   "source": [
    "# Create predictions using the balance model on the test set\n",
    "test['pred_class'] = balance.predict(test[['balance']])"
   ]
  }
 ],
 "metadata": {
  "kernelspec": {
   "display_name": "Python 3",
   "language": "python",
   "name": "python3"
  },
  "language_info": {
   "codemirror_mode": {
    "name": "ipython",
    "version": 3
   },
   "file_extension": ".py",
   "mimetype": "text/x-python",
   "name": "python",
   "nbconvert_exporter": "python",
   "pygments_lexer": "ipython3",
   "version": "3.7.0"
  }
 },
 "nbformat": 4,
 "nbformat_minor": 2
}
