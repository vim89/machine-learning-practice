{
 "cells": [
  {
   "cell_type": "markdown",
   "metadata": {},
   "source": [
    "# [Regression](https://en.wikipedia.org/wiki/Regression_analysis) \n",
    "   1. [seaborn plots](https://pypi.org/project/seaborn/) \n",
    "   2. [scikit_learn](http://scikit-learn.org/stable/) \n",
    "   3. [Scatter Plots](https://matplotlib.org/api/_as_gen/matplotlib.pyplot.scatter.html)\n",
    "   4. [Mean Square Error](http://scikit-learn.org/stable/modules/generated/sklearn.metrics.mean_squared_error.html)"
   ]
  },
  {
   "cell_type": "code",
   "execution_count": 1,
   "metadata": {},
   "outputs": [],
   "source": [
    "# import packages\n",
    "import numpy as np\n",
    "import pandas as pd\n",
    "import matplotlib.pyplot as plt\n",
    "from sklearn.model_selection import train_test_split"
   ]
  },
  {
   "cell_type": "code",
   "execution_count": 2,
   "metadata": {},
   "outputs": [],
   "source": [
    "# create a practice data set\n",
    "X0 = [    1,    1,    1,   1,     1]\n",
    "X1 = [3.385, 0.48, 1.35, 465, 36.33]\n",
    "\n",
    "# response\n",
    "Y0 = [ 44.5, 15.5,  8.1, 423, 119.5]  "
   ]
  },
  {
   "cell_type": "code",
   "execution_count": 3,
   "metadata": {},
   "outputs": [],
   "source": [
    "# arrange in the form Y = X*beta + epsilon\n",
    "X = np.matrix([X0, X1]).T\n",
    "Y = np.matrix(Y0).T"
   ]
  },
  {
   "cell_type": "markdown",
   "metadata": {},
   "source": [
    "$$y = X\\beta + \\epsilon$$"
   ]
  },
  {
   "cell_type": "code",
   "execution_count": 4,
   "metadata": {},
   "outputs": [],
   "source": [
    "# Estimate coefficients with matrix algebra\n",
    "# beta-hat = inverse(transpose(X)*X)*transpose(X)*Y \n",
    "step1 = X.T * X \n",
    "step2 = step1.I\n",
    "step3 = X.T * Y\n",
    "step4 = step2 * step3"
   ]
  },
  {
   "cell_type": "markdown",
   "metadata": {},
   "source": [
    "Steps:\n",
    "\n",
    "+ Step 1: $ X^{T}X$\n",
    "+ Step 2: $(X^{T}X)^{-1}$\n",
    "+ Step 3: $ X^{T}y $\n",
    "+ Step 4: $ (X^{T}X)^{-1}X^{T}y $\n"
   ]
  },
  {
   "cell_type": "code",
   "execution_count": 5,
   "metadata": {},
   "outputs": [
    {
     "name": "stdout",
     "output_type": "stream",
     "text": [
      "[[37.20089608]\n",
      " [ 0.83821876]]\n"
     ]
    }
   ],
   "source": [
    "# the estimates of the coefficients of X0 and X1\n",
    "beta_hat = (X.T * X).I * X.T * Y\n",
    "print(beta_hat)"
   ]
  },
  {
   "cell_type": "code",
   "execution_count": 6,
   "metadata": {},
   "outputs": [
    {
     "data": {
      "text/plain": [
       "<matplotlib.axes._subplots.AxesSubplot at 0x110b32780>"
      ]
     },
     "execution_count": 6,
     "metadata": {},
     "output_type": "execute_result"
    },
    {
     "data": {
      "image/png": "[encoded data removed]",
      "text/plain": [
       "<Figure size 432x288 with 1 Axes>"
      ]
     },
     "metadata": {},
     "output_type": "display_data"
    }
   ],
   "source": [
    "# Does that make sense?\n",
    "# How are the independent and dependent variables related?\n",
    "df = pd.DataFrame({'X':X1,\n",
    "                   'Y':Y0})\n",
    "\n",
    "# plot of X1 vs Y (similarly we can have for X0 vs Y)\n",
    "df.plot(kind='scatter',\n",
    "        x='X',\n",
    "        y='Y',\n",
    "        title='Scatterplot of X1 vs Y')"
   ]
  },
  {
   "cell_type": "code",
   "execution_count": 7,
   "metadata": {},
   "outputs": [
    {
     "data": {
      "text/html": [
       "<div>\n",
       "<style scoped>\n",
       "    .dataframe tbody tr th:only-of-type {\n",
       "        vertical-align: middle;\n",
       "    }\n",
       "\n",
       "    .dataframe tbody tr th {\n",
       "        vertical-align: top;\n",
       "    }\n",
       "\n",
       "    .dataframe thead th {\n",
       "        text-align: right;\n",
       "    }\n",
       "</style>\n",
       "<table border=\"1\" class=\"dataframe\">\n",
       "  <thead>\n",
       "    <tr style=\"text-align: right;\">\n",
       "      <th></th>\n",
       "      <th>X</th>\n",
       "      <th>Y</th>\n",
       "    </tr>\n",
       "  </thead>\n",
       "  <tbody>\n",
       "    <tr>\n",
       "      <th>X</th>\n",
       "      <td>1.000000</td>\n",
       "      <td>0.982791</td>\n",
       "    </tr>\n",
       "    <tr>\n",
       "      <th>Y</th>\n",
       "      <td>0.982791</td>\n",
       "      <td>1.000000</td>\n",
       "    </tr>\n",
       "  </tbody>\n",
       "</table>\n",
       "</div>"
      ],
      "text/plain": [
       "          X         Y\n",
       "X  1.000000  0.982791\n",
       "Y  0.982791  1.000000"
      ]
     },
     "execution_count": 7,
     "metadata": {},
     "output_type": "execute_result"
    }
   ],
   "source": [
    "# Correlation coefficient between \n",
    "# the independent and dependent variables\n",
    "\n",
    "np.corrcoef(df['X'],\n",
    "            df['Y'])\n",
    "df.corr() "
   ]
  },
  {
   "cell_type": "code",
   "execution_count": 8,
   "metadata": {},
   "outputs": [],
   "source": [
    "# Lets capture our predictions \n",
    "\n",
    "# model prediction\n",
    "df['Pred1'] = [37.20089608 + item * 0.83821876 for item in df['X']]"
   ]
  },
  {
   "cell_type": "code",
   "execution_count": 9,
   "metadata": {},
   "outputs": [],
   "source": [
    "# QUICK VISUALIZATION FUNCTION\n",
    "# required packages\n",
    "\n",
    "import seaborn as sns\n",
    "import matplotlib.pyplot as plt"
   ]
  },
  {
   "cell_type": "code",
   "execution_count": 10,
   "metadata": {},
   "outputs": [],
   "source": [
    "def corr_matrix(data):\n",
    "    '''\n",
    "    Plots a correlation heatmap for a given dataframe\n",
    "    '''\n",
    "    \n",
    "    sns.set(style=\"white\")\n",
    "    corr = data.corr()\n",
    "\n",
    "    # Generate a mask for the upper triangle\n",
    "    mask = np.zeros_like(corr, dtype=np.bool)\n",
    "    mask[np.triu_indices_from(mask)] = True\n",
    "\n",
    "    # Set up the matplotlib figure\n",
    "    f, ax = plt.subplots(figsize=(11, 9))\n",
    "\n",
    "    # Generate a custom diverging colormap\n",
    "    cmap = sns.diverging_palette(220, 10, as_cmap=True)\n",
    "\n",
    "    # Draw the heatmap with the mask and correct aspect ratio\n",
    "    sns.heatmap(corr, mask=mask, cmap=cmap, vmax=1, center=0,\n",
    "                square=True, linewidths=.5, cbar_kws={\"shrink\": .5})"
   ]
  },
  {
   "cell_type": "code",
   "execution_count": 12,
   "metadata": {},
   "outputs": [
    {
     "data": {
      "text/plain": [
       "'/Users/rcrouch/Desktop/mlg_02_us-master/day_2/code'"
      ]
     },
     "execution_count": 12,
     "metadata": {},
     "output_type": "execute_result"
    }
   ],
   "source": [
    "pwd()"
   ]
  },
  {
   "cell_type": "code",
   "execution_count": 13,
   "metadata": {},
   "outputs": [],
   "source": [
    "# Lets apply this to a real dataset\n",
    "adv = pd.read_csv('/Users/rcrouch/Desktop/mlg_02_us-master/day_2/data/Advertising.csv') #read dataset"
   ]
  },
  {
   "cell_type": "markdown",
   "metadata": {},
   "source": [
    "### YOU TRY! ESTIMATE COEFFICIENTS (5 min)\n",
    "+ Estimate the coefficients for a linear regression for input value \"TV\" and response value \"Sales\""
   ]
  },
  {
   "cell_type": "code",
   "execution_count": 14,
   "metadata": {},
   "outputs": [
    {
     "data": {
      "image/png": "[encoded data removed]",
      "text/plain": [
       "<Figure size 792x648 with 2 Axes>"
      ]
     },
     "metadata": {},
     "output_type": "display_data"
    }
   ],
   "source": [
    "corr_matrix(adv)"
   ]
  },
  {
   "cell_type": "code",
   "execution_count": 15,
   "metadata": {},
   "outputs": [
    {
     "name": "stdout",
     "output_type": "stream",
     "text": [
      "[[7.03259355]\n",
      " [0.04753664]]\n"
     ]
    }
   ],
   "source": [
    "X1 = adv['TV']\n",
    "X0 = np.ones(200)\n",
    "Y0 = adv['Sales']\n",
    "X = np.matrix([X0, X1]).T\n",
    "Y = np.matrix(Y0).T\n",
    "beta_hat = (X.T * X).I * X.T * Y\n",
    "print(beta_hat)"
   ]
  },
  {
   "cell_type": "code",
   "execution_count": 16,
   "metadata": {},
   "outputs": [
    {
     "data": {
      "text/plain": [
       "<matplotlib.axes._subplots.AxesSubplot at 0x1a1db97390>"
      ]
     },
     "execution_count": 16,
     "metadata": {},
     "output_type": "execute_result"
    },
    {
     "data": {
      "image/png": "[encoded data removed]",
      "text/plain": [
       "<Figure size 432x288 with 1 Axes>"
      ]
     },
     "metadata": {},
     "output_type": "display_data"
    }
   ],
   "source": [
    "# Lets capture our predictions \n",
    "adv['Pred1'] = [7.03259355 + item*0.04753664 for item in adv['TV']] # model prediction\n",
    "adv.plot(kind='scatter', x='TV', y='Sales',title='Scatterplot of TV vs Sales') # plot of X1 vs Y (similarly we can have for X0 vs Y)"
   ]
  },
  {
   "cell_type": "markdown",
   "metadata": {},
   "source": [
    "### Calculating $R^2$ AND Root Mean Squared Error (RMSE)"
   ]
  },
  {
   "cell_type": "code",
   "execution_count": 17,
   "metadata": {},
   "outputs": [
    {
     "name": "stdout",
     "output_type": "stream",
     "text": [
      "28.72739877755197\n"
     ]
    }
   ],
   "source": [
    "# First with our dummy dataset 'df'\n",
    "\n",
    "TSS = sum([(df['Y'].mean() - df.loc[n,'Y'])**2\n",
    "           for n in range(len(df))])\n",
    "\n",
    "RSS = sum([(df.loc[n,'Pred1'] - df.loc[n,'Y'])**2\n",
    "           for n in range(len(df))])\n",
    "\n",
    "R_SQU = 1 - (RSS / TSS)\n",
    "\n",
    "A_R_SQU = (1 - ((1 - R_SQU) * (len(df) - 1) \n",
    "           / (len(df) - 2 - 1)))\n",
    "\n",
    "RMSE = np.sqrt(\n",
    "            np.mean([(df.loc[n,'Pred1']\n",
    "                      - df.loc[n,'Y'])**2\n",
    "                     for n in range(len(df))]))\n",
    "\n",
    "print(RMSE)"
   ]
  },
  {
   "cell_type": "code",
   "execution_count": 18,
   "metadata": {},
   "outputs": [
    {
     "name": "stdout",
     "output_type": "stream",
     "text": [
      "--------|-Pred1-\n",
      " R_SQU  | 0.966 \n",
      "A_R_SQU | 0.9318 \n",
      "  RMSE  | 28.73 \n"
     ]
    }
   ],
   "source": [
    "# printing with rounding off upto 3, 4 and 2 decimal places. \n",
    "print('--------|-Pred1-')\n",
    "print(' R_SQU  | '+str(round(R_SQU, 3)) + ' ')\n",
    "print('A_R_SQU | '+str(round(A_R_SQU, 4)) + ' ')\n",
    "print('  RMSE  | '+str(round(RMSE, 2)) + ' ')\n"
   ]
  },
  {
   "cell_type": "markdown",
   "metadata": {},
   "source": [
    "### YOU TRY! EVALUATE OUR FIRST MODEL  (5 min)\n",
    "+  Use the Advertising dataset 'adv'"
   ]
  },
  {
   "cell_type": "code",
   "execution_count": 19,
   "metadata": {},
   "outputs": [
    {
     "name": "stdout",
     "output_type": "stream",
     "text": [
      "3.242322148654689\n"
     ]
    }
   ],
   "source": [
    "TSS = sum([(adv['Sales'].mean() - adv.loc[n,'Sales'])**2 for n in range(len(adv))]) \n",
    "RSS = sum([(adv.loc[n,'Pred1'] - adv.loc[n,'Sales'])**2 for n in range(len(adv))])\n",
    "R_SQU = 1 - (RSS / TSS)\n",
    "A_R_SQU = 1 - ((1-R_SQU)*(len(adv)-1)/(len(adv)-2-1))\n",
    "RMSE = np.sqrt(np.mean([(adv.loc[n,'Pred1'] - adv.loc[n,'Sales'])**2 for n in range(len(adv))]))\n",
    "print(RMSE)"
   ]
  },
  {
   "cell_type": "code",
   "execution_count": 20,
   "metadata": {},
   "outputs": [
    {
     "name": "stdout",
     "output_type": "stream",
     "text": [
      "--------|-Pred1-\n",
      " R_SQU  | 0.612 \n",
      "A_R_SQU | 0.6079 \n",
      "  RMSE  | 3.24 \n"
     ]
    }
   ],
   "source": [
    "# printing with rounding off upto 3, 4 and 2 decimal places. \n",
    "print('--------|-Pred1-')\n",
    "print(' R_SQU  | '+str(round(R_SQU,3))+' ')\n",
    "print('A_R_SQU | '+str(round(A_R_SQU,4))+' ')\n",
    "print('  RMSE  | '+str(round(RMSE,2))+' ')"
   ]
  },
  {
   "cell_type": "markdown",
   "metadata": {},
   "source": [
    "### YOU TRY! CREATE AND EVALUATE A NEW MODEL (10 min)\n",
    "+ How does this model compare to a model that includes the TV and newspaper variables?\n",
    "+ Create a model, and evaluate it's performance compared to the last one."
   ]
  },
  {
   "cell_type": "code",
   "execution_count": 21,
   "metadata": {},
   "outputs": [
    {
     "name": "stdout",
     "output_type": "stream",
     "text": [
      "[[5.77494797]\n",
      " [0.04690121]\n",
      " [0.04421942]]\n"
     ]
    }
   ],
   "source": [
    "X2 = adv['Newspaper']\n",
    "X = np.matrix([X0, X1, X2]).T\n",
    "beta_hat = (X.T * X).I * X.T * Y\n",
    "print(beta_hat)"
   ]
  },
  {
   "cell_type": "code",
   "execution_count": 22,
   "metadata": {},
   "outputs": [],
   "source": [
    "adv['Pred2'] = [5.77494797 + item*0.04690121 + item2*0.04421942 for item, item2 in zip(adv['TV'],adv['Newspaper'])] "
   ]
  },
  {
   "cell_type": "code",
   "execution_count": 23,
   "metadata": {},
   "outputs": [
    {
     "name": "stdout",
     "output_type": "stream",
     "text": [
      "3.0972260265412905\n"
     ]
    }
   ],
   "source": [
    "TSS2 = sum([(adv['Sales'].mean() - adv.loc[n,'Sales'])**2 for n in range(len(adv))]) \n",
    "RSS2 = sum([(adv.loc[n,'Pred2'] - adv.loc[n,'Sales'])**2 for n in range(len(adv))])\n",
    "R_SQU2 = 1 - (RSS2 / TSS2)\n",
    "A_R_SQU2 = 1 - ((1-R_SQU2)*(len(adv)-1)/(len(adv)-2-1))\n",
    "RMSE2 = np.sqrt(np.mean([(adv.loc[n,'Pred2'] - adv.loc[n,'Sales'])**2 for n in range(len(adv))]))\n",
    "print(RMSE2)"
   ]
  },
  {
   "cell_type": "code",
   "execution_count": 24,
   "metadata": {},
   "outputs": [
    {
     "name": "stdout",
     "output_type": "stream",
     "text": [
      "--------|-Pred1-\n",
      " R_SQU  | 0.646 \n",
      "A_R_SQU | 0.6422 \n",
      "  RMSE  | 3.1 \n"
     ]
    }
   ],
   "source": [
    "# printing with rounding off upto 3, 4 and 2 decimal places. \n",
    "print('--------|-Pred1-')\n",
    "print(' R_SQU  | '+str(round(R_SQU2,3))+' ')\n",
    "print('A_R_SQU | '+str(round(A_R_SQU2,4))+' ')\n",
    "print('  RMSE  | '+str(round(RMSE2,2))+' ')"
   ]
  },
  {
   "cell_type": "code",
   "execution_count": 25,
   "metadata": {},
   "outputs": [
    {
     "data": {
      "text/plain": [
       "Region\n",
       "1    14.023404\n",
       "2    14.600000\n",
       "3    13.898039\n",
       "4    13.568627\n",
       "Name: Sales, dtype: float64"
      ]
     },
     "execution_count": 25,
     "metadata": {},
     "output_type": "execute_result"
    }
   ],
   "source": [
    "# CREATING DUMMY VARIABLES\n",
    "# Is including region in your prediction likely to have an impact?\n",
    "adv.groupby('Region')['Sales'].mean()"
   ]
  },
  {
   "cell_type": "code",
   "execution_count": 26,
   "metadata": {},
   "outputs": [],
   "source": [
    "# Create new variables for each region\n",
    "region_dummies = pd.get_dummies(adv.Region, prefix='Region')"
   ]
  },
  {
   "cell_type": "code",
   "execution_count": 27,
   "metadata": {},
   "outputs": [],
   "source": [
    "# Keep all but one of them\n",
    "region_dummies = region_dummies.iloc[:, 1:]"
   ]
  },
  {
   "cell_type": "code",
   "execution_count": 28,
   "metadata": {},
   "outputs": [],
   "source": [
    "# Merge your dummy variables back onto your Advertising dataset\n",
    "adv = pd.concat([adv, region_dummies], axis=1)"
   ]
  },
  {
   "cell_type": "code",
   "execution_count": 29,
   "metadata": {},
   "outputs": [],
   "source": [
    "# create new feature 'Area', randomly assign as 'rural' or 'suburban' or 'urban'\n",
    "\n",
    "# random seeds ensure that results are consistant \n",
    "np.random.seed(12345)\n",
    "\n",
    "nums = np.random.rand(len(adv))\n",
    "mask_suburban = (nums > 0.33) & (nums < 0.66)\n",
    "mask_urban = nums > 0.66\n",
    "adv['Area'] = 'rural'\n",
    "adv.loc[mask_suburban, 'Area'] = 'suburban'\n",
    "adv.loc[mask_urban, 'Area'] = 'urban'"
   ]
  },
  {
   "cell_type": "markdown",
   "metadata": {},
   "source": [
    "### YOU TRY (5 min)\n",
    "+ Create dummy variables 'Area_suburban' and 'Area_urban'"
   ]
  },
  {
   "cell_type": "code",
   "execution_count": 30,
   "metadata": {},
   "outputs": [],
   "source": [
    "# Create new variables for each area\n",
    "area_dummies = pd.get_dummies(adv.Area, prefix='Area')"
   ]
  },
  {
   "cell_type": "code",
   "execution_count": 31,
   "metadata": {},
   "outputs": [],
   "source": [
    "# Keep all but one of them\n",
    "area_dummies = area_dummies.iloc[:, 1:]"
   ]
  },
  {
   "cell_type": "code",
   "execution_count": 32,
   "metadata": {},
   "outputs": [],
   "source": [
    "# Merge your dummy variables back onto your Advertising dataset\n",
    "adv = pd.concat([adv, area_dummies], axis=1)"
   ]
  },
  {
   "cell_type": "code",
   "execution_count": 33,
   "metadata": {},
   "outputs": [
    {
     "data": {
      "text/html": [
       "<div>\n",
       "<style scoped>\n",
       "    .dataframe tbody tr th:only-of-type {\n",
       "        vertical-align: middle;\n",
       "    }\n",
       "\n",
       "    .dataframe tbody tr th {\n",
       "        vertical-align: top;\n",
       "    }\n",
       "\n",
       "    .dataframe thead th {\n",
       "        text-align: right;\n",
       "    }\n",
       "</style>\n",
       "<table border=\"1\" class=\"dataframe\">\n",
       "  <thead>\n",
       "    <tr style=\"text-align: right;\">\n",
       "      <th></th>\n",
       "      <th>TV</th>\n",
       "      <th>Radio</th>\n",
       "      <th>Newspaper</th>\n",
       "      <th>Sales</th>\n",
       "      <th>Region</th>\n",
       "      <th>Pred1</th>\n",
       "      <th>Pred2</th>\n",
       "      <th>Region_2</th>\n",
       "      <th>Region_3</th>\n",
       "      <th>Region_4</th>\n",
       "      <th>Area</th>\n",
       "      <th>Area_suburban</th>\n",
       "      <th>Area_urban</th>\n",
       "    </tr>\n",
       "  </thead>\n",
       "  <tbody>\n",
       "    <tr>\n",
       "      <th>0</th>\n",
       "      <td>230.1</td>\n",
       "      <td>37.8</td>\n",
       "      <td>69.2</td>\n",
       "      <td>22.1</td>\n",
       "      <td>1</td>\n",
       "      <td>17.970774</td>\n",
       "      <td>19.626900</td>\n",
       "      <td>0</td>\n",
       "      <td>0</td>\n",
       "      <td>0</td>\n",
       "      <td>urban</td>\n",
       "      <td>0</td>\n",
       "      <td>1</td>\n",
       "    </tr>\n",
       "    <tr>\n",
       "      <th>1</th>\n",
       "      <td>44.5</td>\n",
       "      <td>39.3</td>\n",
       "      <td>45.1</td>\n",
       "      <td>10.4</td>\n",
       "      <td>1</td>\n",
       "      <td>9.147974</td>\n",
       "      <td>9.856348</td>\n",
       "      <td>0</td>\n",
       "      <td>0</td>\n",
       "      <td>0</td>\n",
       "      <td>rural</td>\n",
       "      <td>0</td>\n",
       "      <td>0</td>\n",
       "    </tr>\n",
       "    <tr>\n",
       "      <th>2</th>\n",
       "      <td>17.2</td>\n",
       "      <td>45.9</td>\n",
       "      <td>69.3</td>\n",
       "      <td>9.3</td>\n",
       "      <td>1</td>\n",
       "      <td>7.850224</td>\n",
       "      <td>9.646055</td>\n",
       "      <td>0</td>\n",
       "      <td>0</td>\n",
       "      <td>0</td>\n",
       "      <td>rural</td>\n",
       "      <td>0</td>\n",
       "      <td>0</td>\n",
       "    </tr>\n",
       "    <tr>\n",
       "      <th>3</th>\n",
       "      <td>151.5</td>\n",
       "      <td>41.3</td>\n",
       "      <td>58.5</td>\n",
       "      <td>18.5</td>\n",
       "      <td>1</td>\n",
       "      <td>14.234395</td>\n",
       "      <td>15.467317</td>\n",
       "      <td>0</td>\n",
       "      <td>0</td>\n",
       "      <td>0</td>\n",
       "      <td>rural</td>\n",
       "      <td>0</td>\n",
       "      <td>0</td>\n",
       "    </tr>\n",
       "    <tr>\n",
       "      <th>4</th>\n",
       "      <td>180.8</td>\n",
       "      <td>10.8</td>\n",
       "      <td>58.4</td>\n",
       "      <td>12.9</td>\n",
       "      <td>1</td>\n",
       "      <td>15.627218</td>\n",
       "      <td>16.837101</td>\n",
       "      <td>0</td>\n",
       "      <td>0</td>\n",
       "      <td>0</td>\n",
       "      <td>suburban</td>\n",
       "      <td>1</td>\n",
       "      <td>0</td>\n",
       "    </tr>\n",
       "  </tbody>\n",
       "</table>\n",
       "</div>"
      ],
      "text/plain": [
       "      TV  Radio  Newspaper  Sales  Region      Pred1      Pred2  Region_2  \\\n",
       "0  230.1   37.8       69.2   22.1       1  17.970774  19.626900         0   \n",
       "1   44.5   39.3       45.1   10.4       1   9.147974   9.856348         0   \n",
       "2   17.2   45.9       69.3    9.3       1   7.850224   9.646055         0   \n",
       "3  151.5   41.3       58.5   18.5       1  14.234395  15.467317         0   \n",
       "4  180.8   10.8       58.4   12.9       1  15.627218  16.837101         0   \n",
       "\n",
       "   Region_3  Region_4      Area  Area_suburban  Area_urban  \n",
       "0         0         0     urban              0           1  \n",
       "1         0         0     rural              0           0  \n",
       "2         0         0     rural              0           0  \n",
       "3         0         0     rural              0           0  \n",
       "4         0         0  suburban              1           0  "
      ]
     },
     "execution_count": 33,
     "metadata": {},
     "output_type": "execute_result"
    }
   ],
   "source": [
    "adv.head()"
   ]
  },
  {
   "cell_type": "markdown",
   "metadata": {},
   "source": [
    "### YOU TRY! CREATE A FUNCTION FOR OUR LINEAR REGRESSION MODEL (15 min)\n",
    "+ Use this function to quickly evaluate a few different combinations of variables\n",
    "+ Record your best model and compare to your prior models"
   ]
  },
  {
   "cell_type": "code",
   "execution_count": 34,
   "metadata": {},
   "outputs": [],
   "source": [
    "def lin_reg_beta(data, features, target):\n",
    "    data['constant'] = 1\n",
    "    features.insert(0,'constant')\n",
    "\n",
    "    X = np.matrix(data[features])\n",
    "    Y = np.matrix(data[target])\n",
    "\n",
    "    beta = (X.T * X).I * X.T * Y\n",
    "    return beta"
   ]
  },
  {
   "cell_type": "code",
   "execution_count": 35,
   "metadata": {},
   "outputs": [],
   "source": [
    "beta = lin_reg_beta(adv, ['TV','Radio','Newspaper','Region_2', 'Region_3', 'Region_4'], ['Sales'])"
   ]
  },
  {
   "cell_type": "code",
   "execution_count": 37,
   "metadata": {},
   "outputs": [],
   "source": [
    "def lin_reg_pred(data, features, beta): \n",
    "    data['constant'] = 1\n",
    "    features.insert(0,'constant')\n",
    "    \n",
    "    preds = []\n",
    "    for n in range(len(data)):\n",
    "        value = 0\n",
    "        for num, item in enumerate(features):\n",
    "            value += data.loc[n, item]*beta.tolist()[num][0]\n",
    "        preds.append(value)\n",
    "    return preds"
   ]
  },
  {
   "cell_type": "code",
   "execution_count": 38,
   "metadata": {},
   "outputs": [],
   "source": [
    "preds_3 = lin_reg_pred(adv, ['TV','Radio','Newspaper','Region_2', 'Region_3', 'Region_4'], beta)\n",
    "adv['pred3'] = preds_3"
   ]
  },
  {
   "cell_type": "code",
   "execution_count": 39,
   "metadata": {},
   "outputs": [],
   "source": [
    "def lin_reg_eval(data, target, pred):\n",
    "    TSS = sum([(data[target[0]].mean() - data.loc[n,target[0]])**2 for n in range(len(data))])\n",
    "    RSS = sum([(data.loc[n,pred[0]] - data.loc[n,target[0]])**2 for n in range(len(data))])\n",
    "    R_SQU = 1 - (RSS / TSS)\n",
    "    RMSE = np.sqrt(np.mean([(data.loc[n,pred[0]] - data.loc[n,target[0]])**2 for n in range(len(data))]))\n",
    "    return R_SQU, RMSE"
   ]
  },
  {
   "cell_type": "code",
   "execution_count": 40,
   "metadata": {},
   "outputs": [
    {
     "name": "stdout",
     "output_type": "stream",
     "text": [
      "0.8994897715572078 1.6499679669179734\n"
     ]
    }
   ],
   "source": [
    "R_SQU_3, RMSE_3 = lin_reg_eval(adv, ['Sales'], ['pred3'])\n",
    "print(R_SQU_3, RMSE_3)"
   ]
  },
  {
   "cell_type": "code",
   "execution_count": null,
   "metadata": {},
   "outputs": [],
   "source": []
  }
 ],
 "metadata": {
  "kernelspec": {
   "display_name": "Python [default]",
   "language": "python",
   "name": "python3"
  },
  "language_info": {
   "codemirror_mode": {
    "name": "ipython",
    "version": 3
   },
   "file_extension": ".py",
   "mimetype": "text/x-python",
   "name": "python",
   "nbconvert_exporter": "python",
   "pygments_lexer": "ipython3",
   "version": "3.6.5"
  }
 },
 "nbformat": 4,
 "nbformat_minor": 2
}
